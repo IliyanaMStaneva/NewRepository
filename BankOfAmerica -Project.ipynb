{
 "cells": [
  {
   "cell_type": "markdown",
   "metadata": {
    "id": "KJLkJD919Zmt"
   },
   "source": [
    "**Data dictionary**"
   ]
  },
  {
   "cell_type": "markdown",
   "metadata": {
    "id": "2SnLDt8y9Zmv"
   },
   "source": [
    "<font color='blue'><b>- Features V1, V2, … V28 : principal components obtained with PCA due to confidentiality <br>\n",
    "<font color='blue'><b>- Time : contains the seconds elapsed between each transaction and the first transaction in the dataset<br> \n",
    "<font color='blue'><b>- Amount: transaction Amount <br> \n",
    "<font color='blue'><b>- Class: 1 in case of fraud and 0 otherwise"
   ]
  },
  {
   "cell_type": "markdown",
   "metadata": {
    "id": "RfIgvxgs9Zmv"
   },
   "source": [
    "**Importing basic libraries**"
   ]
  },
  {
   "cell_type": "code",
   "execution_count": null,
   "metadata": {
    "id": "3QKk1LTJ9Zmw"
   },
   "outputs": [],
   "source": [
    "import numpy as np\n",
    "import matplotlib.pyplot as plt\n",
    "import pandas as pd\n",
    "import seaborn as sns\n",
    "import warnings\n",
    "warnings.filterwarnings(\"ignore\")"
   ]
  },
  {
   "cell_type": "markdown",
   "metadata": {
    "id": "21kndHt_9Zmw"
   },
   "source": [
    "**Read data**"
   ]
  },
  {
   "cell_type": "code",
   "execution_count": null,
   "metadata": {
    "id": "zUIDZr979Zmw"
   },
   "outputs": [],
   "source": [
    "df = pd.read_csv('BankOfAmerica.csv')"
   ]
  },
  {
   "cell_type": "markdown",
   "metadata": {
    "id": "boh2tOWw9Zmx"
   },
   "source": [
    "### 1. Getting familiar with the data"
   ]
  },
  {
   "cell_type": "markdown",
   "metadata": {
    "id": "YDV0PMZr9Zmx"
   },
   "source": [
    "**Peak the data frame**"
   ]
  },
  {
   "cell_type": "code",
   "execution_count": null,
   "metadata": {
    "id": "vsJt1auE9Zmx",
    "outputId": "08df1a58-eaa2-4b04-97fd-d206b7f0ecba"
   },
   "outputs": [
    {
     "data": {
      "text/html": [
       "<div>\n",
       "<style scoped>\n",
       "    .dataframe tbody tr th:only-of-type {\n",
       "        vertical-align: middle;\n",
       "    }\n",
       "\n",
       "    .dataframe tbody tr th {\n",
       "        vertical-align: top;\n",
       "    }\n",
       "\n",
       "    .dataframe thead th {\n",
       "        text-align: right;\n",
       "    }\n",
       "</style>\n",
       "<table border=\"1\" class=\"dataframe\">\n",
       "  <thead>\n",
       "    <tr style=\"text-align: right;\">\n",
       "      <th></th>\n",
       "      <th>Time</th>\n",
       "      <th>V1</th>\n",
       "      <th>V2</th>\n",
       "      <th>V3</th>\n",
       "      <th>V4</th>\n",
       "      <th>V5</th>\n",
       "      <th>V6</th>\n",
       "      <th>V7</th>\n",
       "      <th>V8</th>\n",
       "      <th>V9</th>\n",
       "      <th>...</th>\n",
       "      <th>V21</th>\n",
       "      <th>V22</th>\n",
       "      <th>V23</th>\n",
       "      <th>V24</th>\n",
       "      <th>V25</th>\n",
       "      <th>V26</th>\n",
       "      <th>V27</th>\n",
       "      <th>V28</th>\n",
       "      <th>Amount</th>\n",
       "      <th>Class</th>\n",
       "    </tr>\n",
       "  </thead>\n",
       "  <tbody>\n",
       "    <tr>\n",
       "      <th>0</th>\n",
       "      <td>0.0</td>\n",
       "      <td>-1.359807</td>\n",
       "      <td>-0.072781</td>\n",
       "      <td>2.536347</td>\n",
       "      <td>1.378155</td>\n",
       "      <td>-0.338321</td>\n",
       "      <td>0.462388</td>\n",
       "      <td>0.239599</td>\n",
       "      <td>0.098698</td>\n",
       "      <td>0.363787</td>\n",
       "      <td>...</td>\n",
       "      <td>-0.018307</td>\n",
       "      <td>0.277838</td>\n",
       "      <td>-0.110474</td>\n",
       "      <td>0.066928</td>\n",
       "      <td>0.128539</td>\n",
       "      <td>-0.189115</td>\n",
       "      <td>0.133558</td>\n",
       "      <td>-0.021053</td>\n",
       "      <td>149.62</td>\n",
       "      <td>0</td>\n",
       "    </tr>\n",
       "    <tr>\n",
       "      <th>1</th>\n",
       "      <td>0.0</td>\n",
       "      <td>1.191857</td>\n",
       "      <td>0.266151</td>\n",
       "      <td>0.166480</td>\n",
       "      <td>0.448154</td>\n",
       "      <td>0.060018</td>\n",
       "      <td>-0.082361</td>\n",
       "      <td>-0.078803</td>\n",
       "      <td>0.085102</td>\n",
       "      <td>-0.255425</td>\n",
       "      <td>...</td>\n",
       "      <td>-0.225775</td>\n",
       "      <td>-0.638672</td>\n",
       "      <td>0.101288</td>\n",
       "      <td>-0.339846</td>\n",
       "      <td>0.167170</td>\n",
       "      <td>0.125895</td>\n",
       "      <td>-0.008983</td>\n",
       "      <td>0.014724</td>\n",
       "      <td>2.69</td>\n",
       "      <td>0</td>\n",
       "    </tr>\n",
       "    <tr>\n",
       "      <th>2</th>\n",
       "      <td>1.0</td>\n",
       "      <td>-1.358354</td>\n",
       "      <td>-1.340163</td>\n",
       "      <td>1.773209</td>\n",
       "      <td>0.379780</td>\n",
       "      <td>-0.503198</td>\n",
       "      <td>1.800499</td>\n",
       "      <td>0.791461</td>\n",
       "      <td>0.247676</td>\n",
       "      <td>-1.514654</td>\n",
       "      <td>...</td>\n",
       "      <td>0.247998</td>\n",
       "      <td>0.771679</td>\n",
       "      <td>0.909412</td>\n",
       "      <td>-0.689281</td>\n",
       "      <td>-0.327642</td>\n",
       "      <td>-0.139097</td>\n",
       "      <td>-0.055353</td>\n",
       "      <td>-0.059752</td>\n",
       "      <td>378.66</td>\n",
       "      <td>0</td>\n",
       "    </tr>\n",
       "    <tr>\n",
       "      <th>3</th>\n",
       "      <td>1.0</td>\n",
       "      <td>-0.966272</td>\n",
       "      <td>-0.185226</td>\n",
       "      <td>1.792993</td>\n",
       "      <td>-0.863291</td>\n",
       "      <td>-0.010309</td>\n",
       "      <td>1.247203</td>\n",
       "      <td>0.237609</td>\n",
       "      <td>0.377436</td>\n",
       "      <td>-1.387024</td>\n",
       "      <td>...</td>\n",
       "      <td>-0.108300</td>\n",
       "      <td>0.005274</td>\n",
       "      <td>-0.190321</td>\n",
       "      <td>-1.175575</td>\n",
       "      <td>0.647376</td>\n",
       "      <td>-0.221929</td>\n",
       "      <td>0.062723</td>\n",
       "      <td>0.061458</td>\n",
       "      <td>123.50</td>\n",
       "      <td>0</td>\n",
       "    </tr>\n",
       "    <tr>\n",
       "      <th>4</th>\n",
       "      <td>2.0</td>\n",
       "      <td>-1.158233</td>\n",
       "      <td>0.877737</td>\n",
       "      <td>1.548718</td>\n",
       "      <td>0.403034</td>\n",
       "      <td>-0.407193</td>\n",
       "      <td>0.095921</td>\n",
       "      <td>0.592941</td>\n",
       "      <td>-0.270533</td>\n",
       "      <td>0.817739</td>\n",
       "      <td>...</td>\n",
       "      <td>-0.009431</td>\n",
       "      <td>0.798278</td>\n",
       "      <td>-0.137458</td>\n",
       "      <td>0.141267</td>\n",
       "      <td>-0.206010</td>\n",
       "      <td>0.502292</td>\n",
       "      <td>0.219422</td>\n",
       "      <td>0.215153</td>\n",
       "      <td>69.99</td>\n",
       "      <td>0</td>\n",
       "    </tr>\n",
       "  </tbody>\n",
       "</table>\n",
       "<p>5 rows × 31 columns</p>\n",
       "</div>"
      ],
      "text/plain": [
       "   Time        V1        V2        V3        V4        V5        V6        V7  \\\n",
       "0   0.0 -1.359807 -0.072781  2.536347  1.378155 -0.338321  0.462388  0.239599   \n",
       "1   0.0  1.191857  0.266151  0.166480  0.448154  0.060018 -0.082361 -0.078803   \n",
       "2   1.0 -1.358354 -1.340163  1.773209  0.379780 -0.503198  1.800499  0.791461   \n",
       "3   1.0 -0.966272 -0.185226  1.792993 -0.863291 -0.010309  1.247203  0.237609   \n",
       "4   2.0 -1.158233  0.877737  1.548718  0.403034 -0.407193  0.095921  0.592941   \n",
       "\n",
       "         V8        V9  ...       V21       V22       V23       V24       V25  \\\n",
       "0  0.098698  0.363787  ... -0.018307  0.277838 -0.110474  0.066928  0.128539   \n",
       "1  0.085102 -0.255425  ... -0.225775 -0.638672  0.101288 -0.339846  0.167170   \n",
       "2  0.247676 -1.514654  ...  0.247998  0.771679  0.909412 -0.689281 -0.327642   \n",
       "3  0.377436 -1.387024  ... -0.108300  0.005274 -0.190321 -1.175575  0.647376   \n",
       "4 -0.270533  0.817739  ... -0.009431  0.798278 -0.137458  0.141267 -0.206010   \n",
       "\n",
       "        V26       V27       V28  Amount  Class  \n",
       "0 -0.189115  0.133558 -0.021053  149.62      0  \n",
       "1  0.125895 -0.008983  0.014724    2.69      0  \n",
       "2 -0.139097 -0.055353 -0.059752  378.66      0  \n",
       "3 -0.221929  0.062723  0.061458  123.50      0  \n",
       "4  0.502292  0.219422  0.215153   69.99      0  \n",
       "\n",
       "[5 rows x 31 columns]"
      ]
     },
     "execution_count": 3,
     "metadata": {},
     "output_type": "execute_result"
    }
   ],
   "source": [
    "df.head()"
   ]
  },
  {
   "cell_type": "markdown",
   "metadata": {
    "id": "FwrqubFs9Zmy"
   },
   "source": [
    "**Data frame info**"
   ]
  },
  {
   "cell_type": "code",
   "execution_count": null,
   "metadata": {
    "id": "tFrZRi3v9Zmy",
    "outputId": "cb4fac71-cc66-43b4-b402-6bd87d2c9c85"
   },
   "outputs": [
    {
     "name": "stdout",
     "output_type": "stream",
     "text": [
      "<class 'pandas.core.frame.DataFrame'>\n",
      "RangeIndex: 284807 entries, 0 to 284806\n",
      "Data columns (total 31 columns):\n",
      " #   Column  Non-Null Count   Dtype  \n",
      "---  ------  --------------   -----  \n",
      " 0   Time    284807 non-null  float64\n",
      " 1   V1      284807 non-null  float64\n",
      " 2   V2      284807 non-null  float64\n",
      " 3   V3      284807 non-null  float64\n",
      " 4   V4      284807 non-null  float64\n",
      " 5   V5      284807 non-null  float64\n",
      " 6   V6      284807 non-null  float64\n",
      " 7   V7      284807 non-null  float64\n",
      " 8   V8      284807 non-null  float64\n",
      " 9   V9      284807 non-null  float64\n",
      " 10  V10     284807 non-null  float64\n",
      " 11  V11     284807 non-null  float64\n",
      " 12  V12     284807 non-null  float64\n",
      " 13  V13     284807 non-null  float64\n",
      " 14  V14     284807 non-null  float64\n",
      " 15  V15     284807 non-null  float64\n",
      " 16  V16     284807 non-null  float64\n",
      " 17  V17     284807 non-null  float64\n",
      " 18  V18     284807 non-null  float64\n",
      " 19  V19     284807 non-null  float64\n",
      " 20  V20     284807 non-null  float64\n",
      " 21  V21     284807 non-null  float64\n",
      " 22  V22     284807 non-null  float64\n",
      " 23  V23     284807 non-null  float64\n",
      " 24  V24     284807 non-null  float64\n",
      " 25  V25     284807 non-null  float64\n",
      " 26  V26     284807 non-null  float64\n",
      " 27  V27     284807 non-null  float64\n",
      " 28  V28     284807 non-null  float64\n",
      " 29  Amount  284807 non-null  float64\n",
      " 30  Class   284807 non-null  int64  \n",
      "dtypes: float64(30), int64(1)\n",
      "memory usage: 67.4 MB\n"
     ]
    }
   ],
   "source": [
    "df.info()"
   ]
  },
  {
   "cell_type": "markdown",
   "metadata": {
    "id": "B97ULekn9Zmz"
   },
   "source": [
    "**Basic stats descriptive statistics (mean, median, min, max, standard deviation) for each field**"
   ]
  },
  {
   "cell_type": "code",
   "execution_count": null,
   "metadata": {
    "id": "rce_IBe29Zmz",
    "outputId": "c467d087-e717-4643-b3a3-3186a9018c60"
   },
   "outputs": [
    {
     "data": {
      "text/html": [
       "<div>\n",
       "<style scoped>\n",
       "    .dataframe tbody tr th:only-of-type {\n",
       "        vertical-align: middle;\n",
       "    }\n",
       "\n",
       "    .dataframe tbody tr th {\n",
       "        vertical-align: top;\n",
       "    }\n",
       "\n",
       "    .dataframe thead th {\n",
       "        text-align: right;\n",
       "    }\n",
       "</style>\n",
       "<table border=\"1\" class=\"dataframe\">\n",
       "  <thead>\n",
       "    <tr style=\"text-align: right;\">\n",
       "      <th></th>\n",
       "      <th>Time</th>\n",
       "      <th>V1</th>\n",
       "      <th>V2</th>\n",
       "      <th>V3</th>\n",
       "      <th>V4</th>\n",
       "      <th>V5</th>\n",
       "      <th>V6</th>\n",
       "      <th>V7</th>\n",
       "      <th>V8</th>\n",
       "      <th>V9</th>\n",
       "      <th>...</th>\n",
       "      <th>V21</th>\n",
       "      <th>V22</th>\n",
       "      <th>V23</th>\n",
       "      <th>V24</th>\n",
       "      <th>V25</th>\n",
       "      <th>V26</th>\n",
       "      <th>V27</th>\n",
       "      <th>V28</th>\n",
       "      <th>Amount</th>\n",
       "      <th>Class</th>\n",
       "    </tr>\n",
       "  </thead>\n",
       "  <tbody>\n",
       "    <tr>\n",
       "      <th>count</th>\n",
       "      <td>284807.000000</td>\n",
       "      <td>2.848070e+05</td>\n",
       "      <td>2.848070e+05</td>\n",
       "      <td>2.848070e+05</td>\n",
       "      <td>2.848070e+05</td>\n",
       "      <td>2.848070e+05</td>\n",
       "      <td>2.848070e+05</td>\n",
       "      <td>2.848070e+05</td>\n",
       "      <td>2.848070e+05</td>\n",
       "      <td>2.848070e+05</td>\n",
       "      <td>...</td>\n",
       "      <td>2.848070e+05</td>\n",
       "      <td>2.848070e+05</td>\n",
       "      <td>2.848070e+05</td>\n",
       "      <td>2.848070e+05</td>\n",
       "      <td>2.848070e+05</td>\n",
       "      <td>2.848070e+05</td>\n",
       "      <td>2.848070e+05</td>\n",
       "      <td>2.848070e+05</td>\n",
       "      <td>284807.000000</td>\n",
       "      <td>284807.000000</td>\n",
       "    </tr>\n",
       "    <tr>\n",
       "      <th>mean</th>\n",
       "      <td>94813.859575</td>\n",
       "      <td>3.919560e-15</td>\n",
       "      <td>5.688174e-16</td>\n",
       "      <td>-8.769071e-15</td>\n",
       "      <td>2.782312e-15</td>\n",
       "      <td>-1.552563e-15</td>\n",
       "      <td>2.010663e-15</td>\n",
       "      <td>-1.694249e-15</td>\n",
       "      <td>-1.927028e-16</td>\n",
       "      <td>-3.137024e-15</td>\n",
       "      <td>...</td>\n",
       "      <td>1.537294e-16</td>\n",
       "      <td>7.959909e-16</td>\n",
       "      <td>5.367590e-16</td>\n",
       "      <td>4.458112e-15</td>\n",
       "      <td>1.453003e-15</td>\n",
       "      <td>1.699104e-15</td>\n",
       "      <td>-3.660161e-16</td>\n",
       "      <td>-1.206049e-16</td>\n",
       "      <td>88.349619</td>\n",
       "      <td>0.001727</td>\n",
       "    </tr>\n",
       "    <tr>\n",
       "      <th>std</th>\n",
       "      <td>47488.145955</td>\n",
       "      <td>1.958696e+00</td>\n",
       "      <td>1.651309e+00</td>\n",
       "      <td>1.516255e+00</td>\n",
       "      <td>1.415869e+00</td>\n",
       "      <td>1.380247e+00</td>\n",
       "      <td>1.332271e+00</td>\n",
       "      <td>1.237094e+00</td>\n",
       "      <td>1.194353e+00</td>\n",
       "      <td>1.098632e+00</td>\n",
       "      <td>...</td>\n",
       "      <td>7.345240e-01</td>\n",
       "      <td>7.257016e-01</td>\n",
       "      <td>6.244603e-01</td>\n",
       "      <td>6.056471e-01</td>\n",
       "      <td>5.212781e-01</td>\n",
       "      <td>4.822270e-01</td>\n",
       "      <td>4.036325e-01</td>\n",
       "      <td>3.300833e-01</td>\n",
       "      <td>250.120109</td>\n",
       "      <td>0.041527</td>\n",
       "    </tr>\n",
       "    <tr>\n",
       "      <th>min</th>\n",
       "      <td>0.000000</td>\n",
       "      <td>-5.640751e+01</td>\n",
       "      <td>-7.271573e+01</td>\n",
       "      <td>-4.832559e+01</td>\n",
       "      <td>-5.683171e+00</td>\n",
       "      <td>-1.137433e+02</td>\n",
       "      <td>-2.616051e+01</td>\n",
       "      <td>-4.355724e+01</td>\n",
       "      <td>-7.321672e+01</td>\n",
       "      <td>-1.343407e+01</td>\n",
       "      <td>...</td>\n",
       "      <td>-3.483038e+01</td>\n",
       "      <td>-1.093314e+01</td>\n",
       "      <td>-4.480774e+01</td>\n",
       "      <td>-2.836627e+00</td>\n",
       "      <td>-1.029540e+01</td>\n",
       "      <td>-2.604551e+00</td>\n",
       "      <td>-2.256568e+01</td>\n",
       "      <td>-1.543008e+01</td>\n",
       "      <td>0.000000</td>\n",
       "      <td>0.000000</td>\n",
       "    </tr>\n",
       "    <tr>\n",
       "      <th>25%</th>\n",
       "      <td>54201.500000</td>\n",
       "      <td>-9.203734e-01</td>\n",
       "      <td>-5.985499e-01</td>\n",
       "      <td>-8.903648e-01</td>\n",
       "      <td>-8.486401e-01</td>\n",
       "      <td>-6.915971e-01</td>\n",
       "      <td>-7.682956e-01</td>\n",
       "      <td>-5.540759e-01</td>\n",
       "      <td>-2.086297e-01</td>\n",
       "      <td>-6.430976e-01</td>\n",
       "      <td>...</td>\n",
       "      <td>-2.283949e-01</td>\n",
       "      <td>-5.423504e-01</td>\n",
       "      <td>-1.618463e-01</td>\n",
       "      <td>-3.545861e-01</td>\n",
       "      <td>-3.171451e-01</td>\n",
       "      <td>-3.269839e-01</td>\n",
       "      <td>-7.083953e-02</td>\n",
       "      <td>-5.295979e-02</td>\n",
       "      <td>5.600000</td>\n",
       "      <td>0.000000</td>\n",
       "    </tr>\n",
       "    <tr>\n",
       "      <th>50%</th>\n",
       "      <td>84692.000000</td>\n",
       "      <td>1.810880e-02</td>\n",
       "      <td>6.548556e-02</td>\n",
       "      <td>1.798463e-01</td>\n",
       "      <td>-1.984653e-02</td>\n",
       "      <td>-5.433583e-02</td>\n",
       "      <td>-2.741871e-01</td>\n",
       "      <td>4.010308e-02</td>\n",
       "      <td>2.235804e-02</td>\n",
       "      <td>-5.142873e-02</td>\n",
       "      <td>...</td>\n",
       "      <td>-2.945017e-02</td>\n",
       "      <td>6.781943e-03</td>\n",
       "      <td>-1.119293e-02</td>\n",
       "      <td>4.097606e-02</td>\n",
       "      <td>1.659350e-02</td>\n",
       "      <td>-5.213911e-02</td>\n",
       "      <td>1.342146e-03</td>\n",
       "      <td>1.124383e-02</td>\n",
       "      <td>22.000000</td>\n",
       "      <td>0.000000</td>\n",
       "    </tr>\n",
       "    <tr>\n",
       "      <th>75%</th>\n",
       "      <td>139320.500000</td>\n",
       "      <td>1.315642e+00</td>\n",
       "      <td>8.037239e-01</td>\n",
       "      <td>1.027196e+00</td>\n",
       "      <td>7.433413e-01</td>\n",
       "      <td>6.119264e-01</td>\n",
       "      <td>3.985649e-01</td>\n",
       "      <td>5.704361e-01</td>\n",
       "      <td>3.273459e-01</td>\n",
       "      <td>5.971390e-01</td>\n",
       "      <td>...</td>\n",
       "      <td>1.863772e-01</td>\n",
       "      <td>5.285536e-01</td>\n",
       "      <td>1.476421e-01</td>\n",
       "      <td>4.395266e-01</td>\n",
       "      <td>3.507156e-01</td>\n",
       "      <td>2.409522e-01</td>\n",
       "      <td>9.104512e-02</td>\n",
       "      <td>7.827995e-02</td>\n",
       "      <td>77.165000</td>\n",
       "      <td>0.000000</td>\n",
       "    </tr>\n",
       "    <tr>\n",
       "      <th>max</th>\n",
       "      <td>172792.000000</td>\n",
       "      <td>2.454930e+00</td>\n",
       "      <td>2.205773e+01</td>\n",
       "      <td>9.382558e+00</td>\n",
       "      <td>1.687534e+01</td>\n",
       "      <td>3.480167e+01</td>\n",
       "      <td>7.330163e+01</td>\n",
       "      <td>1.205895e+02</td>\n",
       "      <td>2.000721e+01</td>\n",
       "      <td>1.559499e+01</td>\n",
       "      <td>...</td>\n",
       "      <td>2.720284e+01</td>\n",
       "      <td>1.050309e+01</td>\n",
       "      <td>2.252841e+01</td>\n",
       "      <td>4.584549e+00</td>\n",
       "      <td>7.519589e+00</td>\n",
       "      <td>3.517346e+00</td>\n",
       "      <td>3.161220e+01</td>\n",
       "      <td>3.384781e+01</td>\n",
       "      <td>25691.160000</td>\n",
       "      <td>1.000000</td>\n",
       "    </tr>\n",
       "  </tbody>\n",
       "</table>\n",
       "<p>8 rows × 31 columns</p>\n",
       "</div>"
      ],
      "text/plain": [
       "                Time            V1            V2            V3            V4  \\\n",
       "count  284807.000000  2.848070e+05  2.848070e+05  2.848070e+05  2.848070e+05   \n",
       "mean    94813.859575  3.919560e-15  5.688174e-16 -8.769071e-15  2.782312e-15   \n",
       "std     47488.145955  1.958696e+00  1.651309e+00  1.516255e+00  1.415869e+00   \n",
       "min         0.000000 -5.640751e+01 -7.271573e+01 -4.832559e+01 -5.683171e+00   \n",
       "25%     54201.500000 -9.203734e-01 -5.985499e-01 -8.903648e-01 -8.486401e-01   \n",
       "50%     84692.000000  1.810880e-02  6.548556e-02  1.798463e-01 -1.984653e-02   \n",
       "75%    139320.500000  1.315642e+00  8.037239e-01  1.027196e+00  7.433413e-01   \n",
       "max    172792.000000  2.454930e+00  2.205773e+01  9.382558e+00  1.687534e+01   \n",
       "\n",
       "                 V5            V6            V7            V8            V9  \\\n",
       "count  2.848070e+05  2.848070e+05  2.848070e+05  2.848070e+05  2.848070e+05   \n",
       "mean  -1.552563e-15  2.010663e-15 -1.694249e-15 -1.927028e-16 -3.137024e-15   \n",
       "std    1.380247e+00  1.332271e+00  1.237094e+00  1.194353e+00  1.098632e+00   \n",
       "min   -1.137433e+02 -2.616051e+01 -4.355724e+01 -7.321672e+01 -1.343407e+01   \n",
       "25%   -6.915971e-01 -7.682956e-01 -5.540759e-01 -2.086297e-01 -6.430976e-01   \n",
       "50%   -5.433583e-02 -2.741871e-01  4.010308e-02  2.235804e-02 -5.142873e-02   \n",
       "75%    6.119264e-01  3.985649e-01  5.704361e-01  3.273459e-01  5.971390e-01   \n",
       "max    3.480167e+01  7.330163e+01  1.205895e+02  2.000721e+01  1.559499e+01   \n",
       "\n",
       "       ...           V21           V22           V23           V24  \\\n",
       "count  ...  2.848070e+05  2.848070e+05  2.848070e+05  2.848070e+05   \n",
       "mean   ...  1.537294e-16  7.959909e-16  5.367590e-16  4.458112e-15   \n",
       "std    ...  7.345240e-01  7.257016e-01  6.244603e-01  6.056471e-01   \n",
       "min    ... -3.483038e+01 -1.093314e+01 -4.480774e+01 -2.836627e+00   \n",
       "25%    ... -2.283949e-01 -5.423504e-01 -1.618463e-01 -3.545861e-01   \n",
       "50%    ... -2.945017e-02  6.781943e-03 -1.119293e-02  4.097606e-02   \n",
       "75%    ...  1.863772e-01  5.285536e-01  1.476421e-01  4.395266e-01   \n",
       "max    ...  2.720284e+01  1.050309e+01  2.252841e+01  4.584549e+00   \n",
       "\n",
       "                V25           V26           V27           V28         Amount  \\\n",
       "count  2.848070e+05  2.848070e+05  2.848070e+05  2.848070e+05  284807.000000   \n",
       "mean   1.453003e-15  1.699104e-15 -3.660161e-16 -1.206049e-16      88.349619   \n",
       "std    5.212781e-01  4.822270e-01  4.036325e-01  3.300833e-01     250.120109   \n",
       "min   -1.029540e+01 -2.604551e+00 -2.256568e+01 -1.543008e+01       0.000000   \n",
       "25%   -3.171451e-01 -3.269839e-01 -7.083953e-02 -5.295979e-02       5.600000   \n",
       "50%    1.659350e-02 -5.213911e-02  1.342146e-03  1.124383e-02      22.000000   \n",
       "75%    3.507156e-01  2.409522e-01  9.104512e-02  7.827995e-02      77.165000   \n",
       "max    7.519589e+00  3.517346e+00  3.161220e+01  3.384781e+01   25691.160000   \n",
       "\n",
       "               Class  \n",
       "count  284807.000000  \n",
       "mean        0.001727  \n",
       "std         0.041527  \n",
       "min         0.000000  \n",
       "25%         0.000000  \n",
       "50%         0.000000  \n",
       "75%         0.000000  \n",
       "max         1.000000  \n",
       "\n",
       "[8 rows x 31 columns]"
      ]
     },
     "execution_count": 5,
     "metadata": {},
     "output_type": "execute_result"
    }
   ],
   "source": [
    "df.describe()"
   ]
  },
  {
   "cell_type": "markdown",
   "metadata": {
    "id": "Ict0TnvY9Zmz"
   },
   "source": [
    "**Check for missing values**"
   ]
  },
  {
   "cell_type": "code",
   "execution_count": null,
   "metadata": {
    "id": "BaAbOhnb9Zmz",
    "outputId": "34549b19-2f27-404b-ffbb-10d537532ced"
   },
   "outputs": [
    {
     "data": {
      "text/plain": [
       "0"
      ]
     },
     "execution_count": 79,
     "metadata": {},
     "output_type": "execute_result"
    }
   ],
   "source": [
    "df.isnull().sum().sum()"
   ]
  },
  {
   "cell_type": "code",
   "execution_count": null,
   "metadata": {
    "id": "CSCpzYJo9Zm0",
    "outputId": "55e8eb4e-8852-49ea-d446-219ba76d05f6"
   },
   "outputs": [
    {
     "data": {
      "text/plain": [
       "<AxesSubplot:>"
      ]
     },
     "execution_count": 7,
     "metadata": {},
     "output_type": "execute_result"
    },
    {
     "data": {
      "image/png": "[encoded data removed]",
      "text/plain": [
       "<Figure size 864x432 with 2 Axes>"
      ]
     },
     "metadata": {
      "needs_background": "light"
     },
     "output_type": "display_data"
    }
   ],
   "source": [
    "plt.figure(figsize=(12,6))\n",
    "sns.heatmap(df.isnull())"
   ]
  },
  {
   "cell_type": "markdown",
   "metadata": {
    "id": "UMHvYNYy9Zm0"
   },
   "source": [
    "<font color='red'><b> What is your initial take on the dataset and it's completeness?"
   ]
  },
  {
   "cell_type": "markdown",
   "metadata": {
    "id": "iOyNIbSL9Zm0"
   },
   "source": [
    "<font color='green'><b> There are no missing values."
   ]
  },
  {
   "cell_type": "markdown",
   "metadata": {
    "id": "FfMNtr6I9Zm1"
   },
   "source": [
    "### 2. Exploratory Data Analysis"
   ]
  },
  {
   "cell_type": "markdown",
   "metadata": {
    "id": "Rs5dvKQZ9Zm1"
   },
   "source": [
    "**Check out how many credit card frauds there were**"
   ]
  },
  {
   "cell_type": "code",
   "execution_count": null,
   "metadata": {
    "id": "eVnKCoYT9Zm1",
    "outputId": "d9f1adc9-8c35-41c4-bcd1-4f986531fd9e"
   },
   "outputs": [
    {
     "name": "stdout",
     "output_type": "stream",
     "text": [
      "There are 284315 normal transactions.\n"
     ]
    }
   ],
   "source": [
    "print(\"There are {} normal transactions.\".format(len(df[df['Class'] == 0])))"
   ]
  },
  {
   "cell_type": "code",
   "execution_count": null,
   "metadata": {
    "id": "Qsl2VxVs9Zm1",
    "outputId": "7480f5c6-ea64-4884-f9dc-841bd88a8641"
   },
   "outputs": [
    {
     "name": "stdout",
     "output_type": "stream",
     "text": [
      "There are 492 fraudulent transactions.\n"
     ]
    }
   ],
   "source": [
    "print(\"There are {} fraudulent transactions.\".format(len(df[df['Class'] == 1])))"
   ]
  },
  {
   "cell_type": "code",
   "execution_count": null,
   "metadata": {
    "id": "1X2FGmqM9Zm1",
    "outputId": "349d298c-ab39-4e54-bb8e-02bb09c10672"
   },
   "outputs": [
    {
     "data": {
      "text/plain": [
       "Text(0, 0.5, 'Count')"
      ]
     },
     "execution_count": 10,
     "metadata": {},
     "output_type": "execute_result"
    },
    {
     "data": {
      "image/png": "[encoded data removed]",
      "text/plain": [
       "<Figure size 432x432 with 1 Axes>"
      ]
     },
     "metadata": {
      "needs_background": "light"
     },
     "output_type": "display_data"
    }
   ],
   "source": [
    "plt.figure(figsize=(6,6))\n",
    "sns.countplot(df['Class'])\n",
    "plt.xlabel('Class')\n",
    "plt.ylabel('Count')"
   ]
  },
  {
   "cell_type": "markdown",
   "metadata": {
    "id": "8UZMguRp9Zm2"
   },
   "source": [
    "<font color='red'><b> Do the classes look balanced? Could this be a class imbalance problem? Do your research on class imbalance in supervised learning, it's implications to modeling and methods to tackle"
   ]
  },
  {
   "cell_type": "code",
   "execution_count": null,
   "metadata": {
    "id": "bnffijEC9Zm2",
    "outputId": "c9f8e555-235e-4506-cb09-3e245d921c59"
   },
   "outputs": [
    {
     "data": {
      "text/plain": [
       "0.001727485630620034"
      ]
     },
     "execution_count": 11,
     "metadata": {},
     "output_type": "execute_result"
    }
   ],
   "source": [
    "len(df[df['Class'] == 1])/len(df)"
   ]
  },
  {
   "cell_type": "markdown",
   "metadata": {
    "id": "KTiNXLOF9Zm2"
   },
   "source": [
    "<font color='green'><b> Extremely imbalanced. Yes."
   ]
  },
  {
   "cell_type": "markdown",
   "metadata": {
    "id": "8W8rZKFa9Zm2"
   },
   "source": [
    "<font color='green'><b> <u>Class imbalance</u>: number of samples of one or more groups is far less than the other groups in a classification problem. <br>\n",
    "<u>Implications</u>: the machine learning classifier will be biased towards the majority group, causing inaccuracy in minority group prediction. <br>\n",
    "<u>Methods</u>: \n",
    "- Oversample minority class\n",
    "- Undersample majoity class\n",
    "- Generate synthetic samples\n",
    "    - SMOTE\n",
    "    - ADASYN\n",
    "- Different algorithms\n",
    "    - Support Vector Machines\n",
    "    - Tree-Based algorithms\n",
    "\n",
    "Reference: https://towardsdatascience.com/class-imbalance-a-classification-headache-1939297ff4a4"
   ]
  },
  {
   "cell_type": "markdown",
   "metadata": {
    "id": "MVmQsZjZ9Zm2"
   },
   "source": [
    "<font color='red'><b>What other EDA's can you think of doing? Try 1 or 2 below."
   ]
  },
  {
   "cell_type": "code",
   "execution_count": null,
   "metadata": {
    "id": "2SJvXszh9Zm2",
    "outputId": "88ae90d4-09ea-4b74-83e1-585e057f229d"
   },
   "outputs": [
    {
     "data": {
      "text/plain": [
       "<AxesSubplot:>"
      ]
     },
     "execution_count": 12,
     "metadata": {},
     "output_type": "execute_result"
    },
    {
     "data": {
      "image/png": "[encoded data removed]",
      "text/plain": [
       "<Figure size 432x288 with 1 Axes>"
      ]
     },
     "metadata": {
      "needs_background": "light"
     },
     "output_type": "display_data"
    }
   ],
   "source": [
    "df[['Time']].plot.box(vert = False, grid = True)"
   ]
  },
  {
   "cell_type": "code",
   "execution_count": null,
   "metadata": {
    "id": "dJ7qpkTx9Zm2",
    "outputId": "4b3d60ec-fb29-4e00-8d38-4cf6d75f413f"
   },
   "outputs": [
    {
     "data": {
      "text/plain": [
       "<AxesSubplot:title={'center':'Amount Distribution'}, ylabel='Frequency'>"
      ]
     },
     "execution_count": 13,
     "metadata": {},
     "output_type": "execute_result"
    },
    {
     "data": {
      "image/png": "[encoded data removed]",
      "text/plain": [
       "<Figure size 432x288 with 1 Axes>"
      ]
     },
     "metadata": {
      "needs_background": "light"
     },
     "output_type": "display_data"
    }
   ],
   "source": [
    "df[['Amount']].plot.hist(bins = 20, title = 'Amount Distribution', range = [0, max(df['Amount'])])"
   ]
  },
  {
   "cell_type": "code",
   "execution_count": null,
   "metadata": {
    "id": "axssVjPq9Zm3",
    "outputId": "9c2e5c80-1403-418d-c045-6d1d68e0e256"
   },
   "outputs": [
    {
     "data": {
      "text/plain": [
       "<AxesSubplot:title={'center':'Amount Distribution'}, ylabel='Density'>"
      ]
     },
     "execution_count": 14,
     "metadata": {},
     "output_type": "execute_result"
    },
    {
     "data": {
      "image/png": "[encoded data removed]",
      "text/plain": [
       "<Figure size 432x288 with 1 Axes>"
      ]
     },
     "metadata": {
      "needs_background": "light"
     },
     "output_type": "display_data"
    }
   ],
   "source": [
    "df[['Amount']].plot.kde(title = 'Amount Distribution')"
   ]
  },
  {
   "cell_type": "markdown",
   "metadata": {
    "id": "eotb6jxT9Zm3"
   },
   "source": [
    "**Let's look at the imbalance in more detail**"
   ]
  },
  {
   "cell_type": "code",
   "execution_count": null,
   "metadata": {
    "id": "6PVqQqRP9Zm3",
    "outputId": "12437306-9e14-4094-922b-796416e9b459"
   },
   "outputs": [
    {
     "data": {
      "image/png": "[encoded data removed]",
      "text/plain": [
       "<Figure size 1008x432 with 1 Axes>"
      ]
     },
     "metadata": {
      "needs_background": "light"
     },
     "output_type": "display_data"
    }
   ],
   "source": [
    "def plot_data(X, y):\n",
    "    plt.scatter(X[y == 0, 0], X[y == 0, 1], label=\"Not Fraud\", alpha=0.5, linewidth=0.15)\n",
    "    plt.scatter(X[y == 1, 0], X[y == 1, 1], label=\"Fraud\", alpha=0.5, linewidth=0.15, c='y')\n",
    "    plt.legend()\n",
    "    return plt.show()\n",
    "\n",
    "from sklearn.model_selection import train_test_split\n",
    "y = df.iloc[:,-1].values\n",
    "X = df.iloc[:, :-1].values\n",
    "\n",
    "plt.figure(figsize=(14,6))\n",
    "plot_data(X, y)"
   ]
  },
  {
   "cell_type": "markdown",
   "metadata": {
    "id": "tPoYYuN69Zm3"
   },
   "source": [
    "<font color='orange'><b> The frauds in general look normally distributed; is that because of fraudsters track its distribution?<br>\n",
    "    Additionally, the trails of vertical lines do invite suspision. "
   ]
  },
  {
   "cell_type": "markdown",
   "metadata": {
    "id": "XhXrP-6g9Zm3"
   },
   "source": [
    "**There is clear imbalance. Let's look at SMOTE which is a popular method to tackle class imbalances**"
   ]
  },
  {
   "cell_type": "markdown",
   "metadata": {
    "id": "8sZVxS2J9Zm3"
   },
   "source": [
    "**More information of SMOTE can be found here: https://imbalanced-learn.org/stable/references/generated/imblearn.over_sampling.SMOTE.html**"
   ]
  },
  {
   "cell_type": "code",
   "execution_count": null,
   "metadata": {
    "id": "WvOlSkKi9Zm3",
    "outputId": "4daa1acd-bb24-4a2e-aa4f-a1be03677e28"
   },
   "outputs": [
    {
     "data": {
      "image/png": "[encoded data removed]",
      "text/plain": [
       "<Figure size 1008x432 with 1 Axes>"
      ]
     },
     "metadata": {
      "needs_background": "light"
     },
     "output_type": "display_data"
    }
   ],
   "source": [
    "from imblearn.over_sampling import SMOTE\n",
    "\n",
    "method = SMOTE(random_state=42, sampling_strategy=0.6)\n",
    "\n",
    "X_resampled, y_resampled = method.fit_resample(X, y)\n",
    "\n",
    "plt.figure(figsize=(14,6))\n",
    "plot_data(X_resampled, y_resampled)"
   ]
  },
  {
   "cell_type": "code",
   "execution_count": null,
   "metadata": {
    "id": "mGkERGUZ9Zm3",
    "outputId": "bad0cd8c-04c2-4561-8fd0-e12472df63cd"
   },
   "outputs": [
    {
     "data": {
      "text/plain": [
       "454904"
      ]
     },
     "execution_count": 17,
     "metadata": {},
     "output_type": "execute_result"
    }
   ],
   "source": [
    "len(X_resampled)"
   ]
  },
  {
   "cell_type": "code",
   "execution_count": null,
   "metadata": {
    "id": "3LEPxQlT9Zm3",
    "outputId": "5cd847a3-c1e4-48ca-9560-f1840fdcc738"
   },
   "outputs": [
    {
     "data": {
      "text/plain": [
       "454904"
      ]
     },
     "execution_count": 18,
     "metadata": {},
     "output_type": "execute_result"
    }
   ],
   "source": [
    "len(y_resampled)"
   ]
  },
  {
   "cell_type": "code",
   "execution_count": null,
   "metadata": {
    "id": "g3oj08Mv9Zm3",
    "outputId": "5c341b83-f88a-4b70-9bf8-75b7faa760df"
   },
   "outputs": [
    {
     "data": {
      "text/plain": [
       "284807"
      ]
     },
     "execution_count": 19,
     "metadata": {},
     "output_type": "execute_result"
    }
   ],
   "source": [
    "len(X)"
   ]
  },
  {
   "cell_type": "code",
   "execution_count": null,
   "metadata": {
    "id": "bsM4mK0N9Zm3",
    "outputId": "c0a3e2a5-3257-4592-db60-655615c8e754"
   },
   "outputs": [
    {
     "data": {
      "text/plain": [
       "284807"
      ]
     },
     "execution_count": 20,
     "metadata": {},
     "output_type": "execute_result"
    }
   ],
   "source": [
    "len(y)"
   ]
  },
  {
   "cell_type": "code",
   "execution_count": null,
   "metadata": {
    "id": "Do4qhHE59Zm3",
    "outputId": "88a838cc-d946-4ca3-99c0-b215a0908779"
   },
   "outputs": [
    {
     "data": {
      "text/plain": [
       "Text(0, 0.5, 'Count')"
      ]
     },
     "execution_count": 21,
     "metadata": {},
     "output_type": "execute_result"
    },
    {
     "data": {
      "image/png": "[encoded data removed]",
      "text/plain": [
       "<Figure size 432x432 with 1 Axes>"
      ]
     },
     "metadata": {
      "needs_background": "light"
     },
     "output_type": "display_data"
    }
   ],
   "source": [
    "plt.figure(figsize=(6,6))\n",
    "sns.countplot(y_resampled)\n",
    "plt.xlabel('Class')\n",
    "plt.ylabel('Count')"
   ]
  },
  {
   "cell_type": "markdown",
   "metadata": {
    "id": "Lh55BIWb9Zm4"
   },
   "source": [
    "**Applied an upsampling technique to balance minory class in the data. Almost doubled the size of our data especially minority class by generating generic samples**"
   ]
  },
  {
   "cell_type": "markdown",
   "metadata": {
    "id": "Wgc3VtTe9Zm4"
   },
   "source": [
    "### 3. Data Modeling"
   ]
  },
  {
   "cell_type": "markdown",
   "metadata": {
    "id": "Y4Rco7_C9Zm4"
   },
   "source": [
    "**Convential Rule based system**"
   ]
  },
  {
   "cell_type": "code",
   "execution_count": null,
   "metadata": {
    "id": "WxtScmXk9Zm4"
   },
   "outputs": [],
   "source": [
    "df.groupby('Class').mean()\n",
    "df['flag_as_fraud'] = np.where(np.logical_and(df['V1'] < -3, df['V3'] < -5), 1, 0)"
   ]
  },
  {
   "cell_type": "markdown",
   "metadata": {
    "id": "yquO_UVf9Zm4"
   },
   "source": [
    "**Here ran a groupby command on the labels and obtained the mean for each feature, then implemented a rule for stating which cases are flagged as fraud**"
   ]
  },
  {
   "cell_type": "code",
   "execution_count": null,
   "metadata": {
    "id": "GLSz73e-9Zm4",
    "outputId": "c4a46f36-4279-4b4e-a868-217879ad504e"
   },
   "outputs": [
    {
     "name": "stdout",
     "output_type": "stream",
     "text": [
      "Results of flagged fraud cases versus the actual fraud cases:\n",
      "\n",
      "Flagged Fraud       0     1\n",
      "Actual Fraud               \n",
      "0              283089  1226\n",
      "1                 322   170\n"
     ]
    }
   ],
   "source": [
    "print(\"Results of flagged fraud cases versus the actual fraud cases:\\n\")\n",
    "print(pd.crosstab(df.Class, df.flag_as_fraud, rownames=['Actual Fraud'], colnames=['Flagged Fraud']))"
   ]
  },
  {
   "cell_type": "markdown",
   "metadata": {
    "id": "sfS99FB99Zm4"
   },
   "source": [
    "**Example using the rule based system**"
   ]
  },
  {
   "cell_type": "code",
   "execution_count": null,
   "metadata": {
    "id": "EJHd2FVe9Zm4",
    "outputId": "d660037d-d6bb-49e4-d15f-143d3bde9376"
   },
   "outputs": [
    {
     "data": {
      "text/html": [
       "<div>\n",
       "<style scoped>\n",
       "    .dataframe tbody tr th:only-of-type {\n",
       "        vertical-align: middle;\n",
       "    }\n",
       "\n",
       "    .dataframe tbody tr th {\n",
       "        vertical-align: top;\n",
       "    }\n",
       "\n",
       "    .dataframe thead th {\n",
       "        text-align: right;\n",
       "    }\n",
       "</style>\n",
       "<table border=\"1\" class=\"dataframe\">\n",
       "  <thead>\n",
       "    <tr style=\"text-align: right;\">\n",
       "      <th></th>\n",
       "      <th>Time</th>\n",
       "      <th>V1</th>\n",
       "      <th>V2</th>\n",
       "      <th>V3</th>\n",
       "      <th>V4</th>\n",
       "      <th>V5</th>\n",
       "      <th>V6</th>\n",
       "      <th>V7</th>\n",
       "      <th>V8</th>\n",
       "      <th>V9</th>\n",
       "      <th>...</th>\n",
       "      <th>V21</th>\n",
       "      <th>V22</th>\n",
       "      <th>V23</th>\n",
       "      <th>V24</th>\n",
       "      <th>V25</th>\n",
       "      <th>V26</th>\n",
       "      <th>V27</th>\n",
       "      <th>V28</th>\n",
       "      <th>Amount</th>\n",
       "      <th>flag_as_fraud</th>\n",
       "    </tr>\n",
       "    <tr>\n",
       "      <th>Class</th>\n",
       "      <th></th>\n",
       "      <th></th>\n",
       "      <th></th>\n",
       "      <th></th>\n",
       "      <th></th>\n",
       "      <th></th>\n",
       "      <th></th>\n",
       "      <th></th>\n",
       "      <th></th>\n",
       "      <th></th>\n",
       "      <th></th>\n",
       "      <th></th>\n",
       "      <th></th>\n",
       "      <th></th>\n",
       "      <th></th>\n",
       "      <th></th>\n",
       "      <th></th>\n",
       "      <th></th>\n",
       "      <th></th>\n",
       "      <th></th>\n",
       "      <th></th>\n",
       "    </tr>\n",
       "  </thead>\n",
       "  <tbody>\n",
       "    <tr>\n",
       "      <th>0</th>\n",
       "      <td>94838.202258</td>\n",
       "      <td>0.008258</td>\n",
       "      <td>-0.006271</td>\n",
       "      <td>0.012171</td>\n",
       "      <td>-0.007860</td>\n",
       "      <td>0.005453</td>\n",
       "      <td>0.002419</td>\n",
       "      <td>0.009637</td>\n",
       "      <td>-0.000987</td>\n",
       "      <td>0.004467</td>\n",
       "      <td>...</td>\n",
       "      <td>-0.001235</td>\n",
       "      <td>-0.000024</td>\n",
       "      <td>0.000070</td>\n",
       "      <td>0.000182</td>\n",
       "      <td>-0.000072</td>\n",
       "      <td>-0.000089</td>\n",
       "      <td>-0.000295</td>\n",
       "      <td>-0.000131</td>\n",
       "      <td>88.291022</td>\n",
       "      <td>0.004312</td>\n",
       "    </tr>\n",
       "    <tr>\n",
       "      <th>1</th>\n",
       "      <td>80746.806911</td>\n",
       "      <td>-4.771948</td>\n",
       "      <td>3.623778</td>\n",
       "      <td>-7.033281</td>\n",
       "      <td>4.542029</td>\n",
       "      <td>-3.151225</td>\n",
       "      <td>-1.397737</td>\n",
       "      <td>-5.568731</td>\n",
       "      <td>0.570636</td>\n",
       "      <td>-2.581123</td>\n",
       "      <td>...</td>\n",
       "      <td>0.713588</td>\n",
       "      <td>0.014049</td>\n",
       "      <td>-0.040308</td>\n",
       "      <td>-0.105130</td>\n",
       "      <td>0.041449</td>\n",
       "      <td>0.051648</td>\n",
       "      <td>0.170575</td>\n",
       "      <td>0.075667</td>\n",
       "      <td>122.211321</td>\n",
       "      <td>0.345528</td>\n",
       "    </tr>\n",
       "  </tbody>\n",
       "</table>\n",
       "<p>2 rows × 31 columns</p>\n",
       "</div>"
      ],
      "text/plain": [
       "               Time        V1        V2        V3        V4        V5  \\\n",
       "Class                                                                   \n",
       "0      94838.202258  0.008258 -0.006271  0.012171 -0.007860  0.005453   \n",
       "1      80746.806911 -4.771948  3.623778 -7.033281  4.542029 -3.151225   \n",
       "\n",
       "             V6        V7        V8        V9  ...       V21       V22  \\\n",
       "Class                                          ...                       \n",
       "0      0.002419  0.009637 -0.000987  0.004467  ... -0.001235 -0.000024   \n",
       "1     -1.397737 -5.568731  0.570636 -2.581123  ...  0.713588  0.014049   \n",
       "\n",
       "            V23       V24       V25       V26       V27       V28      Amount  \\\n",
       "Class                                                                           \n",
       "0      0.000070  0.000182 -0.000072 -0.000089 -0.000295 -0.000131   88.291022   \n",
       "1     -0.040308 -0.105130  0.041449  0.051648  0.170575  0.075667  122.211321   \n",
       "\n",
       "       flag_as_fraud  \n",
       "Class                 \n",
       "0           0.004312  \n",
       "1           0.345528  \n",
       "\n",
       "[2 rows x 31 columns]"
      ]
     },
     "execution_count": 24,
     "metadata": {},
     "output_type": "execute_result"
    }
   ],
   "source": [
    "a=df.groupby('Class').mean()\n",
    "a"
   ]
  },
  {
   "cell_type": "markdown",
   "metadata": {
    "id": "e9N-qWbv9Zm4"
   },
   "source": [
    "<font color='red'><b>Do you think a rule-based system for catching credit card fraud is a good choice? What are the pros and cons?"
   ]
  },
  {
   "cell_type": "code",
   "execution_count": null,
   "metadata": {
    "id": "LNbCizjP9Zm4",
    "outputId": "4026518f-9023-4f9a-852f-a825cba5dad3"
   },
   "outputs": [
    {
     "name": "stdout",
     "output_type": "stream",
     "text": [
      "recall is 0.34552845528455284\n"
     ]
    }
   ],
   "source": [
    "print(\"recall is {}\".format(pd.crosstab(df.Class, df.flag_as_fraud)[1][1]/pd.crosstab(df.Class, df.flag_as_fraud).sum(axis=1)[1]))"
   ]
  },
  {
   "cell_type": "code",
   "execution_count": null,
   "metadata": {
    "id": "14zeKbDY9Zm4",
    "outputId": "ce526d09-c0e1-4dd4-9550-65abedc97076"
   },
   "outputs": [
    {
     "name": "stdout",
     "output_type": "stream",
     "text": [
      "precision is 0.12177650429799428\n"
     ]
    }
   ],
   "source": [
    "print(\"precision is {}\".format(pd.crosstab(df.Class, df.flag_as_fraud)[1][1]/pd.crosstab(df.Class, df.flag_as_fraud)[1].sum()))"
   ]
  },
  {
   "cell_type": "markdown",
   "metadata": {
    "id": "McwIIKeR9Zm4"
   },
   "source": [
    "<font color='green'><b> No, in this specific dataset, for df['V1'] < -3 and df['V3'] < -5, recall is low, not to mention precision. It is still likely to boost recall if modify the key predictors. </font><br>\n",
    "<i> Pros\n",
    "1. It is clear why a transaction would be marked as fraudulent, as the rules are hard-coded\n",
    "2. The algorithm is functional from Day 1 -- training samples are not needed\n",
    "3. (no need to pay data scientists or machine learning engineers)\n",
    "    \n",
    "<i> Cons\n",
    "1. It relys on an established fraud pattern\n",
    "    - What if some frauds are not reported thus never known? \n",
    "2. It is slow in response to the change of new strategies by fraudsters\n",
    "    - What if frausters reverse engineer the rigid fraud detection pattern and divert their efforts? \n",
    "\n",
    "Reference: https://nethone.com/post/machine-learning-models-vs-rule-based-systems-in-fraud-prevention <br>\n",
    "<font color='green'><b> In contrast, ML techniques might have an edge in dynamic variable tracking and real-time insights. "
   ]
  },
  {
   "cell_type": "markdown",
   "metadata": {
    "id": "eDWJYmvh9Zm4"
   },
   "source": [
    "**Let's look at some more sophisticated machine learning solutions**"
   ]
  },
  {
   "cell_type": "code",
   "execution_count": null,
   "metadata": {
    "id": "_69GNE-J9Zm4"
   },
   "outputs": [],
   "source": [
    "from sklearn.linear_model import LogisticRegression\n",
    "from sklearn.model_selection import train_test_split\n",
    "from sklearn import metrics\n",
    "from sklearn.metrics import classification_report, confusion_matrix, roc_auc_score\n",
    "\n",
    "y = df.iloc[:,-1].values\n",
    "X = df.iloc[:, :-1].values\n",
    "# Create the training and testing sets\n",
    "X_train, X_test, y_train, y_test = train_test_split(X, y, test_size=0.3, random_state=0)\n",
    "\n",
    "# Fit a logistic regression model to our data\n",
    "model = LogisticRegression()\n",
    "model.fit(X_train, y_train)\n",
    "\n",
    "# Obtain model predictions\n",
    "predicted = model.predict(X_test)\n",
    "probs = model.predict_proba(X_test)"
   ]
  },
  {
   "cell_type": "code",
   "execution_count": null,
   "metadata": {
    "id": "0ucxuuSH9Zm4",
    "outputId": "c7fd72c0-8876-4f4a-e9e0-902c892dfa68"
   },
   "outputs": [
    {
     "name": "stdout",
     "output_type": "stream",
     "text": [
      "\n",
      "Classification Report:\n",
      "               precision    recall  f1-score   support\n",
      "\n",
      "           0       1.00      1.00      1.00     85019\n",
      "           1       0.68      0.72      0.70       424\n",
      "\n",
      "    accuracy                           1.00     85443\n",
      "   macro avg       0.84      0.86      0.85     85443\n",
      "weighted avg       1.00      1.00      1.00     85443\n",
      "\n",
      "\n",
      "Confusion matrix:\n",
      " [[84873   146]\n",
      " [  120   304]]\n"
     ]
    }
   ],
   "source": [
    "conf_mat = metrics.confusion_matrix(y_true=y_test, y_pred=predicted)\n",
    "print('\\nClassification Report:\\n', classification_report(y_test, predicted))\n",
    "print('\\nConfusion matrix:\\n', conf_mat)"
   ]
  },
  {
   "cell_type": "code",
   "execution_count": null,
   "metadata": {
    "id": "u3f-Zaga9Zm4",
    "outputId": "8e94ebf0-51bc-4cdd-f0f6-6f9fd8e9c356"
   },
   "outputs": [
    {
     "name": "stdout",
     "output_type": "stream",
     "text": [
      "\n",
      "Confusion Matrix in depth analysis: \n",
      "\n"
     ]
    },
    {
     "data": {
      "text/plain": [
       "<AxesSubplot:>"
      ]
     },
     "execution_count": 29,
     "metadata": {},
     "output_type": "execute_result"
    },
    {
     "data": {
      "image/png": "[encoded data removed]",
      "text/plain": [
       "<Figure size 576x432 with 2 Axes>"
      ]
     },
     "metadata": {
      "needs_background": "light"
     },
     "output_type": "display_data"
    }
   ],
   "source": [
    "group_names = [\"True Neg\", \"False Pos\", \"False Neg\", \"True Pos\"]\n",
    "group_counts = ['{0:0.0f}'.format(value) for value in\n",
    "                conf_mat.flatten()]\n",
    "group_percentages = ['{0:.2%}'.format(value) for value in\n",
    "                     conf_mat.flatten()/np.sum(conf_mat)]\n",
    "labels = [f'{v1}\\n{v2}\\n{v3}' for v1, v2, v3 in\n",
    "          zip(group_names,group_counts,group_percentages)]\n",
    "plt.figure(figsize=(8,6))\n",
    "labels = np.asarray(labels).reshape(2,2)\n",
    "print(\"\\nConfusion Matrix in depth analysis: \\n\")\n",
    "sns.heatmap(conf_mat, annot=labels, fmt='', cmap='Blues')"
   ]
  },
  {
   "cell_type": "code",
   "execution_count": null,
   "metadata": {
    "id": "x-_zA53a9Zm5",
    "outputId": "78bf356f-fcc0-4df2-9e1c-6308cb2872e1"
   },
   "outputs": [
    {
     "name": "stdout",
     "output_type": "stream",
     "text": [
      "recall is 0.7169811320754716\n"
     ]
    }
   ],
   "source": [
    "print(\"recall is {}\".format(int(group_counts[3])/(int(group_counts[2]) + int(group_counts[3]))))"
   ]
  },
  {
   "cell_type": "markdown",
   "metadata": {
    "id": "e7ztXJrx9Zm5"
   },
   "source": [
    "**Machine learning with improved balance using SMOTE**"
   ]
  },
  {
   "cell_type": "code",
   "execution_count": null,
   "metadata": {
    "id": "F7jB8Lgi9Zm5"
   },
   "outputs": [],
   "source": [
    "from imblearn.pipeline import Pipeline \n",
    "from imblearn.over_sampling import SMOTE\n",
    "\n",
    "resampling = SMOTE(random_state=42, sampling_strategy=0.6)\n",
    "model = LogisticRegression()\n",
    "\n",
    "pipeline = Pipeline([('SMOTE', resampling), ('Logistic Regression', model)])"
   ]
  },
  {
   "cell_type": "code",
   "execution_count": null,
   "metadata": {
    "id": "tHRc9-OH9Zm5"
   },
   "outputs": [],
   "source": [
    "X_train, X_test, y_train, y_test = train_test_split(X, y, test_size=0.3, random_state=0)\n",
    "pipeline.fit(X_train, y_train) \n",
    "predicted_lr_smote = model.predict(X_test)"
   ]
  },
  {
   "cell_type": "code",
   "execution_count": null,
   "metadata": {
    "id": "6iWHWISR9Zm5",
    "outputId": "fd3c07da-377c-4766-d3c6-adc25de89439"
   },
   "outputs": [
    {
     "name": "stdout",
     "output_type": "stream",
     "text": [
      "\n",
      "Classification Report:\n",
      "               precision    recall  f1-score   support\n",
      "\n",
      "           0       1.00      0.98      0.99     85019\n",
      "           1       0.24      1.00      0.39       424\n",
      "\n",
      "    accuracy                           0.98     85443\n",
      "   macro avg       0.62      0.99      0.69     85443\n",
      "weighted avg       1.00      0.98      0.99     85443\n",
      "\n",
      "\n",
      "Confusion matrix:\n",
      " [[83675  1344]\n",
      " [    2   422]]\n"
     ]
    }
   ],
   "source": [
    "conf_mat_lr_smote = metrics.confusion_matrix(y_true=y_test, y_pred=predicted_lr_smote)\n",
    "print('\\nClassification Report:\\n', classification_report(y_test, predicted_lr_smote))\n",
    "print('\\nConfusion matrix:\\n', conf_mat_lr_smote)"
   ]
  },
  {
   "cell_type": "code",
   "execution_count": null,
   "metadata": {
    "id": "yt__SYRE9Zm5",
    "outputId": "ddce5c8f-ef7e-429e-e9e3-0bd0dcbfb023"
   },
   "outputs": [
    {
     "name": "stdout",
     "output_type": "stream",
     "text": [
      "\n",
      "Confusion Matrix in depth analysis for oversampled data: \n",
      "\n"
     ]
    },
    {
     "data": {
      "text/plain": [
       "<AxesSubplot:>"
      ]
     },
     "execution_count": 34,
     "metadata": {},
     "output_type": "execute_result"
    },
    {
     "data": {
      "image/png": "[encoded data removed]",
      "text/plain": [
       "<Figure size 576x432 with 2 Axes>"
      ]
     },
     "metadata": {
      "needs_background": "light"
     },
     "output_type": "display_data"
    }
   ],
   "source": [
    "group_names = [\"True Neg\", \"False Pos\", \"False Neg\", \"True Pos\"]\n",
    "group_counts = ['{0:0.0f}'.format(value) for value in\n",
    "                conf_mat_lr_smote.flatten()]\n",
    "group_percentages = ['{0:.2%}'.format(value) for value in\n",
    "                     conf_mat_lr_smote.flatten()/np.sum(conf_mat_lr_smote)]\n",
    "labels = [f'{v1}\\n{v2}\\n{v3}' for v1, v2, v3 in\n",
    "          zip(group_names,group_counts,group_percentages)]\n",
    "plt.figure(figsize=(8,6))\n",
    "labels = np.asarray(labels).reshape(2,2)\n",
    "print(\"\\nConfusion Matrix in depth analysis for oversampled data: \\n\")\n",
    "sns.heatmap(conf_mat_lr_smote, annot=labels, fmt='', cmap='Blues')"
   ]
  },
  {
   "cell_type": "code",
   "execution_count": null,
   "metadata": {
    "id": "nAbf5D5h9Zm5",
    "outputId": "c87b8a5d-2538-4e5a-cf57-4a9785dd9e9e"
   },
   "outputs": [
    {
     "name": "stdout",
     "output_type": "stream",
     "text": [
      "recall is 0.9952830188679245\n"
     ]
    }
   ],
   "source": [
    "print(\"recall is {}\".format(int(group_counts[3])/(int(group_counts[2]) + int(group_counts[3]))))"
   ]
  },
  {
   "cell_type": "markdown",
   "metadata": {
    "id": "YTlWer3-9Zm5"
   },
   "source": [
    "<font color='red'><b>Compare the Confusion Matrices for the model with SMOTE and model without SMOTE to determine which model will be a better fit for this business problem"
   ]
  },
  {
   "cell_type": "markdown",
   "metadata": {
    "id": "ShnQv8Zg9Zm5"
   },
   "source": [
    "Since the success metrics is recall (the higher the better), the model without SMOTE has recall about 0.717 and the model with SMOTE has recall about 0.995. The model with SMOTE outperformed than the one without. "
   ]
  },
  {
   "cell_type": "markdown",
   "metadata": {
    "id": "vB6QmD0l9Zm5"
   },
   "source": [
    "<font color='red'><b>Once you finanlize if SMOTE or non-SMOTE model is better for your business case requirements, try 2 other models of your choice on the strategy and evaluate them on 2 metrics of your choice that weren't haven't used so far"
   ]
  },
  {
   "cell_type": "markdown",
   "metadata": {
    "id": "5zNXMGk_9Zm5"
   },
   "source": [
    "Use SMOTE. "
   ]
  },
  {
   "cell_type": "code",
   "execution_count": null,
   "metadata": {
    "id": "I52oLB169Zm5"
   },
   "outputs": [],
   "source": [
    "from sklearn.svm import SVC\n",
    "from sklearn.neighbors import KNeighborsClassifier\n",
    "from sklearn.tree import DecisionTreeClassifier\n",
    "from sklearn.ensemble import RandomForestClassifier\n",
    "\n",
    "from sklearn.metrics import precision_recall_curve\n",
    "from sklearn.metrics import f1_score\n",
    "from sklearn.metrics import auc"
   ]
  },
  {
   "cell_type": "markdown",
   "metadata": {
    "id": "zL_wAZr49Zm5"
   },
   "source": [
    "#### Model 1 - Logistic Regression"
   ]
  },
  {
   "cell_type": "code",
   "execution_count": null,
   "metadata": {
    "id": "SUxEczjJ9Zm5"
   },
   "outputs": [],
   "source": [
    "X_train, X_test, y_train, y_test = train_test_split(X_resampled, y_resampled, test_size=0.3, random_state=0)\n",
    "\n",
    "model = LogisticRegression()\n",
    "model.fit(X_train, y_train)\n",
    "\n",
    "predicted = model.predict(X_test)\n",
    "probs = model.predict_proba(X_test)"
   ]
  },
  {
   "cell_type": "code",
   "execution_count": null,
   "metadata": {
    "id": "5YA6z6em9Zm5",
    "outputId": "4b526806-98c8-4020-84a0-3af150dd9b7a"
   },
   "outputs": [
    {
     "name": "stdout",
     "output_type": "stream",
     "text": [
      "\n",
      "Classification Report:\n",
      "               precision    recall  f1-score   support\n",
      "\n",
      "           0       0.97      0.98      0.98     85368\n",
      "           1       0.97      0.96      0.97     51104\n",
      "\n",
      "    accuracy                           0.97    136472\n",
      "   macro avg       0.97      0.97      0.97    136472\n",
      "weighted avg       0.97      0.97      0.97    136472\n",
      "\n",
      "\n",
      "Confusion matrix:\n",
      " [[84053  1315]\n",
      " [ 2200 48904]]\n"
     ]
    }
   ],
   "source": [
    "conf_mat = metrics.confusion_matrix(y_true=y_test, y_pred=predicted)\n",
    "print('\\nClassification Report:\\n', classification_report(y_test, predicted))\n",
    "print('\\nConfusion matrix:\\n', conf_mat)"
   ]
  },
  {
   "cell_type": "code",
   "execution_count": null,
   "metadata": {
    "id": "1guiEue59Zm5",
    "outputId": "3386dba1-ff83-4728-ab64-9ddd653ac0f2"
   },
   "outputs": [
    {
     "name": "stdout",
     "output_type": "stream",
     "text": [
      "\n",
      "Confusion Matrix in depth analysis: \n",
      "\n"
     ]
    },
    {
     "data": {
      "text/plain": [
       "<AxesSubplot:>"
      ]
     },
     "execution_count": 70,
     "metadata": {},
     "output_type": "execute_result"
    },
    {
     "data": {
      "image/png": "[encoded data removed]",
      "text/plain": [
       "<Figure size 576x432 with 2 Axes>"
      ]
     },
     "metadata": {
      "needs_background": "light"
     },
     "output_type": "display_data"
    }
   ],
   "source": [
    "group_names = [\"True Neg\", \"False Pos\", \"False Neg\", \"True Pos\"]\n",
    "group_counts = ['{0:0.0f}'.format(value) for value in\n",
    "                conf_mat.flatten()]\n",
    "group_percentages = ['{0:.2%}'.format(value) for value in\n",
    "                     conf_mat.flatten()/np.sum(conf_mat)]\n",
    "labels = [f'{v1}\\n{v2}\\n{v3}' for v1, v2, v3 in\n",
    "          zip(group_names,group_counts,group_percentages)]\n",
    "plt.figure(figsize=(8,6))\n",
    "labels = np.asarray(labels).reshape(2,2)\n",
    "print(\"\\nConfusion Matrix in depth analysis: \\n\")\n",
    "sns.heatmap(conf_mat, annot=labels, fmt='', cmap='Blues')"
   ]
  },
  {
   "cell_type": "code",
   "execution_count": null,
   "metadata": {
    "id": "JhB0R0AV9Zm5",
    "outputId": "f9c91c6b-cda6-4e80-bb19-12aab57f8a95"
   },
   "outputs": [
    {
     "name": "stdout",
     "output_type": "stream",
     "text": [
      "recall is 0.9569505322479649\n"
     ]
    }
   ],
   "source": [
    "print(\"recall is {}\".format(int(group_counts[3])/(int(group_counts[2]) + int(group_counts[3]))))"
   ]
  },
  {
   "cell_type": "markdown",
   "metadata": {
    "id": "FGwUAe3Y9Zm5"
   },
   "source": [
    "#### Model 2 - Random Forest"
   ]
  },
  {
   "cell_type": "code",
   "execution_count": null,
   "metadata": {
    "id": "KCLvCSOk9Zm5"
   },
   "outputs": [],
   "source": [
    "X_train, X_test, y_train, y_test = train_test_split(X_resampled, y_resampled, test_size=0.3, random_state=0)\n",
    "\n",
    "model = RandomForestClassifier()\n",
    "model.fit(X_train, y_train)\n",
    "\n",
    "predicted = model.predict(X_test)\n",
    "probs = model.predict_proba(X_test)"
   ]
  },
  {
   "cell_type": "code",
   "execution_count": null,
   "metadata": {
    "id": "qCfa53Wz9Zm5",
    "outputId": "1bb7574f-e7e1-4f2a-a8e0-de79f07360a6"
   },
   "outputs": [
    {
     "name": "stdout",
     "output_type": "stream",
     "text": [
      "\n",
      "Classification Report:\n",
      "               precision    recall  f1-score   support\n",
      "\n",
      "           0       1.00      1.00      1.00     85368\n",
      "           1       1.00      1.00      1.00     51104\n",
      "\n",
      "    accuracy                           1.00    136472\n",
      "   macro avg       1.00      1.00      1.00    136472\n",
      "weighted avg       1.00      1.00      1.00    136472\n",
      "\n",
      "\n",
      "Confusion matrix:\n",
      " [[85343    25]\n",
      " [    0 51104]]\n"
     ]
    }
   ],
   "source": [
    "conf_mat = metrics.confusion_matrix(y_true=y_test, y_pred=predicted)\n",
    "print('\\nClassification Report:\\n', classification_report(y_test, predicted))\n",
    "print('\\nConfusion matrix:\\n', conf_mat)"
   ]
  },
  {
   "cell_type": "code",
   "execution_count": null,
   "metadata": {
    "id": "199vfOzR9Zm6",
    "outputId": "90e3992f-54a5-432d-8350-0ca5eb5ecfdd"
   },
   "outputs": [
    {
     "name": "stdout",
     "output_type": "stream",
     "text": [
      "\n",
      "Confusion Matrix in depth analysis: \n",
      "\n"
     ]
    },
    {
     "data": {
      "text/plain": [
       "<AxesSubplot:>"
      ]
     },
     "execution_count": 63,
     "metadata": {},
     "output_type": "execute_result"
    },
    {
     "data": {
      "image/png": "[encoded data removed]",
      "text/plain": [
       "<Figure size 576x432 with 2 Axes>"
      ]
     },
     "metadata": {
      "needs_background": "light"
     },
     "output_type": "display_data"
    }
   ],
   "source": [
    "group_names = [\"True Neg\", \"False Pos\", \"False Neg\", \"True Pos\"]\n",
    "group_counts = ['{0:0.0f}'.format(value) for value in\n",
    "                conf_mat.flatten()]\n",
    "group_percentages = ['{0:.2%}'.format(value) for value in\n",
    "                     conf_mat.flatten()/np.sum(conf_mat)]\n",
    "labels = [f'{v1}\\n{v2}\\n{v3}' for v1, v2, v3 in\n",
    "          zip(group_names,group_counts,group_percentages)]\n",
    "plt.figure(figsize=(8,6))\n",
    "labels = np.asarray(labels).reshape(2,2)\n",
    "print(\"\\nConfusion Matrix in depth analysis: \\n\")\n",
    "sns.heatmap(conf_mat, annot=labels, fmt='', cmap='Blues')"
   ]
  },
  {
   "cell_type": "code",
   "execution_count": null,
   "metadata": {
    "id": "Xdf8hbju9Zm6",
    "outputId": "8bd45dde-9d06-49ec-e885-a763a71f43c9"
   },
   "outputs": [
    {
     "name": "stdout",
     "output_type": "stream",
     "text": [
      "recall is 1.0\n"
     ]
    }
   ],
   "source": [
    "print(\"recall is {}\".format(int(group_counts[3])/(int(group_counts[2]) + int(group_counts[3]))))"
   ]
  },
  {
   "cell_type": "markdown",
   "metadata": {
    "id": "EgFJ-5jo9Zm6"
   },
   "source": [
    "<font color='orange'><b>  Overfitting with such a good recall?"
   ]
  },
  {
   "cell_type": "code",
   "execution_count": null,
   "metadata": {
    "id": "_bx6WOzl9Zm6",
    "outputId": "fbe0d39a-35fe-46a4-a9c7-2d6b2858743a"
   },
   "outputs": [
    {
     "data": {
      "text/plain": [
       "1.0"
      ]
     },
     "execution_count": 65,
     "metadata": {},
     "output_type": "execute_result"
    }
   ],
   "source": [
    "from sklearn.metrics import recall_score\n",
    "metrics.recall_score(y_test, predicted)"
   ]
  },
  {
   "cell_type": "markdown",
   "metadata": {
    "id": "ln-qtH-w9Zm6"
   },
   "source": [
    "#### Model 3 - Decision Tree"
   ]
  },
  {
   "cell_type": "code",
   "execution_count": null,
   "metadata": {
    "id": "J2PNjxLV9Zm6"
   },
   "outputs": [],
   "source": [
    "X_train, X_test, y_train, y_test = train_test_split(X_resampled, y_resampled, test_size=0.3, random_state=0)\n",
    "\n",
    "model = DecisionTreeClassifier()\n",
    "model.fit(X_train, y_train)\n",
    "\n",
    "predicted = model.predict(X_test)\n",
    "probs = model.predict_proba(X_test)"
   ]
  },
  {
   "cell_type": "code",
   "execution_count": null,
   "metadata": {
    "id": "pZ7MhUZP9Zm6",
    "outputId": "87d97935-9898-40a3-dacd-5988692f92ec"
   },
   "outputs": [
    {
     "name": "stdout",
     "output_type": "stream",
     "text": [
      "\n",
      "Classification Report:\n",
      "               precision    recall  f1-score   support\n",
      "\n",
      "           0       1.00      1.00      1.00     85368\n",
      "           1       1.00      1.00      1.00     51104\n",
      "\n",
      "    accuracy                           1.00    136472\n",
      "   macro avg       1.00      1.00      1.00    136472\n",
      "weighted avg       1.00      1.00      1.00    136472\n",
      "\n",
      "\n",
      "Confusion matrix:\n",
      " [[85131   237]\n",
      " [   91 51013]]\n"
     ]
    }
   ],
   "source": [
    "conf_mat = metrics.confusion_matrix(y_true=y_test, y_pred=predicted)\n",
    "print('\\nClassification Report:\\n', classification_report(y_test, predicted))\n",
    "print('\\nConfusion matrix:\\n', conf_mat)"
   ]
  },
  {
   "cell_type": "code",
   "execution_count": null,
   "metadata": {
    "id": "8yqa613f9Zm6",
    "outputId": "dd141b20-45a2-495b-f551-f23bcc59f3f5"
   },
   "outputs": [
    {
     "name": "stdout",
     "output_type": "stream",
     "text": [
      "\n",
      "Confusion Matrix in depth analysis: \n",
      "\n"
     ]
    },
    {
     "data": {
      "text/plain": [
       "<AxesSubplot:>"
      ]
     },
     "execution_count": 75,
     "metadata": {},
     "output_type": "execute_result"
    },
    {
     "data": {
      "image/png": "[encoded data removed]",
      "text/plain": [
       "<Figure size 576x432 with 2 Axes>"
      ]
     },
     "metadata": {
      "needs_background": "light"
     },
     "output_type": "display_data"
    }
   ],
   "source": [
    "group_names = [\"True Neg\", \"False Pos\", \"False Neg\", \"True Pos\"]\n",
    "group_counts = ['{0:0.0f}'.format(value) for value in\n",
    "                conf_mat.flatten()]\n",
    "group_percentages = ['{0:.2%}'.format(value) for value in\n",
    "                     conf_mat.flatten()/np.sum(conf_mat)]\n",
    "labels = [f'{v1}\\n{v2}\\n{v3}' for v1, v2, v3 in\n",
    "          zip(group_names,group_counts,group_percentages)]\n",
    "plt.figure(figsize=(8,6))\n",
    "labels = np.asarray(labels).reshape(2,2)\n",
    "print(\"\\nConfusion Matrix in depth analysis: \\n\")\n",
    "sns.heatmap(conf_mat, annot=labels, fmt='', cmap='Blues')"
   ]
  },
  {
   "cell_type": "code",
   "execution_count": null,
   "metadata": {
    "id": "FBWCYTt49Zm6",
    "outputId": "d26c712b-2dc7-469e-9eb5-63e41d657d77"
   },
   "outputs": [
    {
     "data": {
      "text/plain": [
       "0.9982193174702567"
      ]
     },
     "execution_count": 76,
     "metadata": {},
     "output_type": "execute_result"
    }
   ],
   "source": [
    "metrics.recall_score(y_test, predicted)"
   ]
  },
  {
   "cell_type": "code",
   "execution_count": null,
   "metadata": {
    "id": "cpv39Lzk9Zm6",
    "outputId": "88adfa95-07cc-444b-9639-dd7b24c41016"
   },
   "outputs": [
    {
     "name": "stdout",
     "output_type": "stream",
     "text": [
      ">1, train: 0.953, test: 0.953\n",
      ">2, train: 0.960, test: 0.960\n",
      ">3, train: 0.968, test: 0.968\n",
      ">4, train: 0.972, test: 0.972\n",
      ">5, train: 0.975, test: 0.975\n",
      ">6, train: 0.978, test: 0.978\n",
      ">7, train: 0.981, test: 0.981\n",
      ">8, train: 0.985, test: 0.985\n",
      ">9, train: 0.989, test: 0.989\n",
      ">10, train: 0.992, test: 0.991\n",
      ">11, train: 0.994, test: 0.993\n",
      ">12, train: 0.996, test: 0.994\n",
      ">13, train: 0.997, test: 0.995\n",
      ">14, train: 0.998, test: 0.996\n",
      ">15, train: 0.999, test: 0.997\n",
      ">16, train: 0.999, test: 0.997\n",
      ">17, train: 0.999, test: 0.997\n",
      ">18, train: 0.999, test: 0.997\n",
      ">19, train: 1.000, test: 0.997\n",
      ">20, train: 1.000, test: 0.997\n"
     ]
    },
    {
     "data": {
      "image/png": "[encoded data removed]",
      "text/plain": [
       "<Figure size 432x288 with 1 Axes>"
      ]
     },
     "metadata": {
      "needs_background": "light"
     },
     "output_type": "display_data"
    }
   ],
   "source": [
    "from sklearn.metrics import accuracy_score\n",
    "train_scores, test_scores = list(), list()\n",
    "# define the tree depths to evaluate\n",
    "values = [i for i in range(1, 21)]\n",
    "# evaluate a decision tree for each depth\n",
    "for i in values:\n",
    "    # configure the model\n",
    "    model = DecisionTreeClassifier(max_depth=i)\n",
    "    # fit model on the training dataset\n",
    "    model.fit(X_train, y_train)\n",
    "    # evaluate on the train dataset\n",
    "    train_yhat = model.predict(X_train)\n",
    "    train_acc = accuracy_score(y_train, train_yhat)\n",
    "    train_scores.append(train_acc)\n",
    "    # evaluate on the test dataset\n",
    "    test_yhat = model.predict(X_test)\n",
    "    test_acc = accuracy_score(y_test, test_yhat)\n",
    "    test_scores.append(test_acc)\n",
    "    # summarize progress\n",
    "    print('>%d, train: %.3f, test: %.3f' % (i, train_acc, test_acc))\n",
    "# plot of train and test scores vs tree depth\n",
    "pyplot.plot(values, train_scores, '-o', label='Train')\n",
    "pyplot.plot(values, test_scores, '-o', label='Test')\n",
    "pyplot.legend()\n",
    "pyplot.show()"
   ]
  },
  {
   "cell_type": "markdown",
   "metadata": {
    "id": "EGJpSx6K9Zm6"
   },
   "source": [
    "<font color='red'><b>Pick your best performing model and explain it using success metrics <br>"
   ]
  },
  {
   "cell_type": "markdown",
   "metadata": {
    "id": "uVwJKCP29Zm6"
   },
   "source": [
    "Best performing model is random forest with a recall score of 0.9999608641202254. "
   ]
  },
  {
   "cell_type": "markdown",
   "metadata": {
    "id": "nXuAitYl9Zm6"
   },
   "source": [
    "<font color='green'><b>Following are theoretical questions:"
   ]
  },
  {
   "cell_type": "markdown",
   "metadata": {
    "id": "NcWMhJE69Zm6"
   },
   "source": [
    "<font color='red'><b>For your business case which is more important - precision or recall? Why? <br>"
   ]
  },
  {
   "cell_type": "markdown",
   "metadata": {
    "id": "grmGNxfW9Zm6"
   },
   "source": [
    "Formulas: \n",
    "- $\\text{Precision} = \\frac{\\text{True Frauds}}{\\text{True Frauds} + \\text{False Frauds}}$ <br>\n",
    "- $\\text{Recall} = \\frac{\\text{True Frauds}}{\\text{True Frauds} + \\text{False Non-frauds}}$ <br>\n",
    "\n",
    "The question is the same as asking - is it more important to precisely identify transations that are likely to be fraud or non-fraud with limited number of flags, or is it more important to flag all frauds there could be and maybe include a handful of non-frauds? \n",
    "\n",
    "Recall is more important. It is vital to eliminate false non-frauds (false negatives) and identify as many frauds as possible can, even at the cost of flagging more transactions and triggering false positives. <br>\n",
    "\n",
    "Reference: https://medium.com/@shrutisaxena0617/precision-vs-recall-386cf9f89488"
   ]
  },
  {
   "cell_type": "markdown",
   "metadata": {
    "id": "cZegUwnB9Zm6"
   },
   "source": [
    "<font color='red'><b>For your business case which is more important - accuracy or generalization? Why?"
   ]
  },
  {
   "cell_type": "markdown",
   "metadata": {
    "id": "WAKNAy1j9Zm6"
   },
   "source": [
    "Generalization. It is more important to detect fraud long-term."
   ]
  },
  {
   "cell_type": "markdown",
   "metadata": {
    "id": "dX7QptAx9Zm6"
   },
   "source": [
    "<font color='red'><b>Can you tie accuracies to business value (financial value)?"
   ]
  },
  {
   "cell_type": "markdown",
   "metadata": {
    "id": "y61FZSQ09Zm6"
   },
   "source": []
  },
  {
   "cell_type": "markdown",
   "metadata": {
    "id": "7kX1wsNZ9Zm6"
   },
   "source": [
    "<font color='red'><b>Are these accuracies good enough and give the business value or the ROI they estimated? If not, what else will you do to improve accuracies to get higher business value?"
   ]
  },
  {
   "cell_type": "markdown",
   "metadata": {
    "id": "NTQuLThM9Zm6"
   },
   "source": []
  },
  {
   "cell_type": "markdown",
   "metadata": {
    "id": "QcOW99qd9Zm6"
   },
   "source": [
    "<font color='red'><b>What other data set can you use for this project?"
   ]
  },
  {
   "cell_type": "markdown",
   "metadata": {
    "id": "wkJ0NP0D9Zm7"
   },
   "source": [
    "Current fraud strategies"
   ]
  },
  {
   "cell_type": "markdown",
   "metadata": {
    "id": "7SWPqxEs9Zm7"
   },
   "source": [
    "Will need the actual data, which should ideally include at least\n",
    "- Transaction details\n",
    "    - Account number\n",
    "    - Transaction ID\n",
    "    - Authorization code\n",
    "    - Amount\n",
    "    - Timestamp\n",
    "    - Duration\n",
    "    - Description\n",
    "    - Client IP address\n",
    "    - Fraud flag\n",
    "- Merchant information\n",
    "    - Company name\n",
    "    - Address\n",
    "    - Order ID\n",
    "    - Price\n",
    "    - Quantity\n",
    "- Customer demographics\n",
    "    - Address\n",
    "    - Zip\n",
    "    - Number\n",
    "    - Email\n",
    "    - Gender\n",
    "    - Age\n",
    "    - Income"
   ]
  },
  {
   "cell_type": "markdown",
   "metadata": {
    "id": "4RZyn5O09Zm7"
   },
   "source": [
    "<font color='red'><b>What other pre processing or processing can be done to improve the model?"
   ]
  },
  {
   "cell_type": "markdown",
   "metadata": {
    "id": "rOdSxExB9Zm7"
   },
   "source": [
    "To start with, restore PCA to the original variables. "
   ]
  },
  {
   "cell_type": "markdown",
   "metadata": {
    "id": "nVLt5K739Zm7"
   },
   "source": [
    "<font color='red'><b>What other advanced algorithms would you want to try?"
   ]
  },
  {
   "cell_type": "markdown",
   "metadata": {
    "id": "oXhZGZLZ9Zm7"
   },
   "source": [
    "- Linear Discriminant Analysis\n",
    "- K Nearest Neighbors (KNN)\n",
    "- Support Vector Classifier (long run time)\n",
    "- XGBoost Classifier\n",
    "\n",
    "Reference: https://towardsdatascience.com/detecting-credit-card-fraud-using-machine-learning-a3d83423d3b8"
   ]
  },
  {
   "cell_type": "code",
   "execution_count": null,
   "metadata": {
    "id": "W5Pdoxw_9Zm7"
   },
   "outputs": [],
   "source": []
  }
 ],
 "metadata": {
  "colab": {
   "name": "BankOfAmerica.ipynb",
   "provenance": []
  },
  "kernelspec": {
   "display_name": "Python 3",
   "language": "python",
   "name": "python3"
  },
  "language_info": {
   "codemirror_mode": {
    "name": "ipython",
    "version": 3
   },
   "file_extension": ".py",
   "mimetype": "text/x-python",
   "name": "python",
   "nbconvert_exporter": "python",
   "pygments_lexer": "ipython3",
   "version": "3.8.8"
  }
 },
 "nbformat": 4,
 "nbformat_minor": 1
}
