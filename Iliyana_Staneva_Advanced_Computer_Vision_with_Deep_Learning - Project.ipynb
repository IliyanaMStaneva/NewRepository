{
 "cells": [
  {
   "cell_type": "markdown",
   "metadata": {
    "id": "sinjYpeb3gcV"
   },
   "source": [
    "**A CNN model using Keras to classify the IP 102 dataset for an 80/20 train-test split (60).**\n",
    "\n",
    "### a) Data Preprocessing \n",
    "\n",
    "• Sub sample the dataset with enough representation from each class to suit your compute capacity\n",
    "\n",
    "• Plot the class distribution\n",
    "\n",
    "• Apply various image augmentation settings\n",
    "\n",
    "### b) Custom Model \n",
    "\n",
    "• Summarize the model architecture\n",
    "\n",
    "• Explain the hyperparameters used and the reason why they were used.\n",
    "\n",
    "• Provide an explanation (calculation) of the number of parameters in each layer\n",
    "\n",
    "• Apply BatchNormalization and Dropouts\n",
    "\n",
    "• Apply kernel regularization L1 and L2 (kernel_regularizer)\n",
    "\n",
    "• Plot the drop-in test loss and training loss over epochs\n",
    "\n",
    "### c) Transfer Learning\n",
    "\n",
    "• Transfer learn from any three of the models (ResNet, DenseNet, EfficientNet, etc.)\n",
    "\n",
    "• Freeze most of the layers and train the last few layers on the dataset.\n",
    "\n",
    "• Compare transfer learning to your best custom model (above) in their accuracy and other metrics.\n"
   ]
  },
  {
   "cell_type": "markdown",
   "metadata": {
    "id": "yYiGYxo5wACs"
   },
   "source": [
    "###Inspect -> console\n",
    "\n",
    "function ClickConnect(){\n",
    "console.log(\"Working\"); \n",
    "document.querySelector(\"#top-toolbar > colab-connect-button\").shadowRoot.querySelector(\"#connect\").click();\n",
    "}\n",
    "setInterval(ClickConnect,60000)"
   ]
  },
  {
   "cell_type": "code",
   "execution_count": null,
   "metadata": {
    "id": "QUFNgl4XT-va"
   },
   "outputs": [],
   "source": [
    "#!pip install natsort==8.2.0"
   ]
  },
  {
   "cell_type": "code",
   "execution_count": null,
   "metadata": {
    "colab": {
     "base_uri": "https://localhost:8080/"
    },
    "id": "nA_tJaSOb0jW",
    "outputId": "6f2fa4f9-328b-48f9-abd0-664524d5ff29"
   },
   "outputs": [
    {
     "name": "stdout",
     "output_type": "stream",
     "text": [
      "Mounted at /content/drive\n"
     ]
    }
   ],
   "source": [
    "from google.colab import drive\n",
    "drive.mount('/content/drive')"
   ]
  },
  {
   "cell_type": "code",
   "execution_count": null,
   "metadata": {
    "id": "nH-Jt0sBhtXw"
   },
   "outputs": [],
   "source": [
    "import pandas as pd\n",
    "import numpy as np\n",
    "import tensorflow as tf\n",
    "import keras\n",
    "import matplotlib.pyplot as plt\n",
    "import seaborn as sns\n",
    "import os\n",
    "from pathlib import Path\n",
    "from tensorflow import keras\n",
    "import cv2\n",
    "from sklearn.metrics import confusion_matrix\n",
    "#from natsort import os_sorted\n",
    "from keras.utils import np_utils\n",
    "from keras.layers import Dropout, Flatten, Dense, BatchNormalization\n",
    "from keras.layers import Conv2D, MaxPooling2D\n",
    "from keras import applications\n",
    "from keras.models import Sequential, Model \n",
    "from keras import optimizers\n",
    "from sklearn.model_selection import train_test_split\n",
    "from tensorflow.keras.preprocessing import image"
   ]
  },
  {
   "cell_type": "code",
   "execution_count": null,
   "metadata": {
    "colab": {
     "base_uri": "https://localhost:8080/",
     "height": 424
    },
    "id": "ZGNCMVcy-B54",
    "outputId": "62f389b4-1294-48db-8106-f22750252da6"
   },
   "outputs": [
    {
     "data": {
      "text/html": [
       "\n",
       "  <div id=\"df-427578df-c50b-48aa-be7b-35e9dff19493\">\n",
       "    <div class=\"colab-df-container\">\n",
       "      <div>\n",
       "<style scoped>\n",
       "    .dataframe tbody tr th:only-of-type {\n",
       "        vertical-align: middle;\n",
       "    }\n",
       "\n",
       "    .dataframe tbody tr th {\n",
       "        vertical-align: top;\n",
       "    }\n",
       "\n",
       "    .dataframe thead th {\n",
       "        text-align: right;\n",
       "    }\n",
       "</style>\n",
       "<table border=\"1\" class=\"dataframe\">\n",
       "  <thead>\n",
       "    <tr style=\"text-align: right;\">\n",
       "      <th></th>\n",
       "      <th>label</th>\n",
       "      <th>name</th>\n",
       "    </tr>\n",
       "  </thead>\n",
       "  <tbody>\n",
       "    <tr>\n",
       "      <th>0</th>\n",
       "      <td>1</td>\n",
       "      <td>rice leaf roller</td>\n",
       "    </tr>\n",
       "    <tr>\n",
       "      <th>1</th>\n",
       "      <td>2</td>\n",
       "      <td>rice leaf caterpillar</td>\n",
       "    </tr>\n",
       "    <tr>\n",
       "      <th>2</th>\n",
       "      <td>3</td>\n",
       "      <td>paddy stem maggot</td>\n",
       "    </tr>\n",
       "    <tr>\n",
       "      <th>3</th>\n",
       "      <td>4</td>\n",
       "      <td>asiatic rice borer</td>\n",
       "    </tr>\n",
       "    <tr>\n",
       "      <th>4</th>\n",
       "      <td>5</td>\n",
       "      <td>yellow rice borer</td>\n",
       "    </tr>\n",
       "    <tr>\n",
       "      <th>...</th>\n",
       "      <td>...</td>\n",
       "      <td>...</td>\n",
       "    </tr>\n",
       "    <tr>\n",
       "      <th>97</th>\n",
       "      <td>98</td>\n",
       "      <td>Chlumetia transversa</td>\n",
       "    </tr>\n",
       "    <tr>\n",
       "      <th>98</th>\n",
       "      <td>99</td>\n",
       "      <td>Mango flat beak leafhopper</td>\n",
       "    </tr>\n",
       "    <tr>\n",
       "      <th>99</th>\n",
       "      <td>100</td>\n",
       "      <td>Rhytidodera bowrinii white</td>\n",
       "    </tr>\n",
       "    <tr>\n",
       "      <th>100</th>\n",
       "      <td>101</td>\n",
       "      <td>Sternochetus frigidus</td>\n",
       "    </tr>\n",
       "    <tr>\n",
       "      <th>101</th>\n",
       "      <td>102</td>\n",
       "      <td>Cicadellidae</td>\n",
       "    </tr>\n",
       "  </tbody>\n",
       "</table>\n",
       "<p>102 rows × 2 columns</p>\n",
       "</div>\n",
       "      <button class=\"colab-df-convert\" onclick=\"convertToInteractive('df-427578df-c50b-48aa-be7b-35e9dff19493')\"\n",
       "              title=\"Convert this dataframe to an interactive table.\"\n",
       "              style=\"display:none;\">\n",
       "        \n",
       "  <svg xmlns=\"http://www.w3.org/2000/svg\" height=\"24px\"viewBox=\"0 0 24 24\"\n",
       "       width=\"24px\">\n",
       "    <path d=\"M0 0h24v24H0V0z\" fill=\"none\"/>\n",
       "    <path d=\"M18.56 5.44l.94 2.06.94-2.06 2.06-.94-2.06-.94-.94-2.06-.94 2.06-2.06.94zm-11 1L8.5 8.5l.94-2.06 2.06-.94-2.06-.94L8.5 2.5l-.94 2.06-2.06.94zm10 10l.94 2.06.94-2.06 2.06-.94-2.06-.94-.94-2.06-.94 2.06-2.06.94z\"/><path d=\"M17.41 7.96l-1.37-1.37c-.4-.4-.92-.59-1.43-.59-.52 0-1.04.2-1.43.59L10.3 9.45l-7.72 7.72c-.78.78-.78 2.05 0 2.83L4 21.41c.39.39.9.59 1.41.59.51 0 1.02-.2 1.41-.59l7.78-7.78 2.81-2.81c.8-.78.8-2.07 0-2.86zM5.41 20L4 18.59l7.72-7.72 1.47 1.35L5.41 20z\"/>\n",
       "  </svg>\n",
       "      </button>\n",
       "      \n",
       "  <style>\n",
       "    .colab-df-container {\n",
       "      display:flex;\n",
       "      flex-wrap:wrap;\n",
       "      gap: 12px;\n",
       "    }\n",
       "\n",
       "    .colab-df-convert {\n",
       "      background-color: #E8F0FE;\n",
       "      border: none;\n",
       "      border-radius: 50%;\n",
       "      cursor: pointer;\n",
       "      display: none;\n",
       "      fill: #1967D2;\n",
       "      height: 32px;\n",
       "      padding: 0 0 0 0;\n",
       "      width: 32px;\n",
       "    }\n",
       "\n",
       "    .colab-df-convert:hover {\n",
       "      background-color: #E2EBFA;\n",
       "      box-shadow: 0px 1px 2px rgba(60, 64, 67, 0.3), 0px 1px 3px 1px rgba(60, 64, 67, 0.15);\n",
       "      fill: #174EA6;\n",
       "    }\n",
       "\n",
       "    [theme=dark] .colab-df-convert {\n",
       "      background-color: #3B4455;\n",
       "      fill: #D2E3FC;\n",
       "    }\n",
       "\n",
       "    [theme=dark] .colab-df-convert:hover {\n",
       "      background-color: #434B5C;\n",
       "      box-shadow: 0px 1px 3px 1px rgba(0, 0, 0, 0.15);\n",
       "      filter: drop-shadow(0px 1px 2px rgba(0, 0, 0, 0.3));\n",
       "      fill: #FFFFFF;\n",
       "    }\n",
       "  </style>\n",
       "\n",
       "      <script>\n",
       "        const buttonEl =\n",
       "          document.querySelector('#df-427578df-c50b-48aa-be7b-35e9dff19493 button.colab-df-convert');\n",
       "        buttonEl.style.display =\n",
       "          google.colab.kernel.accessAllowed ? 'block' : 'none';\n",
       "\n",
       "        async function convertToInteractive(key) {\n",
       "          const element = document.querySelector('#df-427578df-c50b-48aa-be7b-35e9dff19493');\n",
       "          const dataTable =\n",
       "            await google.colab.kernel.invokeFunction('convertToInteractive',\n",
       "                                                     [key], {});\n",
       "          if (!dataTable) return;\n",
       "\n",
       "          const docLinkHtml = 'Like what you see? Visit the ' +\n",
       "            '<a target=\"_blank\" href=https://colab.research.google.com/notebooks/data_table.ipynb>data table notebook</a>'\n",
       "            + ' to learn more about interactive tables.';\n",
       "          element.innerHTML = '';\n",
       "          dataTable['output_type'] = 'display_data';\n",
       "          await google.colab.output.renderOutput(dataTable, element);\n",
       "          const docLink = document.createElement('div');\n",
       "          docLink.innerHTML = docLinkHtml;\n",
       "          element.appendChild(docLink);\n",
       "        }\n",
       "      </script>\n",
       "    </div>\n",
       "  </div>\n",
       "  "
      ],
      "text/plain": [
       "    label                        name\n",
       "0       1            rice leaf roller\n",
       "1       2       rice leaf caterpillar\n",
       "2       3           paddy stem maggot\n",
       "3       4          asiatic rice borer\n",
       "4       5           yellow rice borer\n",
       "..    ...                         ...\n",
       "97     98        Chlumetia transversa\n",
       "98     99  Mango flat beak leafhopper\n",
       "99    100  Rhytidodera bowrinii white\n",
       "100   101       Sternochetus frigidus\n",
       "101   102                Cicadellidae\n",
       "\n",
       "[102 rows x 2 columns]"
      ]
     },
     "execution_count": 3,
     "metadata": {},
     "output_type": "execute_result"
    }
   ],
   "source": [
    "f = open('/content/drive/MyDrive/CV Project/classes.txt')\n",
    "label = []\n",
    "name = []\n",
    "for line in f.readlines():\n",
    "    label.append(int(line.split()[0]))\n",
    "    name.append(' '.join(line.split()[1:]))\n",
    "classes = pd.DataFrame([label, name]).T\n",
    "classes.columns = ['label','name']\n",
    "classes"
   ]
  },
  {
   "cell_type": "code",
   "execution_count": null,
   "metadata": {
    "colab": {
     "base_uri": "https://localhost:8080/",
     "height": 206
    },
    "id": "O65XAqDP-B8P",
    "outputId": "204337a1-fdd1-4312-8cfc-417d32907933"
   },
   "outputs": [
    {
     "data": {
      "text/html": [
       "\n",
       "  <div id=\"df-b9bdff35-038a-4dc4-8c8c-8febae430058\">\n",
       "    <div class=\"colab-df-container\">\n",
       "      <div>\n",
       "<style scoped>\n",
       "    .dataframe tbody tr th:only-of-type {\n",
       "        vertical-align: middle;\n",
       "    }\n",
       "\n",
       "    .dataframe tbody tr th {\n",
       "        vertical-align: top;\n",
       "    }\n",
       "\n",
       "    .dataframe thead th {\n",
       "        text-align: right;\n",
       "    }\n",
       "</style>\n",
       "<table border=\"1\" class=\"dataframe\">\n",
       "  <thead>\n",
       "    <tr style=\"text-align: right;\">\n",
       "      <th></th>\n",
       "      <th>image_path</th>\n",
       "      <th>label</th>\n",
       "    </tr>\n",
       "  </thead>\n",
       "  <tbody>\n",
       "    <tr>\n",
       "      <th>22614</th>\n",
       "      <td>75200.jpg</td>\n",
       "      <td>101</td>\n",
       "    </tr>\n",
       "    <tr>\n",
       "      <th>22615</th>\n",
       "      <td>75213.jpg</td>\n",
       "      <td>101</td>\n",
       "    </tr>\n",
       "    <tr>\n",
       "      <th>22616</th>\n",
       "      <td>75215.jpg</td>\n",
       "      <td>101</td>\n",
       "    </tr>\n",
       "    <tr>\n",
       "      <th>22617</th>\n",
       "      <td>75218.jpg</td>\n",
       "      <td>101</td>\n",
       "    </tr>\n",
       "    <tr>\n",
       "      <th>22618</th>\n",
       "      <td>75220.jpg</td>\n",
       "      <td>101</td>\n",
       "    </tr>\n",
       "  </tbody>\n",
       "</table>\n",
       "</div>\n",
       "      <button class=\"colab-df-convert\" onclick=\"convertToInteractive('df-b9bdff35-038a-4dc4-8c8c-8febae430058')\"\n",
       "              title=\"Convert this dataframe to an interactive table.\"\n",
       "              style=\"display:none;\">\n",
       "        \n",
       "  <svg xmlns=\"http://www.w3.org/2000/svg\" height=\"24px\"viewBox=\"0 0 24 24\"\n",
       "       width=\"24px\">\n",
       "    <path d=\"M0 0h24v24H0V0z\" fill=\"none\"/>\n",
       "    <path d=\"M18.56 5.44l.94 2.06.94-2.06 2.06-.94-2.06-.94-.94-2.06-.94 2.06-2.06.94zm-11 1L8.5 8.5l.94-2.06 2.06-.94-2.06-.94L8.5 2.5l-.94 2.06-2.06.94zm10 10l.94 2.06.94-2.06 2.06-.94-2.06-.94-.94-2.06-.94 2.06-2.06.94z\"/><path d=\"M17.41 7.96l-1.37-1.37c-.4-.4-.92-.59-1.43-.59-.52 0-1.04.2-1.43.59L10.3 9.45l-7.72 7.72c-.78.78-.78 2.05 0 2.83L4 21.41c.39.39.9.59 1.41.59.51 0 1.02-.2 1.41-.59l7.78-7.78 2.81-2.81c.8-.78.8-2.07 0-2.86zM5.41 20L4 18.59l7.72-7.72 1.47 1.35L5.41 20z\"/>\n",
       "  </svg>\n",
       "      </button>\n",
       "      \n",
       "  <style>\n",
       "    .colab-df-container {\n",
       "      display:flex;\n",
       "      flex-wrap:wrap;\n",
       "      gap: 12px;\n",
       "    }\n",
       "\n",
       "    .colab-df-convert {\n",
       "      background-color: #E8F0FE;\n",
       "      border: none;\n",
       "      border-radius: 50%;\n",
       "      cursor: pointer;\n",
       "      display: none;\n",
       "      fill: #1967D2;\n",
       "      height: 32px;\n",
       "      padding: 0 0 0 0;\n",
       "      width: 32px;\n",
       "    }\n",
       "\n",
       "    .colab-df-convert:hover {\n",
       "      background-color: #E2EBFA;\n",
       "      box-shadow: 0px 1px 2px rgba(60, 64, 67, 0.3), 0px 1px 3px 1px rgba(60, 64, 67, 0.15);\n",
       "      fill: #174EA6;\n",
       "    }\n",
       "\n",
       "    [theme=dark] .colab-df-convert {\n",
       "      background-color: #3B4455;\n",
       "      fill: #D2E3FC;\n",
       "    }\n",
       "\n",
       "    [theme=dark] .colab-df-convert:hover {\n",
       "      background-color: #434B5C;\n",
       "      box-shadow: 0px 1px 3px 1px rgba(0, 0, 0, 0.15);\n",
       "      filter: drop-shadow(0px 1px 2px rgba(0, 0, 0, 0.3));\n",
       "      fill: #FFFFFF;\n",
       "    }\n",
       "  </style>\n",
       "\n",
       "      <script>\n",
       "        const buttonEl =\n",
       "          document.querySelector('#df-b9bdff35-038a-4dc4-8c8c-8febae430058 button.colab-df-convert');\n",
       "        buttonEl.style.display =\n",
       "          google.colab.kernel.accessAllowed ? 'block' : 'none';\n",
       "\n",
       "        async function convertToInteractive(key) {\n",
       "          const element = document.querySelector('#df-b9bdff35-038a-4dc4-8c8c-8febae430058');\n",
       "          const dataTable =\n",
       "            await google.colab.kernel.invokeFunction('convertToInteractive',\n",
       "                                                     [key], {});\n",
       "          if (!dataTable) return;\n",
       "\n",
       "          const docLinkHtml = 'Like what you see? Visit the ' +\n",
       "            '<a target=\"_blank\" href=https://colab.research.google.com/notebooks/data_table.ipynb>data table notebook</a>'\n",
       "            + ' to learn more about interactive tables.';\n",
       "          element.innerHTML = '';\n",
       "          dataTable['output_type'] = 'display_data';\n",
       "          await google.colab.output.renderOutput(dataTable, element);\n",
       "          const docLink = document.createElement('div');\n",
       "          docLink.innerHTML = docLinkHtml;\n",
       "          element.appendChild(docLink);\n",
       "        }\n",
       "      </script>\n",
       "    </div>\n",
       "  </div>\n",
       "  "
      ],
      "text/plain": [
       "      image_path  label\n",
       "22614  75200.jpg    101\n",
       "22615  75213.jpg    101\n",
       "22616  75215.jpg    101\n",
       "22617  75218.jpg    101\n",
       "22618  75220.jpg    101"
      ]
     },
     "execution_count": 4,
     "metadata": {},
     "output_type": "execute_result"
    }
   ],
   "source": [
    "train_df = pd.read_csv('/content/drive/MyDrive/CV Project/train.txt',sep=' ',header=None, engine='python')\n",
    "train_df.columns = ['image_path','label']\n",
    "\n",
    "test_df = pd.read_csv('/content/drive/MyDrive/CV Project/test.txt',sep=' ',header=None, engine='python')\n",
    "test_df.columns = ['image_path','label']\n",
    "\n",
    "val_df = pd.read_csv('/content/drive/MyDrive/CV Project/val.txt',sep=' ',header=None, engine='python')\n",
    "val_df.columns = ['image_path','label']\n",
    "\n",
    "test_df.head()\n",
    "test_df.tail()"
   ]
  },
  {
   "cell_type": "code",
   "execution_count": null,
   "metadata": {
    "colab": {
     "base_uri": "https://localhost:8080/",
     "height": 387
    },
    "id": "OQr2B78yERsI",
    "outputId": "1183a2ed-8a5f-4e2a-c0b7-d8881500e5ad"
   },
   "outputs": [
    {
     "data": {
      "text/plain": [
       "<seaborn.axisgrid.FacetGrid at 0x7f1b0857bfa0>"
      ]
     },
     "execution_count": 5,
     "metadata": {},
     "output_type": "execute_result"
    },
    {
     "data": {
      "image/png": "[encoded data removed]",
      "text/plain": [
       "<Figure size 360x360 with 1 Axes>"
      ]
     },
     "metadata": {
      "needs_background": "light"
     },
     "output_type": "display_data"
    }
   ],
   "source": [
    "sns.displot(train_df, x=\"label\", bins=15, kde=True )"
   ]
  },
  {
   "cell_type": "code",
   "execution_count": null,
   "metadata": {
    "id": "PxFVCtmo1LWe"
   },
   "outputs": [],
   "source": [
    "#from pandas.core.internals import concat\n",
    "\n",
    "#dfs = [train_df, test_df, val_df]  \n",
    "#df = pd.concat(dfs)\n",
    "#df,df.columns"
   ]
  },
  {
   "cell_type": "code",
   "execution_count": null,
   "metadata": {
    "colab": {
     "base_uri": "https://localhost:8080/",
     "height": 424
    },
    "id": "FBQML8A79adp",
    "outputId": "d992806f-5e26-443c-8631-0a768bef663f"
   },
   "outputs": [
    {
     "data": {
      "text/html": [
       "\n",
       "  <div id=\"df-764855a6-b535-4f31-a716-4567cb8e10ce\">\n",
       "    <div class=\"colab-df-container\">\n",
       "      <div>\n",
       "<style scoped>\n",
       "    .dataframe tbody tr th:only-of-type {\n",
       "        vertical-align: middle;\n",
       "    }\n",
       "\n",
       "    .dataframe tbody tr th {\n",
       "        vertical-align: top;\n",
       "    }\n",
       "\n",
       "    .dataframe thead th {\n",
       "        text-align: right;\n",
       "    }\n",
       "</style>\n",
       "<table border=\"1\" class=\"dataframe\">\n",
       "  <thead>\n",
       "    <tr style=\"text-align: right;\">\n",
       "      <th></th>\n",
       "      <th>image_path</th>\n",
       "      <th>label</th>\n",
       "    </tr>\n",
       "  </thead>\n",
       "  <tbody>\n",
       "    <tr>\n",
       "      <th>656</th>\n",
       "      <td>01091.jpg</td>\n",
       "      <td>0</td>\n",
       "    </tr>\n",
       "    <tr>\n",
       "      <th>397</th>\n",
       "      <td>00679.jpg</td>\n",
       "      <td>0</td>\n",
       "    </tr>\n",
       "    <tr>\n",
       "      <th>304</th>\n",
       "      <td>00514.jpg</td>\n",
       "      <td>0</td>\n",
       "    </tr>\n",
       "    <tr>\n",
       "      <th>85</th>\n",
       "      <td>00148.jpg</td>\n",
       "      <td>0</td>\n",
       "    </tr>\n",
       "    <tr>\n",
       "      <th>60</th>\n",
       "      <td>00093.jpg</td>\n",
       "      <td>0</td>\n",
       "    </tr>\n",
       "    <tr>\n",
       "      <th>...</th>\n",
       "      <td>...</td>\n",
       "      <td>...</td>\n",
       "    </tr>\n",
       "    <tr>\n",
       "      <th>42796</th>\n",
       "      <td>71329.jpg</td>\n",
       "      <td>101</td>\n",
       "    </tr>\n",
       "    <tr>\n",
       "      <th>43272</th>\n",
       "      <td>72146.jpg</td>\n",
       "      <td>101</td>\n",
       "    </tr>\n",
       "    <tr>\n",
       "      <th>42222</th>\n",
       "      <td>70406.jpg</td>\n",
       "      <td>101</td>\n",
       "    </tr>\n",
       "    <tr>\n",
       "      <th>42250</th>\n",
       "      <td>70448.jpg</td>\n",
       "      <td>101</td>\n",
       "    </tr>\n",
       "    <tr>\n",
       "      <th>42691</th>\n",
       "      <td>71151.jpg</td>\n",
       "      <td>101</td>\n",
       "    </tr>\n",
       "  </tbody>\n",
       "</table>\n",
       "<p>11270 rows × 2 columns</p>\n",
       "</div>\n",
       "      <button class=\"colab-df-convert\" onclick=\"convertToInteractive('df-764855a6-b535-4f31-a716-4567cb8e10ce')\"\n",
       "              title=\"Convert this dataframe to an interactive table.\"\n",
       "              style=\"display:none;\">\n",
       "        \n",
       "  <svg xmlns=\"http://www.w3.org/2000/svg\" height=\"24px\"viewBox=\"0 0 24 24\"\n",
       "       width=\"24px\">\n",
       "    <path d=\"M0 0h24v24H0V0z\" fill=\"none\"/>\n",
       "    <path d=\"M18.56 5.44l.94 2.06.94-2.06 2.06-.94-2.06-.94-.94-2.06-.94 2.06-2.06.94zm-11 1L8.5 8.5l.94-2.06 2.06-.94-2.06-.94L8.5 2.5l-.94 2.06-2.06.94zm10 10l.94 2.06.94-2.06 2.06-.94-2.06-.94-.94-2.06-.94 2.06-2.06.94z\"/><path d=\"M17.41 7.96l-1.37-1.37c-.4-.4-.92-.59-1.43-.59-.52 0-1.04.2-1.43.59L10.3 9.45l-7.72 7.72c-.78.78-.78 2.05 0 2.83L4 21.41c.39.39.9.59 1.41.59.51 0 1.02-.2 1.41-.59l7.78-7.78 2.81-2.81c.8-.78.8-2.07 0-2.86zM5.41 20L4 18.59l7.72-7.72 1.47 1.35L5.41 20z\"/>\n",
       "  </svg>\n",
       "      </button>\n",
       "      \n",
       "  <style>\n",
       "    .colab-df-container {\n",
       "      display:flex;\n",
       "      flex-wrap:wrap;\n",
       "      gap: 12px;\n",
       "    }\n",
       "\n",
       "    .colab-df-convert {\n",
       "      background-color: #E8F0FE;\n",
       "      border: none;\n",
       "      border-radius: 50%;\n",
       "      cursor: pointer;\n",
       "      display: none;\n",
       "      fill: #1967D2;\n",
       "      height: 32px;\n",
       "      padding: 0 0 0 0;\n",
       "      width: 32px;\n",
       "    }\n",
       "\n",
       "    .colab-df-convert:hover {\n",
       "      background-color: #E2EBFA;\n",
       "      box-shadow: 0px 1px 2px rgba(60, 64, 67, 0.3), 0px 1px 3px 1px rgba(60, 64, 67, 0.15);\n",
       "      fill: #174EA6;\n",
       "    }\n",
       "\n",
       "    [theme=dark] .colab-df-convert {\n",
       "      background-color: #3B4455;\n",
       "      fill: #D2E3FC;\n",
       "    }\n",
       "\n",
       "    [theme=dark] .colab-df-convert:hover {\n",
       "      background-color: #434B5C;\n",
       "      box-shadow: 0px 1px 3px 1px rgba(0, 0, 0, 0.15);\n",
       "      filter: drop-shadow(0px 1px 2px rgba(0, 0, 0, 0.3));\n",
       "      fill: #FFFFFF;\n",
       "    }\n",
       "  </style>\n",
       "\n",
       "      <script>\n",
       "        const buttonEl =\n",
       "          document.querySelector('#df-764855a6-b535-4f31-a716-4567cb8e10ce button.colab-df-convert');\n",
       "        buttonEl.style.display =\n",
       "          google.colab.kernel.accessAllowed ? 'block' : 'none';\n",
       "\n",
       "        async function convertToInteractive(key) {\n",
       "          const element = document.querySelector('#df-764855a6-b535-4f31-a716-4567cb8e10ce');\n",
       "          const dataTable =\n",
       "            await google.colab.kernel.invokeFunction('convertToInteractive',\n",
       "                                                     [key], {});\n",
       "          if (!dataTable) return;\n",
       "\n",
       "          const docLinkHtml = 'Like what you see? Visit the ' +\n",
       "            '<a target=\"_blank\" href=https://colab.research.google.com/notebooks/data_table.ipynb>data table notebook</a>'\n",
       "            + ' to learn more about interactive tables.';\n",
       "          element.innerHTML = '';\n",
       "          dataTable['output_type'] = 'display_data';\n",
       "          await google.colab.output.renderOutput(dataTable, element);\n",
       "          const docLink = document.createElement('div');\n",
       "          docLink.innerHTML = docLinkHtml;\n",
       "          element.appendChild(docLink);\n",
       "        }\n",
       "      </script>\n",
       "    </div>\n",
       "  </div>\n",
       "  "
      ],
      "text/plain": [
       "      image_path  label\n",
       "656    01091.jpg      0\n",
       "397    00679.jpg      0\n",
       "304    00514.jpg      0\n",
       "85     00148.jpg      0\n",
       "60     00093.jpg      0\n",
       "...          ...    ...\n",
       "42796  71329.jpg    101\n",
       "43272  72146.jpg    101\n",
       "42222  70406.jpg    101\n",
       "42250  70448.jpg    101\n",
       "42691  71151.jpg    101\n",
       "\n",
       "[11270 rows x 2 columns]"
      ]
     },
     "execution_count": 6,
     "metadata": {},
     "output_type": "execute_result"
    }
   ],
   "source": [
    "train_df = train_df.groupby('label', group_keys=False).apply(lambda x: x.sample(frac = 0.25, random_state = 1))\n",
    "train_df"
   ]
  },
  {
   "cell_type": "code",
   "execution_count": null,
   "metadata": {
    "id": "lQ2oKC5pzaFU"
   },
   "outputs": [],
   "source": [
    "import collections\n",
    "\n",
    "labels = train_df['label'].to_list()\n",
    "c = collections.Counter(labels)\n",
    "#c"
   ]
  },
  {
   "cell_type": "code",
   "execution_count": null,
   "metadata": {
    "colab": {
     "base_uri": "https://localhost:8080/",
     "height": 387
    },
    "id": "Uewnsn3_D_xo",
    "outputId": "a66e2c97-397e-46c0-a11e-6bd4319ed87a"
   },
   "outputs": [
    {
     "data": {
      "text/plain": [
       "<seaborn.axisgrid.FacetGrid at 0x7f1bce3c2280>"
      ]
     },
     "execution_count": 8,
     "metadata": {},
     "output_type": "execute_result"
    },
    {
     "data": {
      "image/png": "[encoded data removed]",
      "text/plain": [
       "<Figure size 360x360 with 1 Axes>"
      ]
     },
     "metadata": {
      "needs_background": "light"
     },
     "output_type": "display_data"
    }
   ],
   "source": [
    "sns.displot(train_df, x=\"label\", bins=15, kde=True)"
   ]
  },
  {
   "cell_type": "code",
   "execution_count": null,
   "metadata": {
    "colab": {
     "base_uri": "https://localhost:8080/",
     "height": 424
    },
    "id": "DCCxyoxSA0F1",
    "outputId": "b570c6ab-0af9-4c27-f0de-a3a75090c841"
   },
   "outputs": [
    {
     "data": {
      "text/html": [
       "\n",
       "  <div id=\"df-5acca1d0-1c3b-40c7-a717-57b4ddd66553\">\n",
       "    <div class=\"colab-df-container\">\n",
       "      <div>\n",
       "<style scoped>\n",
       "    .dataframe tbody tr th:only-of-type {\n",
       "        vertical-align: middle;\n",
       "    }\n",
       "\n",
       "    .dataframe tbody tr th {\n",
       "        vertical-align: top;\n",
       "    }\n",
       "\n",
       "    .dataframe thead th {\n",
       "        text-align: right;\n",
       "    }\n",
       "</style>\n",
       "<table border=\"1\" class=\"dataframe\">\n",
       "  <thead>\n",
       "    <tr style=\"text-align: right;\">\n",
       "      <th></th>\n",
       "      <th>image_path</th>\n",
       "      <th>label</th>\n",
       "    </tr>\n",
       "  </thead>\n",
       "  <tbody>\n",
       "    <tr>\n",
       "      <th>80</th>\n",
       "      <td>00282.jpg</td>\n",
       "      <td>0</td>\n",
       "    </tr>\n",
       "    <tr>\n",
       "      <th>59</th>\n",
       "      <td>00207.jpg</td>\n",
       "      <td>0</td>\n",
       "    </tr>\n",
       "    <tr>\n",
       "      <th>258</th>\n",
       "      <td>00818.jpg</td>\n",
       "      <td>0</td>\n",
       "    </tr>\n",
       "    <tr>\n",
       "      <th>284</th>\n",
       "      <td>00912.jpg</td>\n",
       "      <td>0</td>\n",
       "    </tr>\n",
       "    <tr>\n",
       "      <th>191</th>\n",
       "      <td>00615.jpg</td>\n",
       "      <td>0</td>\n",
       "    </tr>\n",
       "    <tr>\n",
       "      <th>...</th>\n",
       "      <td>...</td>\n",
       "      <td>...</td>\n",
       "    </tr>\n",
       "    <tr>\n",
       "      <th>22306</th>\n",
       "      <td>74205.jpg</td>\n",
       "      <td>101</td>\n",
       "    </tr>\n",
       "    <tr>\n",
       "      <th>21715</th>\n",
       "      <td>72272.jpg</td>\n",
       "      <td>101</td>\n",
       "    </tr>\n",
       "    <tr>\n",
       "      <th>22114</th>\n",
       "      <td>73557.jpg</td>\n",
       "      <td>101</td>\n",
       "    </tr>\n",
       "    <tr>\n",
       "      <th>21695</th>\n",
       "      <td>72216.jpg</td>\n",
       "      <td>101</td>\n",
       "    </tr>\n",
       "    <tr>\n",
       "      <th>21729</th>\n",
       "      <td>72303.jpg</td>\n",
       "      <td>101</td>\n",
       "    </tr>\n",
       "  </tbody>\n",
       "</table>\n",
       "<p>2263 rows × 2 columns</p>\n",
       "</div>\n",
       "      <button class=\"colab-df-convert\" onclick=\"convertToInteractive('df-5acca1d0-1c3b-40c7-a717-57b4ddd66553')\"\n",
       "              title=\"Convert this dataframe to an interactive table.\"\n",
       "              style=\"display:none;\">\n",
       "        \n",
       "  <svg xmlns=\"http://www.w3.org/2000/svg\" height=\"24px\"viewBox=\"0 0 24 24\"\n",
       "       width=\"24px\">\n",
       "    <path d=\"M0 0h24v24H0V0z\" fill=\"none\"/>\n",
       "    <path d=\"M18.56 5.44l.94 2.06.94-2.06 2.06-.94-2.06-.94-.94-2.06-.94 2.06-2.06.94zm-11 1L8.5 8.5l.94-2.06 2.06-.94-2.06-.94L8.5 2.5l-.94 2.06-2.06.94zm10 10l.94 2.06.94-2.06 2.06-.94-2.06-.94-.94-2.06-.94 2.06-2.06.94z\"/><path d=\"M17.41 7.96l-1.37-1.37c-.4-.4-.92-.59-1.43-.59-.52 0-1.04.2-1.43.59L10.3 9.45l-7.72 7.72c-.78.78-.78 2.05 0 2.83L4 21.41c.39.39.9.59 1.41.59.51 0 1.02-.2 1.41-.59l7.78-7.78 2.81-2.81c.8-.78.8-2.07 0-2.86zM5.41 20L4 18.59l7.72-7.72 1.47 1.35L5.41 20z\"/>\n",
       "  </svg>\n",
       "      </button>\n",
       "      \n",
       "  <style>\n",
       "    .colab-df-container {\n",
       "      display:flex;\n",
       "      flex-wrap:wrap;\n",
       "      gap: 12px;\n",
       "    }\n",
       "\n",
       "    .colab-df-convert {\n",
       "      background-color: #E8F0FE;\n",
       "      border: none;\n",
       "      border-radius: 50%;\n",
       "      cursor: pointer;\n",
       "      display: none;\n",
       "      fill: #1967D2;\n",
       "      height: 32px;\n",
       "      padding: 0 0 0 0;\n",
       "      width: 32px;\n",
       "    }\n",
       "\n",
       "    .colab-df-convert:hover {\n",
       "      background-color: #E2EBFA;\n",
       "      box-shadow: 0px 1px 2px rgba(60, 64, 67, 0.3), 0px 1px 3px 1px rgba(60, 64, 67, 0.15);\n",
       "      fill: #174EA6;\n",
       "    }\n",
       "\n",
       "    [theme=dark] .colab-df-convert {\n",
       "      background-color: #3B4455;\n",
       "      fill: #D2E3FC;\n",
       "    }\n",
       "\n",
       "    [theme=dark] .colab-df-convert:hover {\n",
       "      background-color: #434B5C;\n",
       "      box-shadow: 0px 1px 3px 1px rgba(0, 0, 0, 0.15);\n",
       "      filter: drop-shadow(0px 1px 2px rgba(0, 0, 0, 0.3));\n",
       "      fill: #FFFFFF;\n",
       "    }\n",
       "  </style>\n",
       "\n",
       "      <script>\n",
       "        const buttonEl =\n",
       "          document.querySelector('#df-5acca1d0-1c3b-40c7-a717-57b4ddd66553 button.colab-df-convert');\n",
       "        buttonEl.style.display =\n",
       "          google.colab.kernel.accessAllowed ? 'block' : 'none';\n",
       "\n",
       "        async function convertToInteractive(key) {\n",
       "          const element = document.querySelector('#df-5acca1d0-1c3b-40c7-a717-57b4ddd66553');\n",
       "          const dataTable =\n",
       "            await google.colab.kernel.invokeFunction('convertToInteractive',\n",
       "                                                     [key], {});\n",
       "          if (!dataTable) return;\n",
       "\n",
       "          const docLinkHtml = 'Like what you see? Visit the ' +\n",
       "            '<a target=\"_blank\" href=https://colab.research.google.com/notebooks/data_table.ipynb>data table notebook</a>'\n",
       "            + ' to learn more about interactive tables.';\n",
       "          element.innerHTML = '';\n",
       "          dataTable['output_type'] = 'display_data';\n",
       "          await google.colab.output.renderOutput(dataTable, element);\n",
       "          const docLink = document.createElement('div');\n",
       "          docLink.innerHTML = docLinkHtml;\n",
       "          element.appendChild(docLink);\n",
       "        }\n",
       "      </script>\n",
       "    </div>\n",
       "  </div>\n",
       "  "
      ],
      "text/plain": [
       "      image_path  label\n",
       "80     00282.jpg      0\n",
       "59     00207.jpg      0\n",
       "258    00818.jpg      0\n",
       "284    00912.jpg      0\n",
       "191    00615.jpg      0\n",
       "...          ...    ...\n",
       "22306  74205.jpg    101\n",
       "21715  72272.jpg    101\n",
       "22114  73557.jpg    101\n",
       "21695  72216.jpg    101\n",
       "21729  72303.jpg    101\n",
       "\n",
       "[2263 rows x 2 columns]"
      ]
     },
     "execution_count": 9,
     "metadata": {},
     "output_type": "execute_result"
    }
   ],
   "source": [
    "test_df = test_df.groupby('label', group_keys=False).apply(lambda x: x.sample(frac = 0.10, random_state = 1))\n",
    "test_df"
   ]
  },
  {
   "cell_type": "markdown",
   "metadata": {
    "id": "TJZBVJkxfyPD"
   },
   "source": [
    "####Distribution preserved"
   ]
  },
  {
   "cell_type": "code",
   "execution_count": null,
   "metadata": {
    "id": "eWF20YQpITk_"
   },
   "outputs": [],
   "source": []
  },
  {
   "cell_type": "code",
   "execution_count": null,
   "metadata": {
    "colab": {
     "base_uri": "https://localhost:8080/"
    },
    "id": "2OItH5-cNoXN",
    "outputId": "84d6f9a2-58a9-42c4-9243-db37c9e3588c"
   },
   "outputs": [
    {
     "name": "stdout",
     "output_type": "stream",
     "text": [
      "Looking in indexes: https://pypi.org/simple, https://us-python.pkg.dev/colab-wheels/public/simple/\n",
      "Collecting Augmentor\n",
      "  Downloading Augmentor-0.2.10-py2.py3-none-any.whl (38 kB)\n",
      "Requirement already satisfied: Pillow>=5.2.0 in /usr/local/lib/python3.8/dist-packages (from Augmentor) (7.1.2)\n",
      "Requirement already satisfied: future>=0.16.0 in /usr/local/lib/python3.8/dist-packages (from Augmentor) (0.16.0)\n",
      "Requirement already satisfied: numpy>=1.11.0 in /usr/local/lib/python3.8/dist-packages (from Augmentor) (1.21.6)\n",
      "Requirement already satisfied: tqdm>=4.9.0 in /usr/local/lib/python3.8/dist-packages (from Augmentor) (4.64.1)\n",
      "Installing collected packages: Augmentor\n",
      "Successfully installed Augmentor-0.2.10\n"
     ]
    }
   ],
   "source": [
    "!pip install Augmentor"
   ]
  },
  {
   "cell_type": "code",
   "execution_count": null,
   "metadata": {
    "id": "gkNn5MjYBynH"
   },
   "outputs": [],
   "source": [
    "import Augmentor\n",
    "#Passing the path of the image directory\n",
    "p = Augmentor.Pipeline(\"/content/drive/MyDrive/CV Project/output\")\n",
    "\n",
    "#Defining augmentation parameters and generating 5 samples\n",
    "p.flip_left_right(0.5)\n",
    "p.black_and_white(0.1)\n",
    "p.rotate(0.3, 10, 10)\n",
    "p.skew(0.4, 0.5)\n",
    "p.zoom(probability = 0.2, min_factor = 1.1, max_factor = 1.5)\n",
    "p.sample(5)\n"
   ]
  },
  {
   "cell_type": "markdown",
   "metadata": {
    "id": "l29PD4xDIXOg"
   },
   "source": [
    "####Dispaying augmented images"
   ]
  },
  {
   "cell_type": "code",
   "execution_count": null,
   "metadata": {
    "colab": {
     "base_uri": "https://localhost:8080/",
     "height": 287
    },
    "id": "sxW96YZVvoJs",
    "outputId": "80b18849-c3d8-4ca7-dc65-f1f09371b35a"
   },
   "outputs": [
    {
     "data": {
      "text/plain": [
       "<matplotlib.image.AxesImage at 0x7f01d2cd5550>"
      ]
     },
     "execution_count": 14,
     "metadata": {},
     "output_type": "execute_result"
    },
    {
     "data": {
      "image/png": "[encoded data removed]",
      "text/plain": [
       "<Figure size 432x288 with 4 Axes>"
      ]
     },
     "metadata": {
      "needs_background": "light"
     },
     "output_type": "display_data"
    }
   ],
   "source": [
    "from matplotlib import pyplot as plt\n",
    "\n",
    "augment_1 = plt.imread('/content/drive/MyDrive/CV Project/output/04305.jpg')\n",
    "augment_2 = plt.imread('/content/drive/MyDrive/CV Project/output/04304.jpg')\n",
    "augment_3 = plt.imread('/content/drive/MyDrive/CV Project/output/04303.jpg')\n",
    "augment_4 = plt.imread('/content/drive/MyDrive/CV Project/output/04301.jpg')\n",
    "fig, axs = plt.subplots(2, 2)\n",
    "axs[0,0].imshow(augment_1)\n",
    "axs[1,0].imshow(augment_2)\n",
    "axs[0,1].imshow(augment_3)\n",
    "axs[1,1].imshow(augment_4)\n",
    "#plt.axis(\"off\")\n",
    "#plt.show()"
   ]
  },
  {
   "cell_type": "code",
   "execution_count": null,
   "metadata": {
    "id": "ZCsbz0tzA0O7"
   },
   "outputs": [],
   "source": [
    "import os\n",
    "\n",
    "from tensorflow.keras.utils import load_img, save_img\n",
    "def resize(image_size, dataset_dir):\n",
    "\n",
    "  for root, dirs, files in os.walk(dataset_dir):\n",
    "    for i in files:\n",
    "      if i.endswith('jpg') and not i.startswith ('reduced_images') and not os.path.exists(root + \"/reduced_images\" + i):\n",
    "        print(root + \"/\" + i)\n",
    "        imgs = load_img(root + \"/\" + i, target_size=(image_size, image_size), keep_aspect_ratio=True)\n",
    "        save_img(root + \"/reduced_images\" + i, imgs)\n",
    "\n",
    "#resize(128,'/content/drive/MyDrive/CV Project/classification')      "
   ]
  },
  {
   "cell_type": "code",
   "execution_count": null,
   "metadata": {
    "id": "lNR3hHgGA0Tv"
   },
   "outputs": [],
   "source": [
    "train_df['label'] = tf.keras.utils.to_categorical(train_df[\"label\"].values, num_classes=102)\n",
    "#train_df = train_df.drop('label', axis = 1)"
   ]
  },
  {
   "cell_type": "code",
   "execution_count": null,
   "metadata": {
    "id": "FlhL4mmLA0Yd"
   },
   "outputs": [],
   "source": [
    "y = train_df['label']"
   ]
  },
  {
   "cell_type": "code",
   "execution_count": null,
   "metadata": {
    "colab": {
     "base_uri": "https://localhost:8080/"
    },
    "id": "NY2PVByYSfs3",
    "outputId": "05f33fa0-20bd-44aa-e6f9-0cfdebc87b4d"
   },
   "outputs": [
    {
     "data": {
      "text/plain": [
       "(11270,)"
      ]
     },
     "execution_count": 13,
     "metadata": {},
     "output_type": "execute_result"
    }
   ],
   "source": [
    "y.shape"
   ]
  },
  {
   "cell_type": "code",
   "execution_count": null,
   "metadata": {
    "id": "tRPCnEf7zTss"
   },
   "outputs": [],
   "source": [
    "y_train = y"
   ]
  },
  {
   "cell_type": "code",
   "execution_count": null,
   "metadata": {
    "id": "VuzZsDhFU8wl"
   },
   "outputs": [],
   "source": [
    "y_train = np_utils.to_categorical(y_train, 102)"
   ]
  },
  {
   "cell_type": "code",
   "execution_count": null,
   "metadata": {
    "colab": {
     "base_uri": "https://localhost:8080/"
    },
    "id": "UenwejFSU8yy",
    "outputId": "bb6b50eb-12ac-4b4a-c1a2-fdd55577ba3f"
   },
   "outputs": [
    {
     "data": {
      "text/plain": [
       "(11270, 102)"
      ]
     },
     "execution_count": 16,
     "metadata": {},
     "output_type": "execute_result"
    }
   ],
   "source": [
    "y_train.shape"
   ]
  },
  {
   "cell_type": "code",
   "execution_count": null,
   "metadata": {
    "id": "jk9UtoakUXfa"
   },
   "outputs": [],
   "source": [
    "test_df['label'] = tf.keras.utils.to_categorical(test_df[\"label\"].values, num_classes=102)"
   ]
  },
  {
   "cell_type": "code",
   "execution_count": null,
   "metadata": {
    "id": "xEwO0jPjUXpb"
   },
   "outputs": [],
   "source": [
    "y_test = test_df['label']"
   ]
  },
  {
   "cell_type": "code",
   "execution_count": null,
   "metadata": {
    "colab": {
     "base_uri": "https://localhost:8080/"
    },
    "id": "tdM1vb8xYhIq",
    "outputId": "a8adf32d-f181-4c78-f79f-d0f8430ee9ba"
   },
   "outputs": [
    {
     "data": {
      "text/plain": [
       "(2263,)"
      ]
     },
     "execution_count": 19,
     "metadata": {},
     "output_type": "execute_result"
    }
   ],
   "source": [
    "y_test.shape"
   ]
  },
  {
   "cell_type": "code",
   "execution_count": null,
   "metadata": {
    "id": "hib2A_1MYzaP"
   },
   "outputs": [],
   "source": [
    "y_test= np_utils.to_categorical(y_test, 102)"
   ]
  },
  {
   "cell_type": "code",
   "execution_count": null,
   "metadata": {
    "colab": {
     "base_uri": "https://localhost:8080/"
    },
    "id": "P1TWbxw3ZiRO",
    "outputId": "ed572c9c-0043-4a70-9bda-dc0777222081"
   },
   "outputs": [
    {
     "data": {
      "text/plain": [
       "(2263, 102)"
      ]
     },
     "execution_count": 21,
     "metadata": {},
     "output_type": "execute_result"
    }
   ],
   "source": [
    "y_test.shape"
   ]
  },
  {
   "cell_type": "code",
   "execution_count": null,
   "metadata": {
    "id": "iBEXl4x9V0es"
   },
   "outputs": [],
   "source": [
    "image_size = 128"
   ]
  },
  {
   "cell_type": "code",
   "execution_count": null,
   "metadata": {
    "id": "QHegbkVLVV1q"
   },
   "outputs": [],
   "source": [
    "path = '/content/drive/MyDrive/CV Project/data/test_images/'"
   ]
  },
  {
   "cell_type": "code",
   "execution_count": null,
   "metadata": {
    "id": "cbY01WLZV7PQ"
   },
   "outputs": [],
   "source": [
    "resize(128, '/content/drive/MyDrive/CV Project/data/test_images')"
   ]
  },
  {
   "cell_type": "code",
   "execution_count": null,
   "metadata": {
    "id": "7FWeuSSiVE7X"
   },
   "outputs": [],
   "source": [
    "X = []\n",
    "for i in range(test_df.shape[0]):\n",
    "    filenames = test_df['image_path'].iloc[i]\n",
    "    #try:\n",
    "    img = image.load_img(path + \"reduced_images\" + filenames, target_size=(image_size, image_size))\n",
    "    #except : continue\n",
    "    X.append(image.img_to_array(img))\n",
    "    del img\n",
    "\n",
    "X = np.array(X)  "
   ]
  },
  {
   "cell_type": "code",
   "execution_count": null,
   "metadata": {
    "colab": {
     "base_uri": "https://localhost:8080/"
    },
    "id": "Pq4Fdi5BVFEp",
    "outputId": "e9aa0409-339b-4e89-cdbf-c050223d4a46"
   },
   "outputs": [
    {
     "data": {
      "text/plain": [
       "(2263, 128, 128, 3)"
      ]
     },
     "execution_count": 27,
     "metadata": {},
     "output_type": "execute_result"
    }
   ],
   "source": [
    "X.shape"
   ]
  },
  {
   "cell_type": "code",
   "execution_count": null,
   "metadata": {
    "id": "mhX56WiAnLL-"
   },
   "outputs": [],
   "source": [
    "X_test = X"
   ]
  },
  {
   "cell_type": "code",
   "execution_count": null,
   "metadata": {
    "colab": {
     "base_uri": "https://localhost:8080/"
    },
    "id": "W7ubIuSwnQ_4",
    "outputId": "8e61edee-c0f7-471d-c81b-6eeebaa69705"
   },
   "outputs": [
    {
     "name": "stdout",
     "output_type": "stream",
     "text": [
      "(2263, 128, 128, 3) (2263, 102)\n"
     ]
    }
   ],
   "source": [
    "print (X_test.shape, y_test.shape)"
   ]
  },
  {
   "cell_type": "code",
   "execution_count": null,
   "metadata": {
    "id": "YF-K1aQyU80z"
   },
   "outputs": [],
   "source": [
    "image_size = 128"
   ]
  },
  {
   "cell_type": "code",
   "execution_count": null,
   "metadata": {
    "id": "Q-34dpaXbFV-"
   },
   "outputs": [],
   "source": [
    "path = '/content/drive/MyDrive/CV Project/data/train_images/'"
   ]
  },
  {
   "cell_type": "markdown",
   "metadata": {
    "id": "1MLtkqo7lPVm"
   },
   "source": [
    "Images are resized to 128x128. Using colab and have limited resources.\n"
   ]
  },
  {
   "cell_type": "code",
   "execution_count": null,
   "metadata": {
    "id": "0GosJ1ylSfvZ"
   },
   "outputs": [],
   "source": [
    "resize(128,'/content/drive/MyDrive/CV Project/data/train_images')"
   ]
  },
  {
   "cell_type": "code",
   "execution_count": null,
   "metadata": {
    "id": "EYYUXFmLr50F"
   },
   "outputs": [],
   "source": [
    "x = []\n",
    "for i in range(train_df.shape[0]):\n",
    "    filenames = train_df['image_path'].iloc[i]\n",
    "    #try:\n",
    "    img = image.load_img(path + \"reduced_images\" + filenames, target_size=(image_size, image_size))\n",
    "    #except : continue\n",
    "    x.append(image.img_to_array(img))\n",
    "    del img\n",
    "\n",
    "x = np.array(x)    "
   ]
  },
  {
   "cell_type": "code",
   "execution_count": null,
   "metadata": {
    "colab": {
     "base_uri": "https://localhost:8080/"
    },
    "id": "MuooQ3uxQARa",
    "outputId": "42b4bf0b-b9aa-4485-e0c7-a120c40b63fd"
   },
   "outputs": [
    {
     "data": {
      "text/plain": [
       "(11270, 128, 128, 3)"
      ]
     },
     "execution_count": 36,
     "metadata": {},
     "output_type": "execute_result"
    }
   ],
   "source": [
    "x.shape"
   ]
  },
  {
   "cell_type": "code",
   "execution_count": null,
   "metadata": {
    "id": "q4w_-ZrNbfQM"
   },
   "outputs": [],
   "source": [
    "x_train = x"
   ]
  },
  {
   "cell_type": "code",
   "execution_count": null,
   "metadata": {
    "colab": {
     "base_uri": "https://localhost:8080/"
    },
    "id": "oRgWlrj__BQY",
    "outputId": "40897cad-02d9-40f5-e974-696ea4dce423"
   },
   "outputs": [
    {
     "name": "stdout",
     "output_type": "stream",
     "text": [
      "(11270, 128, 128, 3) (11270, 102)\n"
     ]
    }
   ],
   "source": [
    "print(x_train.shape, y_train.shape)"
   ]
  },
  {
   "cell_type": "code",
   "execution_count": null,
   "metadata": {
    "id": "6wSqF6X9HQX5"
   },
   "outputs": [],
   "source": [
    "#def show_final_history(history):\n",
    "    #fig, ax = plt.subplots(1, 2, figsize=(15,5))\n",
    "    #ax[0].set_title('loss')\n",
    "    #ax[0].plot(history.epoch, history.history[\"loss\"], label=\"Train loss\")\n",
    "    #ax[0].plot(history.epoch, history.history[\"val_loss\"], label=\"Test loss\")\n",
    "    #ax[1].set_title('acc')\n",
    "    #ax[1].plot(history.epoch, history.history[\"accuracy\"], label=\"Train accuracy\")\n",
    "    #ax[1].plot(history.epoch, history.history[\"val_accuracy\"], label=\"Test accuracy\")\n",
    "    #ax[0].legend()\n",
    "    #ax[1].legend()"
   ]
  },
  {
   "cell_type": "markdown",
   "metadata": {
    "id": "cWXBdLDkUwU5"
   },
   "source": [
    "Model Regularization L1"
   ]
  },
  {
   "cell_type": "code",
   "execution_count": null,
   "metadata": {
    "id": "pUq21ghB_7gL"
   },
   "outputs": [],
   "source": [
    "model_l1 = tf.keras.models.Sequential([\n",
    "    \n",
    "    tf.keras.layers.Conv2D(64, (3,3), activation='relu', input_shape=(128, 128, 3), use_bias=True),\n",
    "    tf.keras.layers.MaxPooling2D(2,2),\n",
    "    \n",
    "    tf.keras.layers.Conv2D(64, (3,3), activation = 'relu', use_bias=True),\n",
    "    tf.keras.layers.MaxPooling2D(2,2),\n",
    "    \n",
    "    tf.keras.layers.Conv2D(128, (3,3), activation = 'relu', use_bias=True, kernel_regularizer =tf.keras.regularizers.l1( l=0.01) ),\n",
    "    tf.keras.layers.MaxPooling2D(2,2),\n",
    "    \n",
    "    tf.keras.layers.Conv2D(128, (3,3), activation = 'relu', use_bias=True,kernel_regularizer =tf.keras.regularizers.l1( l=0.01)),\n",
    "    tf.keras.layers.MaxPooling2D(2,2),\n",
    "    tf.keras.layers.Flatten(),\n",
    "    \n",
    "    tf.keras.layers.Dense(512, activation = 'relu', use_bias=True, kernel_regularizer =tf.keras.regularizers.l1( l=0.01)),\n",
    "    \n",
    "    tf.keras.layers.Dense(102, activation='softmax', use_bias=True)\n",
    "    \n",
    "])"
   ]
  },
  {
   "cell_type": "code",
   "execution_count": null,
   "metadata": {
    "id": "4hlFCOnPcLc3"
   },
   "outputs": [],
   "source": [
    "model_l1.compile(loss = \"categorical_crossentropy\", optimizer = optimizers.SGD(learning_rate=0.0001, momentum=0.9), metrics=[\"accuracy\"])"
   ]
  },
  {
   "cell_type": "code",
   "execution_count": null,
   "metadata": {
    "colab": {
     "base_uri": "https://localhost:8080/"
    },
    "id": "SU8V9qrLc7be",
    "outputId": "db5ff0c7-8e9f-4ec8-f460-1485fc51f558"
   },
   "outputs": [
    {
     "name": "stdout",
     "output_type": "stream",
     "text": [
      "Model: \"sequential\"\n",
      "_________________________________________________________________\n",
      " Layer (type)                Output Shape              Param #   \n",
      "=================================================================\n",
      " conv2d (Conv2D)             (None, 126, 126, 64)      1792      \n",
      "                                                                 \n",
      " max_pooling2d (MaxPooling2D  (None, 63, 63, 64)       0         \n",
      " )                                                               \n",
      "                                                                 \n",
      " conv2d_1 (Conv2D)           (None, 61, 61, 64)        36928     \n",
      "                                                                 \n",
      " max_pooling2d_1 (MaxPooling  (None, 30, 30, 64)       0         \n",
      " 2D)                                                             \n",
      "                                                                 \n",
      " conv2d_2 (Conv2D)           (None, 28, 28, 128)       73856     \n",
      "                                                                 \n",
      " max_pooling2d_2 (MaxPooling  (None, 14, 14, 128)      0         \n",
      " 2D)                                                             \n",
      "                                                                 \n",
      " conv2d_3 (Conv2D)           (None, 12, 12, 128)       147584    \n",
      "                                                                 \n",
      " max_pooling2d_3 (MaxPooling  (None, 6, 6, 128)        0         \n",
      " 2D)                                                             \n",
      "                                                                 \n",
      " flatten (Flatten)           (None, 4608)              0         \n",
      "                                                                 \n",
      " dense (Dense)               (None, 512)               2359808   \n",
      "                                                                 \n",
      " dense_1 (Dense)             (None, 102)               52326     \n",
      "                                                                 \n",
      "=================================================================\n",
      "Total params: 2,672,294\n",
      "Trainable params: 2,672,294\n",
      "Non-trainable params: 0\n",
      "_________________________________________________________________\n"
     ]
    }
   ],
   "source": [
    "model_l1.summary()"
   ]
  },
  {
   "cell_type": "markdown",
   "metadata": {
    "id": "K3kY42V3FO5g"
   },
   "source": [
    "Conv2D performs 2-dimensional convolution on the images. It takes an input tensor and gives convoluted tensor as output. It takes the following parameters: the number of filters, filter dimension, regularized, and if this is the first layer then the shape of the input, activation function.\n",
    "MaxPooling2D - ferforms pooling on 2D data. It only needs the shape of the pooling filter. It reduces the shape of the matrix\n",
    "Dense -  describes a layer of neurons and needs the activation function\n",
    "Flatten - flattens the data. The output of conv layer is 2D or more, converts them into a unidimensional vector\n",
    "\n",
    "\n",
    "Regularization is added after layers with the most parameters. It's used to prevent overfitting but controlling the model complexity.In a model each feature is assigned a certain weight, with a lot of features there is large number of weights, which makes the model prone to overfitting. Regularization reduces the burden on these weights. The weights then end up having less impact on the loss function.\n",
    "\n",
    "Pooling is used after a convolutional layer to compensate for time taken to compute. Also, used to reduce the size of the output from the previous layer.\n",
    "Only the maximum value of m*m matrix is taken therefore the best features.\n",
    "ReLU activation is used - it is non-linear around 0, but the slope is always either 0 (for negative values) or 1 (for positive values). For deep learning models ReLU allows for different types of non-linearities to combine ReLU nodes.\n",
    "Dense layers are used at the end of the network to flatten the multidimensional into a single vector. The number of nodes depends on the number of classes andtThese nodes give the probability of the class of the image.\n",
    "\n",
    "\n",
    "\n",
    "\n",
    "Calculation:  \n",
    "kernel size 3x3 * 64 (channels) * 3(input has three channels) + 64(bias) = 1792\n",
    "\n",
    "Has shape (None,63,63,64) and parameter is 0\n",
    "\n",
    "64 x 64 3 x 3 (kernel size) + 64 (bias) = 36928\n",
    "\n",
    "Has shape (None, 30, 30, 64) and parameter is 0  \n",
    "\n",
    "64 x 128 x (kernel_size) 3 x 3 + 128 (bias) = 73856\n",
    "\n",
    "Has shape (None, 14, 14, 128) and parameter is  0 \n",
    "\n",
    "128 x 128 x(kernel_size) 3 x 3 + 128 (bias) = 147584 \n",
    "\n",
    "Has shape (None, 6, 6, 128) and parameter is  0  \n",
    "\n",
    "(None, 4608)              0         \n",
    "\n",
    "input * output + bias = 4608 * 512 + 512 = 2359808   \n",
    "\n",
    "512 * 102 + 102 = 52326   \n",
    "\n"
   ]
  },
  {
   "cell_type": "code",
   "execution_count": null,
   "metadata": {
    "colab": {
     "base_uri": "https://localhost:8080/"
    },
    "id": "uzYgirxOwoex",
    "outputId": "96db312b-032f-4919-a4b8-c0d5ea36e08a"
   },
   "outputs": [
    {
     "name": "stdout",
     "output_type": "stream",
     "text": [
      "Epoch 1/10\n",
      "353/353 [==============================] - 109s 306ms/step - loss: 421.7176 - accuracy: 0.9816 - val_loss: 378.8118 - val_accuracy: 0.9850\n",
      "Epoch 2/10\n",
      "353/353 [==============================] - 106s 300ms/step - loss: 339.3986 - accuracy: 0.9852 - val_loss: 301.1378 - val_accuracy: 0.9850\n",
      "Epoch 3/10\n",
      "353/353 [==============================] - 108s 306ms/step - loss: 266.2539 - accuracy: 0.9852 - val_loss: 232.5580 - val_accuracy: 0.9850\n",
      "Epoch 4/10\n",
      "353/353 [==============================] - 107s 303ms/step - loss: 202.2222 - accuracy: 0.9852 - val_loss: 173.1019 - val_accuracy: 0.9850\n",
      "Epoch 5/10\n",
      "353/353 [==============================] - 110s 312ms/step - loss: 147.3003 - accuracy: 0.9852 - val_loss: 122.7512 - val_accuracy: 0.9850\n",
      "Epoch 6/10\n",
      "353/353 [==============================] - 109s 309ms/step - loss: 101.4849 - accuracy: 0.9852 - val_loss: 81.5234 - val_accuracy: 0.9850\n",
      "Epoch 7/10\n",
      "353/353 [==============================] - 110s 312ms/step - loss: 64.7930 - accuracy: 0.9852 - val_loss: 49.4403 - val_accuracy: 0.9850\n",
      "Epoch 8/10\n",
      "353/353 [==============================] - 109s 309ms/step - loss: 37.2241 - accuracy: 0.9852 - val_loss: 26.4206 - val_accuracy: 0.9850\n",
      "Epoch 9/10\n",
      "353/353 [==============================] - 112s 316ms/step - loss: 18.7724 - accuracy: 0.9852 - val_loss: 12.5543 - val_accuracy: 0.9850\n",
      "Epoch 10/10\n",
      "353/353 [==============================] - 107s 304ms/step - loss: 9.3793 - accuracy: 0.9852 - val_loss: 7.3761 - val_accuracy: 0.9850\n"
     ]
    }
   ],
   "source": [
    "epochs = 10\n",
    "batch_size=32\n",
    "history = model_l1.fit(x_train, y_train, epochs=epochs, batch_size=batch_size, validation_data=(X_test, y_test), shuffle=True)"
   ]
  },
  {
   "cell_type": "code",
   "execution_count": null,
   "metadata": {
    "colab": {
     "base_uri": "https://localhost:8080/",
     "height": 283
    },
    "id": "6LVes3w7_XBy",
    "outputId": "dd32725b-2cca-4bc1-8082-c9cfc4ea4b0d"
   },
   "outputs": [
    {
     "data": {
      "text/plain": [
       "<matplotlib.legend.Legend at 0x7f1aaf27a790>"
      ]
     },
     "execution_count": 43,
     "metadata": {},
     "output_type": "execute_result"
    },
    {
     "data": {
      "image/png": "[encoded data removed]",
      "text/plain": [
       "<Figure size 432x288 with 1 Axes>"
      ]
     },
     "metadata": {
      "needs_background": "light"
     },
     "output_type": "display_data"
    }
   ],
   "source": [
    "plt.plot(history.history['loss'], label='Training loss')\n",
    "plt.plot(history.history['val_loss'], label = 'Test loss')\n",
    "plt.legend()"
   ]
  },
  {
   "cell_type": "code",
   "execution_count": null,
   "metadata": {
    "colab": {
     "base_uri": "https://localhost:8080/"
    },
    "id": "bpa6xZNqH25a",
    "outputId": "2ba4d7e7-53a7-4b6e-f55e-98eee19ac89e"
   },
   "outputs": [
    {
     "name": "stdout",
     "output_type": "stream",
     "text": [
      "353/353 [==============================] - 18s 51ms/step - loss: 7.3820 - accuracy: 0.9852\n",
      "Training Accuracy: 98.52%\n",
      "\n",
      "71/71 [==============================] - 4s 51ms/step - loss: 7.3761 - accuracy: 0.9850\n",
      "Testing Accuracy: 98.50%\n",
      "\n"
     ]
    }
   ],
   "source": [
    "scores = model_l1.evaluate(x_train,y_train)\n",
    "print(\"Training Accuracy: %.2f%%\\n\" % (scores[1]*100))\n",
    "scores = model_l1.evaluate(X_test,y_test)\n",
    "print(\"Testing Accuracy: %.2f%%\\n\" % (scores[1]*100))"
   ]
  },
  {
   "cell_type": "code",
   "execution_count": null,
   "metadata": {
    "colab": {
     "base_uri": "https://localhost:8080/"
    },
    "id": "rivvK3jijzFC",
    "outputId": "78e3b159-6375-4d29-92e2-4dd090c1f697"
   },
   "outputs": [
    {
     "name": "stdout",
     "output_type": "stream",
     "text": [
      "71/71 [==============================] - 4s 50ms/step\n",
      "71/71 [==============================] - 4s 50ms/step\n",
      "71/71 [==============================] - 4s 50ms/step\n",
      "[[2229    0]\n",
      " [  34    0]]\n"
     ]
    }
   ],
   "source": [
    "predictions = model_l1.predict(X_test)\n",
    "model_l1.predict(X_test)\n",
    "y_pred=model_l1.predict(X_test) \n",
    "y_pred=np.argmax(y_pred, axis=1)\n",
    "yy_test=np.argmax(y_test, axis=1)\n",
    "cm = confusion_matrix(yy_test, y_pred)\n",
    "print(cm)"
   ]
  },
  {
   "cell_type": "markdown",
   "metadata": {
    "id": "-5CV3jYiGgvf"
   },
   "source": [
    "Model Regularization L2"
   ]
  },
  {
   "cell_type": "code",
   "execution_count": null,
   "metadata": {
    "id": "qOba6Pbbk2kF"
   },
   "outputs": [],
   "source": [
    "model_l2 = tf.keras.models.Sequential([\n",
    "    \n",
    "    tf.keras.layers.Conv2D(64, (3,3), activation='relu', input_shape=(128, 128, 3), use_bias=True),\n",
    "    tf.keras.layers.MaxPooling2D(2,2),\n",
    "    \n",
    "    tf.keras.layers.Conv2D(64, (3,3), activation = 'relu', use_bias=True),\n",
    "    tf.keras.layers.MaxPooling2D(2,2),\n",
    "    \n",
    "    tf.keras.layers.Conv2D(128, (3,3), activation = 'relu', use_bias=True, kernel_regularizer =tf.keras.regularizers.l2( l=0.01)),\n",
    "    tf.keras.layers.MaxPooling2D(2,2),\n",
    "    \n",
    "    tf.keras.layers.Conv2D(128, (3,3), activation = 'relu', use_bias=True , kernel_regularizer =tf.keras.regularizers.l2( l=0.01)),\n",
    "    tf.keras.layers.MaxPooling2D(2,2),\n",
    "    tf.keras.layers.Flatten(),\n",
    "    \n",
    "    tf.keras.layers.Dense(512, activation = 'relu', use_bias=True,  kernel_regularizer =tf.keras.regularizers.l2( l=0.01)),\n",
    "    \n",
    "    \n",
    "    tf.keras.layers.Dense(102, activation='softmax', use_bias=True)\n",
    "    \n",
    "])"
   ]
  },
  {
   "cell_type": "markdown",
   "metadata": {
    "id": "raCadYKkE9Tp"
   },
   "source": [
    "Calculation:  \n",
    "kernel size 3x3 * 64 (channels) * 3(input has three channels) + 64(bias) = 1792\n",
    "\n",
    "Has shape (None,63,63,64) and parameter is 0\n",
    "\n",
    "64 x 64 3 x 3 (kernel size) + 64 (bias) = 36928\n",
    "\n",
    "Has shape (None, 30, 30, 64) and parameter is 0\n",
    "\n",
    "64 x 128 x (kernel_size) 3 x 3 + 128 (bias) = 73856\n",
    "\n",
    "Has shape (None, 14, 14, 128) and parameter is 0\n",
    "\n",
    "128 x 128 x(kernel_size) 3 x 3 + 128 (bias) = 147584\n",
    "\n",
    "Has shape (None, 6, 6, 128) and parameter is 0\n",
    "\n",
    "(None, 4608) 0\n",
    "\n",
    "input * output + bias = 4608 * 512 + 512 = 2359808\n",
    "\n",
    "512 * 102 + 102 = 52326"
   ]
  },
  {
   "cell_type": "code",
   "execution_count": null,
   "metadata": {
    "id": "5pc95gxjccK1"
   },
   "outputs": [],
   "source": [
    "model_l2.compile(loss = \"categorical_crossentropy\", optimizer = optimizers.SGD(learning_rate=0.0001, momentum=0.9), metrics=[\"accuracy\"])"
   ]
  },
  {
   "cell_type": "code",
   "execution_count": null,
   "metadata": {
    "colab": {
     "base_uri": "https://localhost:8080/"
    },
    "id": "Q3kyiRSgdRrE",
    "outputId": "9ff2f05a-711e-4cb5-a2d3-ab6ea38e54aa"
   },
   "outputs": [
    {
     "name": "stdout",
     "output_type": "stream",
     "text": [
      "Model: \"sequential_1\"\n",
      "_________________________________________________________________\n",
      " Layer (type)                Output Shape              Param #   \n",
      "=================================================================\n",
      " conv2d_4 (Conv2D)           (None, 126, 126, 64)      1792      \n",
      "                                                                 \n",
      " max_pooling2d_4 (MaxPooling  (None, 63, 63, 64)       0         \n",
      " 2D)                                                             \n",
      "                                                                 \n",
      " conv2d_5 (Conv2D)           (None, 61, 61, 64)        36928     \n",
      "                                                                 \n",
      " max_pooling2d_5 (MaxPooling  (None, 30, 30, 64)       0         \n",
      " 2D)                                                             \n",
      "                                                                 \n",
      " conv2d_6 (Conv2D)           (None, 28, 28, 128)       73856     \n",
      "                                                                 \n",
      " max_pooling2d_6 (MaxPooling  (None, 14, 14, 128)      0         \n",
      " 2D)                                                             \n",
      "                                                                 \n",
      " conv2d_7 (Conv2D)           (None, 12, 12, 128)       147584    \n",
      "                                                                 \n",
      " max_pooling2d_7 (MaxPooling  (None, 6, 6, 128)        0         \n",
      " 2D)                                                             \n",
      "                                                                 \n",
      " flatten_1 (Flatten)         (None, 4608)              0         \n",
      "                                                                 \n",
      " dense_2 (Dense)             (None, 512)               2359808   \n",
      "                                                                 \n",
      " dense_3 (Dense)             (None, 102)               52326     \n",
      "                                                                 \n",
      "=================================================================\n",
      "Total params: 2,672,294\n",
      "Trainable params: 2,672,294\n",
      "Non-trainable params: 0\n",
      "_________________________________________________________________\n"
     ]
    }
   ],
   "source": [
    "model_l2.summary()"
   ]
  },
  {
   "cell_type": "code",
   "execution_count": null,
   "metadata": {
    "colab": {
     "base_uri": "https://localhost:8080/"
    },
    "id": "lzSHeT7K2sUP",
    "outputId": "3356af44-9968-41b3-8530-e545c941cc50"
   },
   "outputs": [
    {
     "name": "stdout",
     "output_type": "stream",
     "text": [
      "Epoch 1/10\n",
      "353/353 [==============================] - 109s 308ms/step - loss: 11.7875 - accuracy: 0.9805 - val_loss: 11.2932 - val_accuracy: 0.9850\n",
      "Epoch 2/10\n",
      "353/353 [==============================] - 107s 303ms/step - loss: 11.2100 - accuracy: 0.9852 - val_loss: 11.1287 - val_accuracy: 0.9850\n",
      "Epoch 3/10\n",
      "353/353 [==============================] - 106s 300ms/step - loss: 11.0514 - accuracy: 0.9852 - val_loss: 10.9711 - val_accuracy: 0.9850\n",
      "Epoch 4/10\n",
      "353/353 [==============================] - 106s 299ms/step - loss: 10.8960 - accuracy: 0.9852 - val_loss: 10.8174 - val_accuracy: 0.9850\n",
      "Epoch 5/10\n",
      "353/353 [==============================] - 109s 310ms/step - loss: 10.7422 - accuracy: 0.9852 - val_loss: 10.6659 - val_accuracy: 0.9850\n",
      "Epoch 6/10\n",
      "353/353 [==============================] - 105s 298ms/step - loss: 10.5908 - accuracy: 0.9852 - val_loss: 10.5170 - val_accuracy: 0.9850\n",
      "Epoch 7/10\n",
      "353/353 [==============================] - 108s 305ms/step - loss: 10.4409 - accuracy: 0.9852 - val_loss: 10.3687 - val_accuracy: 0.9850\n",
      "Epoch 8/10\n",
      "353/353 [==============================] - 103s 291ms/step - loss: 10.2952 - accuracy: 0.9852 - val_loss: 10.2259 - val_accuracy: 0.9850\n",
      "Epoch 9/10\n",
      "353/353 [==============================] - 106s 301ms/step - loss: 10.1508 - accuracy: 0.9852 - val_loss: 10.0836 - val_accuracy: 0.9850\n",
      "Epoch 10/10\n",
      "353/353 [==============================] - 108s 307ms/step - loss: 10.0084 - accuracy: 0.9852 - val_loss: 9.9433 - val_accuracy: 0.9850\n"
     ]
    }
   ],
   "source": [
    "epochs=10\n",
    "batch_size=32\n",
    "history = model_l2.fit(x_train, y_train, epochs=epochs, batch_size=batch_size, validation_data=(X_test, y_test), shuffle=True)"
   ]
  },
  {
   "cell_type": "code",
   "execution_count": null,
   "metadata": {
    "colab": {
     "base_uri": "https://localhost:8080/",
     "height": 283
    },
    "id": "XQnaomqTCvs0",
    "outputId": "144550b2-582c-4872-85fc-2417fe4740b0"
   },
   "outputs": [
    {
     "data": {
      "text/plain": [
       "<matplotlib.legend.Legend at 0x7f1ac5667d30>"
      ]
     },
     "execution_count": 50,
     "metadata": {},
     "output_type": "execute_result"
    },
    {
     "data": {
      "image/png": "[encoded data removed]",
      "text/plain": [
       "<Figure size 432x288 with 1 Axes>"
      ]
     },
     "metadata": {
      "needs_background": "light"
     },
     "output_type": "display_data"
    }
   ],
   "source": [
    "plt.plot(history.history['loss'], label='Training loss')\n",
    "plt.plot(history.history['val_loss'], label = 'Test loss')\n",
    "plt.legend()"
   ]
  },
  {
   "cell_type": "code",
   "execution_count": null,
   "metadata": {
    "colab": {
     "base_uri": "https://localhost:8080/"
    },
    "id": "838ArNHTOHKQ",
    "outputId": "c3546e2b-755b-4b52-9591-fb7872e5bef0"
   },
   "outputs": [
    {
     "name": "stdout",
     "output_type": "stream",
     "text": [
      "353/353 [==============================] - 18s 50ms/step - loss: 9.9356 - accuracy: 0.9852\n",
      "Training Accuracy: 98.52%\n",
      "\n",
      "71/71 [==============================] - 4s 50ms/step - loss: 9.9433 - accuracy: 0.9850\n",
      "Testing Accuracy: 98.50%\n",
      "\n"
     ]
    }
   ],
   "source": [
    "scores = model_l2.evaluate(x_train,y_train)\n",
    "print(\"Training Accuracy: %.2f%%\\n\" % (scores[1]*100))\n",
    "scores = model_l2.evaluate(X_test,y_test)\n",
    "print(\"Testing Accuracy: %.2f%%\\n\" % (scores[1]*100))"
   ]
  },
  {
   "cell_type": "code",
   "execution_count": null,
   "metadata": {
    "colab": {
     "base_uri": "https://localhost:8080/"
    },
    "id": "wFDa4NhE1CKC",
    "outputId": "3912fa9c-257b-45e5-efa5-5fce93293061"
   },
   "outputs": [
    {
     "name": "stdout",
     "output_type": "stream",
     "text": [
      "71/71 [==============================] - 4s 49ms/step\n",
      "71/71 [==============================] - 4s 49ms/step\n",
      "[[2229    0]\n",
      " [  34    0]]\n"
     ]
    }
   ],
   "source": [
    "predictions = model_l2.predict(X_test)\n",
    "y_pred=model_l2.predict(X_test) \n",
    "y_pred=np.argmax(y_pred, axis=1)\n",
    "yy_test=np.argmax(y_test, axis=1)\n",
    "cm = confusion_matrix(yy_test, y_pred)\n",
    "print(cm)"
   ]
  },
  {
   "cell_type": "markdown",
   "metadata": {
    "id": "jcU059GEGxLh"
   },
   "source": [
    "Model Dropout"
   ]
  },
  {
   "cell_type": "code",
   "execution_count": null,
   "metadata": {
    "id": "G857dzpRdU0Q"
   },
   "outputs": [],
   "source": [
    "model_d = tf.keras.models.Sequential([\n",
    "    \n",
    "    tf.keras.layers.Conv2D(64, (3,3), activation='relu', input_shape=(128, 128, 3), use_bias=True),\n",
    "    tf.keras.layers.MaxPooling2D(2,2),\n",
    "    tf.keras.layers.BatchNormalization(),\n",
    "    \n",
    "    tf.keras.layers.Conv2D(64, (3,3), activation = 'relu', use_bias=True),\n",
    "    tf.keras.layers.MaxPooling2D(2,2),\n",
    "    \n",
    "    tf.keras.layers.Conv2D(128, (3,3), activation = 'relu', use_bias=True),\n",
    "    tf.keras.layers.Dropout( 0.2),\n",
    "    tf.keras.layers.MaxPooling2D(2,2),\n",
    "    \n",
    "    tf.keras.layers.Conv2D(128, (3,3), activation = 'relu', use_bias=True),    \n",
    "    tf.keras.layers.Dropout( 0.2), \n",
    "    tf.keras.layers.MaxPooling2D(2,2),\n",
    "    tf.keras.layers.Flatten(),\n",
    "    \n",
    "    tf.keras.layers.Dense(512, activation = 'relu', use_bias=True),\n",
    "    tf.keras.layers.Dropout( 0.2),\n",
    "    \n",
    "    tf.keras.layers.Dense(102, activation='softmax', use_bias=True)\n",
    "    \n",
    "])"
   ]
  },
  {
   "cell_type": "code",
   "execution_count": null,
   "metadata": {
    "id": "aFPqPYJfdU2k"
   },
   "outputs": [],
   "source": [
    "model_d.compile(loss = \"categorical_crossentropy\", optimizer = optimizers.SGD(learning_rate=0.0001, momentum=0.9), metrics=[\"accuracy\"])"
   ]
  },
  {
   "cell_type": "code",
   "execution_count": null,
   "metadata": {
    "colab": {
     "base_uri": "https://localhost:8080/"
    },
    "id": "Z0qDteoMHByM",
    "outputId": "b7f52961-8d94-42d0-a327-1c51bb97d04f"
   },
   "outputs": [
    {
     "name": "stdout",
     "output_type": "stream",
     "text": [
      "Model: \"sequential_2\"\n",
      "_________________________________________________________________\n",
      " Layer (type)                Output Shape              Param #   \n",
      "=================================================================\n",
      " conv2d_8 (Conv2D)           (None, 126, 126, 64)      1792      \n",
      "                                                                 \n",
      " max_pooling2d_8 (MaxPooling  (None, 63, 63, 64)       0         \n",
      " 2D)                                                             \n",
      "                                                                 \n",
      " batch_normalization (BatchN  (None, 63, 63, 64)       256       \n",
      " ormalization)                                                   \n",
      "                                                                 \n",
      " conv2d_9 (Conv2D)           (None, 61, 61, 64)        36928     \n",
      "                                                                 \n",
      " max_pooling2d_9 (MaxPooling  (None, 30, 30, 64)       0         \n",
      " 2D)                                                             \n",
      "                                                                 \n",
      " conv2d_10 (Conv2D)          (None, 28, 28, 128)       73856     \n",
      "                                                                 \n",
      " dropout (Dropout)           (None, 28, 28, 128)       0         \n",
      "                                                                 \n",
      " max_pooling2d_10 (MaxPoolin  (None, 14, 14, 128)      0         \n",
      " g2D)                                                            \n",
      "                                                                 \n",
      " conv2d_11 (Conv2D)          (None, 12, 12, 128)       147584    \n",
      "                                                                 \n",
      " dropout_1 (Dropout)         (None, 12, 12, 128)       0         \n",
      "                                                                 \n",
      " max_pooling2d_11 (MaxPoolin  (None, 6, 6, 128)        0         \n",
      " g2D)                                                            \n",
      "                                                                 \n",
      " flatten_2 (Flatten)         (None, 4608)              0         \n",
      "                                                                 \n",
      " dense_4 (Dense)             (None, 512)               2359808   \n",
      "                                                                 \n",
      " dropout_2 (Dropout)         (None, 512)               0         \n",
      "                                                                 \n",
      " dense_5 (Dense)             (None, 102)               52326     \n",
      "                                                                 \n",
      "=================================================================\n",
      "Total params: 2,672,550\n",
      "Trainable params: 2,672,422\n",
      "Non-trainable params: 128\n",
      "_________________________________________________________________\n"
     ]
    }
   ],
   "source": [
    "model_d.summary()"
   ]
  },
  {
   "cell_type": "markdown",
   "metadata": {
    "id": "djX_2UiAOHu5"
   },
   "source": [
    "Calculation:  \n",
    "\n",
    "kernel size 3x3 * 64 (channels) * 3(input has three channels) + 64(bias) = 1792\n",
    "\n",
    "Has shape  (None, 111, 111, 64) and parameter is 0  \n",
    "\n",
    "64 x 64 x 3 x 3 + 64 = 36928   \n",
    "\n",
    "Has shape  (None, 54, 54, 64) and parameter is 0  \n",
    "\n",
    "64 x 128 x 3 x 3 + 128 = 73856 \n",
    "\n",
    "Has shape  (None, 52, 52, 128) and parameter is  0\n",
    "\n",
    "Has shape (None, 26, 26, 128) and parameter is  0   \n",
    "\n",
    "128 x 128 x 3 x 3 + 128 = 147584  \n",
    "\n",
    "Has shape (None, 24, 24, 128) and parameter is  0\n",
    "\n",
    "Has shape (None, 12, 12, 128) and parameter is 0\n",
    "\n",
    "Has shape (None, 18432) and parameter is 0\n",
    "\n",
    "18432 x 512 + 512 = 9437696   \n",
    "\n",
    "Has shape (None, 512) and parameter is 0\n",
    "\n",
    "512 x 3 + 3 = 1539 "
   ]
  },
  {
   "cell_type": "code",
   "execution_count": null,
   "metadata": {
    "colab": {
     "base_uri": "https://localhost:8080/"
    },
    "id": "_YN30KFt3W0H",
    "outputId": "fc01a1b2-7e91-42a9-c6f5-95d1243f491b"
   },
   "outputs": [
    {
     "name": "stdout",
     "output_type": "stream",
     "text": [
      "Epoch 1/10\n",
      "353/353 [==============================] - 125s 351ms/step - loss: 0.1703 - accuracy: 0.9783 - val_loss: 0.1139 - val_accuracy: 0.9850\n",
      "Epoch 2/10\n",
      "353/353 [==============================] - 123s 350ms/step - loss: 0.0800 - accuracy: 0.9852 - val_loss: 0.1018 - val_accuracy: 0.9850\n",
      "Epoch 3/10\n",
      "353/353 [==============================] - 122s 345ms/step - loss: 0.0751 - accuracy: 0.9853 - val_loss: 0.0962 - val_accuracy: 0.9850\n",
      "Epoch 4/10\n",
      "353/353 [==============================] - 124s 350ms/step - loss: 0.0712 - accuracy: 0.9851 - val_loss: 0.0810 - val_accuracy: 0.9850\n",
      "Epoch 5/10\n",
      "353/353 [==============================] - 124s 351ms/step - loss: 0.0694 - accuracy: 0.9848 - val_loss: 0.0803 - val_accuracy: 0.9850\n",
      "Epoch 6/10\n",
      "353/353 [==============================] - 122s 347ms/step - loss: 0.0670 - accuracy: 0.9851 - val_loss: 0.0806 - val_accuracy: 0.9850\n",
      "Epoch 7/10\n",
      "353/353 [==============================] - 123s 348ms/step - loss: 0.0661 - accuracy: 0.9852 - val_loss: 0.0830 - val_accuracy: 0.9850\n",
      "Epoch 8/10\n",
      "353/353 [==============================] - 122s 345ms/step - loss: 0.0647 - accuracy: 0.9852 - val_loss: 0.0780 - val_accuracy: 0.9850\n",
      "Epoch 9/10\n",
      "353/353 [==============================] - 123s 347ms/step - loss: 0.0620 - accuracy: 0.9852 - val_loss: 0.0803 - val_accuracy: 0.9850\n",
      "Epoch 10/10\n",
      "353/353 [==============================] - 119s 338ms/step - loss: 0.0620 - accuracy: 0.9851 - val_loss: 0.0874 - val_accuracy: 0.9850\n"
     ]
    }
   ],
   "source": [
    "epochs=10\n",
    "batch_size=32\n",
    "history = model_d.fit(x_train, y_train, epochs=epochs, batch_size=batch_size, validation_data=(X_test, y_test), shuffle=True)"
   ]
  },
  {
   "cell_type": "code",
   "execution_count": null,
   "metadata": {
    "colab": {
     "base_uri": "https://localhost:8080/",
     "height": 283
    },
    "id": "vctcCr_m922I",
    "outputId": "059e8117-e10b-4b66-c671-345fed4d5bad"
   },
   "outputs": [
    {
     "data": {
      "text/plain": [
       "<matplotlib.legend.Legend at 0x7f1ab4529b20>"
      ]
     },
     "execution_count": 57,
     "metadata": {},
     "output_type": "execute_result"
    },
    {
     "data": {
      "image/png": "[encoded data removed]",
      "text/plain": [
       "<Figure size 432x288 with 1 Axes>"
      ]
     },
     "metadata": {
      "needs_background": "light"
     },
     "output_type": "display_data"
    }
   ],
   "source": [
    "plt.plot(history.history['loss'], label='Training loss')\n",
    "plt.plot(history.history['val_loss'], label = 'Test loss')\n",
    "plt.legend()"
   ]
  },
  {
   "cell_type": "code",
   "execution_count": null,
   "metadata": {
    "colab": {
     "base_uri": "https://localhost:8080/"
    },
    "id": "meQIUWcy_iVf",
    "outputId": "e03a21d9-8235-4e9d-f853-645f2c211879"
   },
   "outputs": [
    {
     "name": "stdout",
     "output_type": "stream",
     "text": [
      "353/353 [==============================] - 19s 55ms/step - loss: 0.0812 - accuracy: 0.9852\n",
      "Training Accuracy: 98.52%\n",
      "\n",
      "71/71 [==============================] - 4s 57ms/step - loss: 0.0874 - accuracy: 0.9850\n",
      "Testing Accuracy: 98.50%\n",
      "\n"
     ]
    }
   ],
   "source": [
    "scores = model_d.evaluate(x_train,y_train)\n",
    "print(\"Training Accuracy: %.2f%%\\n\" % (scores[1]*100))\n",
    "scores = model_d.evaluate(X_test,y_test)\n",
    "print(\"Testing Accuracy: %.2f%%\\n\" % (scores[1]*100))"
   ]
  },
  {
   "cell_type": "code",
   "execution_count": null,
   "metadata": {
    "colab": {
     "base_uri": "https://localhost:8080/"
    },
    "id": "6tOLGsjp96Sj",
    "outputId": "4a324edf-af84-4570-ccd9-ed625bba9af1"
   },
   "outputs": [
    {
     "name": "stdout",
     "output_type": "stream",
     "text": [
      "71/71 [==============================] - 4s 55ms/step\n",
      "[[2229    0]\n",
      " [  34    0]]\n"
     ]
    }
   ],
   "source": [
    "predictions = model_d.predict(X_test)\n",
    "y_pred=np.argmax(y_pred, axis=1)\n",
    "yy_test=np.argmax(y_test, axis=1)\n",
    "cm = confusion_matrix(yy_test, y_pred)\n",
    "print(cm)"
   ]
  },
  {
   "cell_type": "code",
   "execution_count": null,
   "metadata": {
    "id": "DyhCfIWu96U5"
   },
   "outputs": [],
   "source": []
  },
  {
   "cell_type": "code",
   "execution_count": null,
   "metadata": {
    "id": "MysCjeFwAE9r"
   },
   "outputs": [],
   "source": [
    "from tensorflow.keras import layers\n",
    "IMG_SIZE = 128"
   ]
  },
  {
   "cell_type": "code",
   "execution_count": null,
   "metadata": {
    "colab": {
     "base_uri": "https://localhost:8080/"
    },
    "id": "tebB3KTYxgCa",
    "outputId": "c143500f-2ffe-4414-a026-b8de89b7bdab"
   },
   "outputs": [
    {
     "name": "stdout",
     "output_type": "stream",
     "text": [
      "Downloading data from https://storage.googleapis.com/tensorflow/keras-applications/vgg19/vgg19_weights_tf_dim_ordering_tf_kernels_notop.h5\n",
      "80134624/80134624 [==============================] - 1s 0us/step\n"
     ]
    }
   ],
   "source": [
    "from keras import applications\n",
    "model = applications.VGG19(weights = \"imagenet\", include_top=False, input_shape = (IMG_SIZE, IMG_SIZE, 3))"
   ]
  },
  {
   "cell_type": "code",
   "execution_count": null,
   "metadata": {
    "id": "20z32hNLxgE-"
   },
   "outputs": [],
   "source": [
    "# Freeze the layers which you don't want to train. \n",
    "for layer in model.layers[:20]:\n",
    "    layer.trainable = False"
   ]
  },
  {
   "cell_type": "code",
   "execution_count": null,
   "metadata": {
    "id": "9swC5nEJxgHV"
   },
   "outputs": [],
   "source": [
    "x = model.output\n",
    "x = Flatten()(x)\n",
    "x = Dense(1024, activation=\"relu\")(x)\n",
    "x = Dropout(0.5)(x)\n",
    "x = Dense(1024, activation=\"relu\")(x)\n",
    "predictions = Dense(102, activation=\"softmax\")(x)\n",
    "\n",
    "model_final = Model(model.input, predictions)"
   ]
  },
  {
   "cell_type": "code",
   "execution_count": null,
   "metadata": {
    "colab": {
     "base_uri": "https://localhost:8080/"
    },
    "id": "hUehwkLCdr87",
    "outputId": "10081a45-e772-4412-dfe2-78dc366e9a64"
   },
   "outputs": [
    {
     "name": "stdout",
     "output_type": "stream",
     "text": [
      "Model: \"model\"\n",
      "_________________________________________________________________\n",
      " Layer (type)                Output Shape              Param #   \n",
      "=================================================================\n",
      " input_1 (InputLayer)        [(None, 128, 128, 3)]     0         \n",
      "                                                                 \n",
      " block1_conv1 (Conv2D)       (None, 128, 128, 64)      1792      \n",
      "                                                                 \n",
      " block1_conv2 (Conv2D)       (None, 128, 128, 64)      36928     \n",
      "                                                                 \n",
      " block1_pool (MaxPooling2D)  (None, 64, 64, 64)        0         \n",
      "                                                                 \n",
      " block2_conv1 (Conv2D)       (None, 64, 64, 128)       73856     \n",
      "                                                                 \n",
      " block2_conv2 (Conv2D)       (None, 64, 64, 128)       147584    \n",
      "                                                                 \n",
      " block2_pool (MaxPooling2D)  (None, 32, 32, 128)       0         \n",
      "                                                                 \n",
      " block3_conv1 (Conv2D)       (None, 32, 32, 256)       295168    \n",
      "                                                                 \n",
      " block3_conv2 (Conv2D)       (None, 32, 32, 256)       590080    \n",
      "                                                                 \n",
      " block3_conv3 (Conv2D)       (None, 32, 32, 256)       590080    \n",
      "                                                                 \n",
      " block3_conv4 (Conv2D)       (None, 32, 32, 256)       590080    \n",
      "                                                                 \n",
      " block3_pool (MaxPooling2D)  (None, 16, 16, 256)       0         \n",
      "                                                                 \n",
      " block4_conv1 (Conv2D)       (None, 16, 16, 512)       1180160   \n",
      "                                                                 \n",
      " block4_conv2 (Conv2D)       (None, 16, 16, 512)       2359808   \n",
      "                                                                 \n",
      " block4_conv3 (Conv2D)       (None, 16, 16, 512)       2359808   \n",
      "                                                                 \n",
      " block4_conv4 (Conv2D)       (None, 16, 16, 512)       2359808   \n",
      "                                                                 \n",
      " block4_pool (MaxPooling2D)  (None, 8, 8, 512)         0         \n",
      "                                                                 \n",
      " block5_conv1 (Conv2D)       (None, 8, 8, 512)         2359808   \n",
      "                                                                 \n",
      " block5_conv2 (Conv2D)       (None, 8, 8, 512)         2359808   \n",
      "                                                                 \n",
      " block5_conv3 (Conv2D)       (None, 8, 8, 512)         2359808   \n",
      "                                                                 \n",
      " block5_conv4 (Conv2D)       (None, 8, 8, 512)         2359808   \n",
      "                                                                 \n",
      " block5_pool (MaxPooling2D)  (None, 4, 4, 512)         0         \n",
      "                                                                 \n",
      " flatten_3 (Flatten)         (None, 8192)              0         \n",
      "                                                                 \n",
      " dense_6 (Dense)             (None, 1024)              8389632   \n",
      "                                                                 \n",
      " dropout_3 (Dropout)         (None, 1024)              0         \n",
      "                                                                 \n",
      " dense_7 (Dense)             (None, 1024)              1049600   \n",
      "                                                                 \n",
      " dense_8 (Dense)             (None, 102)               104550    \n",
      "                                                                 \n",
      "=================================================================\n",
      "Total params: 29,568,166\n",
      "Trainable params: 11,903,590\n",
      "Non-trainable params: 17,664,576\n",
      "_________________________________________________________________\n"
     ]
    }
   ],
   "source": [
    "model_final.summary()"
   ]
  },
  {
   "cell_type": "code",
   "execution_count": null,
   "metadata": {
    "id": "JJLJ0GiSxgJq"
   },
   "outputs": [],
   "source": [
    "model_final.compile(loss = \"categorical_crossentropy\", optimizer = optimizers.SGD(learning_rate=0.0001, momentum=0.9), metrics=[\"accuracy\"])"
   ]
  },
  {
   "cell_type": "code",
   "execution_count": null,
   "metadata": {
    "colab": {
     "base_uri": "https://localhost:8080/"
    },
    "id": "Y1e5NBkc3ej5",
    "outputId": "92a48c8c-2c9b-4a0d-cec7-baed404ccaff"
   },
   "outputs": [
    {
     "name": "stdout",
     "output_type": "stream",
     "text": [
      "Epoch 1/10\n",
      "353/353 [==============================] - 207s 585ms/step - loss: 0.6409 - accuracy: 0.9736 - val_loss: 0.1702 - val_accuracy: 0.9646\n",
      "Epoch 2/10\n",
      "353/353 [==============================] - 208s 589ms/step - loss: 0.1009 - accuracy: 0.9846 - val_loss: 0.1163 - val_accuracy: 0.9770\n",
      "Epoch 3/10\n",
      "353/353 [==============================] - 207s 587ms/step - loss: 0.0439 - accuracy: 0.9908 - val_loss: 0.1096 - val_accuracy: 0.9823\n",
      "Epoch 4/10\n",
      "353/353 [==============================] - 208s 590ms/step - loss: 0.0245 - accuracy: 0.9936 - val_loss: 0.1192 - val_accuracy: 0.9841\n",
      "Epoch 5/10\n",
      "353/353 [==============================] - 207s 588ms/step - loss: 0.0142 - accuracy: 0.9967 - val_loss: 0.1191 - val_accuracy: 0.9850\n",
      "Epoch 6/10\n",
      "353/353 [==============================] - 207s 585ms/step - loss: 0.0180 - accuracy: 0.9946 - val_loss: 0.1205 - val_accuracy: 0.9814\n",
      "Epoch 7/10\n",
      "353/353 [==============================] - 207s 586ms/step - loss: 0.0110 - accuracy: 0.9970 - val_loss: 0.1235 - val_accuracy: 0.9854\n",
      "Epoch 8/10\n",
      "353/353 [==============================] - 208s 590ms/step - loss: 0.0091 - accuracy: 0.9975 - val_loss: 0.1192 - val_accuracy: 0.9837\n",
      "Epoch 9/10\n",
      "353/353 [==============================] - 210s 595ms/step - loss: 0.0082 - accuracy: 0.9979 - val_loss: 0.1189 - val_accuracy: 0.9845\n",
      "Epoch 10/10\n",
      "353/353 [==============================] - 210s 594ms/step - loss: 0.0042 - accuracy: 0.9988 - val_loss: 0.1302 - val_accuracy: 0.9867\n"
     ]
    }
   ],
   "source": [
    "epochs = 10 \n",
    "batch_size=32\n",
    "history = model_final.fit(x_train, y_train, epochs=epochs, validation_data=(X_test, y_test), shuffle=True)"
   ]
  },
  {
   "cell_type": "code",
   "execution_count": null,
   "metadata": {
    "colab": {
     "base_uri": "https://localhost:8080/",
     "height": 283
    },
    "id": "6SQVcHJ5JnYo",
    "outputId": "f6d60067-9b89-4db9-d69f-d207939ef981"
   },
   "outputs": [
    {
     "data": {
      "text/plain": [
       "<matplotlib.legend.Legend at 0x7f1ab4e4e310>"
      ]
     },
     "execution_count": 70,
     "metadata": {},
     "output_type": "execute_result"
    },
    {
     "data": {
      "image/png": "[encoded data removed]",
      "text/plain": [
       "<Figure size 432x288 with 1 Axes>"
      ]
     },
     "metadata": {
      "needs_background": "light"
     },
     "output_type": "display_data"
    }
   ],
   "source": [
    "plt.plot(history.history['loss'], label='Training loss')\n",
    "plt.plot(history.history['val_loss'], label = 'Test loss')\n",
    "plt.legend()"
   ]
  },
  {
   "cell_type": "code",
   "execution_count": null,
   "metadata": {
    "colab": {
     "base_uri": "https://localhost:8080/"
    },
    "id": "TJpKukAdzFco",
    "outputId": "6e9d18ed-4270-4997-dd14-87ae769c4996"
   },
   "outputs": [
    {
     "name": "stdout",
     "output_type": "stream",
     "text": [
      "353/353 [==============================] - 161s 457ms/step - loss: 2.1180e-04 - accuracy: 1.0000\n",
      "Training Accuracy: 100.00%\n",
      "\n",
      "71/71 [==============================] - 32s 452ms/step - loss: 0.1302 - accuracy: 0.9867\n",
      "Testing Accuracy: 98.67%\n",
      "\n"
     ]
    }
   ],
   "source": [
    "scores = model_final.evaluate(x_train,y_train)\n",
    "print(\"Training Accuracy: %.2f%%\\n\" % (scores[1]*100))\n",
    "scores = model_final.evaluate(X_test,y_test)\n",
    "print(\"Testing Accuracy: %.2f%%\\n\" % (scores[1]*100))"
   ]
  },
  {
   "cell_type": "code",
   "execution_count": null,
   "metadata": {
    "colab": {
     "base_uri": "https://localhost:8080/"
    },
    "id": "Os2Twg-II-BE",
    "outputId": "0cfdedff-2721-4cd8-dff0-e83b99dd5f6b"
   },
   "outputs": [
    {
     "name": "stdout",
     "output_type": "stream",
     "text": [
      "71/71 [==============================] - 33s 463ms/step\n",
      "71/71 [==============================] - 32s 455ms/step\n",
      "[[2221    8]\n",
      " [  22   12]]\n"
     ]
    }
   ],
   "source": [
    "predictions = model_final.predict(X_test)\n",
    "y_pred=model_final.predict(X_test) \n",
    "y_pred=np.argmax(y_pred, axis=1)\n",
    "yy_test=np.argmax(y_test, axis=1)\n",
    "cm = confusion_matrix(yy_test, y_pred)\n",
    "print(cm)"
   ]
  },
  {
   "cell_type": "code",
   "execution_count": null,
   "metadata": {
    "colab": {
     "base_uri": "https://localhost:8080/"
    },
    "id": "PkgHjFjNJCNU",
    "outputId": "3b2348f4-1b8c-4c45-8818-b42f3f74fca7"
   },
   "outputs": [
    {
     "name": "stdout",
     "output_type": "stream",
     "text": [
      "              precision    recall  f1-score   support\n",
      "\n",
      "           0       0.99      1.00      0.99      2229\n",
      "           1       0.60      0.35      0.44        34\n",
      "\n",
      "    accuracy                           0.99      2263\n",
      "   macro avg       0.80      0.67      0.72      2263\n",
      "weighted avg       0.98      0.99      0.99      2263\n",
      "\n"
     ]
    }
   ],
   "source": [
    "from sklearn.metrics import classification_report\n",
    "print(classification_report(yy_test, y_pred))"
   ]
  },
  {
   "cell_type": "code",
   "execution_count": null,
   "metadata": {
    "id": "SwiUXgD1QZPu"
   },
   "outputs": [],
   "source": []
  },
  {
   "cell_type": "code",
   "execution_count": null,
   "metadata": {
    "id": "regKuWTPCH6M"
   },
   "outputs": [],
   "source": []
  },
  {
   "cell_type": "code",
   "execution_count": null,
   "metadata": {
    "colab": {
     "base_uri": "https://localhost:8080/"
    },
    "id": "9Cqbkrd_sJAv",
    "outputId": "2ec24e83-e924-4aa1-8677-dcba80ccc25e"
   },
   "outputs": [
    {
     "name": "stdout",
     "output_type": "stream",
     "text": [
      "Downloading data from https://storage.googleapis.com/keras-applications/efficientnetb0_notop.h5\n",
      "16705208/16705208 [==============================] - 0s 0us/step\n"
     ]
    }
   ],
   "source": [
    "model = applications.EfficientNetB0(weights = \"imagenet\", include_top=False, input_shape = (IMG_SIZE, IMG_SIZE, 3))"
   ]
  },
  {
   "cell_type": "code",
   "execution_count": null,
   "metadata": {
    "id": "5autZwvssJC9"
   },
   "outputs": [],
   "source": [
    "for layer in model.layers[:20]:\n",
    "    layer.trainable = False"
   ]
  },
  {
   "cell_type": "code",
   "execution_count": null,
   "metadata": {
    "id": "mgiZH_9YsJFc"
   },
   "outputs": [],
   "source": [
    "#Adding custom Layers \n",
    "x = model.output\n",
    "x = Flatten()(x)\n",
    "x = Dense(1024, activation=\"relu\")(x)\n",
    "x = Dropout(0.5)(x)\n",
    "x = Dense(1024, activation=\"relu\")(x)\n",
    "predictions = Dense(102, activation=\"softmax\")(x)\n",
    "\n",
    "model_final_2 = Model(model.input, predictions)"
   ]
  },
  {
   "cell_type": "code",
   "execution_count": null,
   "metadata": {
    "id": "2uK2zImssJHy"
   },
   "outputs": [],
   "source": [
    "model_final_2.compile(loss = \"categorical_crossentropy\", optimizer = optimizers.SGD(learning_rate=0.0001, momentum=0.9), metrics=[\"accuracy\"])"
   ]
  },
  {
   "cell_type": "code",
   "execution_count": null,
   "metadata": {
    "colab": {
     "base_uri": "https://localhost:8080/"
    },
    "id": "Yw1-14WJsJKK",
    "outputId": "1c14673d-2d00-445b-bb2f-c9c008dac8bf"
   },
   "outputs": [
    {
     "name": "stdout",
     "output_type": "stream",
     "text": [
      "Epoch 1/10\n",
      "353/353 [==============================] - 279s 765ms/step - loss: 0.3509 - accuracy: 0.9498 - val_loss: 0.1703 - val_accuracy: 0.9850\n",
      "Epoch 2/10\n",
      "353/353 [==============================] - 256s 724ms/step - loss: 0.1217 - accuracy: 0.9852 - val_loss: 0.1369 - val_accuracy: 0.9850\n",
      "Epoch 3/10\n",
      "353/353 [==============================] - 258s 731ms/step - loss: 0.0927 - accuracy: 0.9852 - val_loss: 0.1152 - val_accuracy: 0.9850\n",
      "Epoch 4/10\n",
      "353/353 [==============================] - 249s 706ms/step - loss: 0.0754 - accuracy: 0.9851 - val_loss: 0.0977 - val_accuracy: 0.9850\n",
      "Epoch 5/10\n",
      "353/353 [==============================] - 241s 683ms/step - loss: 0.0650 - accuracy: 0.9851 - val_loss: 0.0845 - val_accuracy: 0.9850\n",
      "Epoch 6/10\n",
      "353/353 [==============================] - 257s 728ms/step - loss: 0.0593 - accuracy: 0.9851 - val_loss: 0.0767 - val_accuracy: 0.9850\n",
      "Epoch 7/10\n",
      "353/353 [==============================] - 246s 698ms/step - loss: 0.0564 - accuracy: 0.9857 - val_loss: 0.0713 - val_accuracy: 0.9850\n",
      "Epoch 8/10\n",
      "353/353 [==============================] - 247s 699ms/step - loss: 0.0479 - accuracy: 0.9863 - val_loss: 0.0661 - val_accuracy: 0.9854\n",
      "Epoch 9/10\n",
      "353/353 [==============================] - 258s 731ms/step - loss: 0.0465 - accuracy: 0.9856 - val_loss: 0.0638 - val_accuracy: 0.9863\n",
      "Epoch 10/10\n",
      "353/353 [==============================] - 253s 715ms/step - loss: 0.0448 - accuracy: 0.9875 - val_loss: 0.0616 - val_accuracy: 0.9867\n"
     ]
    }
   ],
   "source": [
    "epochs = 10\n",
    "batch_size=32\n",
    "history = model_final_2.fit(x_train, y_train, batch_size=batch_size, epochs=epochs, validation_data=(X_test, y_test), shuffle=True)"
   ]
  },
  {
   "cell_type": "code",
   "execution_count": null,
   "metadata": {
    "colab": {
     "base_uri": "https://localhost:8080/",
     "height": 283
    },
    "id": "wQg-QkUcLClo",
    "outputId": "0c47c5a9-b83e-4bc6-eabb-cd9904f9a14d"
   },
   "outputs": [
    {
     "data": {
      "text/plain": [
       "<matplotlib.legend.Legend at 0x7f1ab4698c40>"
      ]
     },
     "execution_count": 79,
     "metadata": {},
     "output_type": "execute_result"
    },
    {
     "data": {
      "image/png": "[encoded data removed]",
      "text/plain": [
       "<Figure size 432x288 with 1 Axes>"
      ]
     },
     "metadata": {
      "needs_background": "light"
     },
     "output_type": "display_data"
    }
   ],
   "source": [
    "plt.plot(history.history['loss'], label='Training loss')\n",
    "plt.plot(history.history['val_loss'], label = 'Test loss')\n",
    "plt.legend()"
   ]
  },
  {
   "cell_type": "code",
   "execution_count": null,
   "metadata": {
    "colab": {
     "base_uri": "https://localhost:8080/"
    },
    "id": "PwqT3aOgy_Ft",
    "outputId": "5dddcdb5-a1b1-43e0-d4b3-ed663e96d218"
   },
   "outputs": [
    {
     "name": "stdout",
     "output_type": "stream",
     "text": [
      "353/353 [==============================] - 52s 146ms/step - loss: 0.0423 - accuracy: 0.9911\n",
      "Training Accuracy: 99.11%\n",
      "\n",
      "71/71 [==============================] - 11s 157ms/step - loss: 0.0616 - accuracy: 0.9867\n",
      "Testing Accuracy: 98.67%\n",
      "\n"
     ]
    }
   ],
   "source": [
    "scores = model_final_2.evaluate(x_train,y_train)\n",
    "print(\"Training Accuracy: %.2f%%\\n\" % (scores[1]*100))\n",
    "scores = model_final_2.evaluate(X_test,y_test)\n",
    "print(\"Testing Accuracy: %.2f%%\\n\" % (scores[1]*100))"
   ]
  },
  {
   "cell_type": "code",
   "execution_count": null,
   "metadata": {
    "colab": {
     "base_uri": "https://localhost:8080/"
    },
    "id": "4-vVyIo6J8k0",
    "outputId": "0a2bd58e-9ffa-49ba-e3b9-ced302e745e5"
   },
   "outputs": [
    {
     "name": "stdout",
     "output_type": "stream",
     "text": [
      "71/71 [==============================] - 12s 150ms/step\n",
      "71/71 [==============================] - 10s 144ms/step\n",
      "[[2229    0]\n",
      " [  30    4]]\n"
     ]
    }
   ],
   "source": [
    "predictions = model_final_2.predict(X_test)\n",
    "y_pred=model_final_2.predict(X_test) \n",
    "y_pred=np.argmax(y_pred, axis=1)\n",
    "yy_test=np.argmax(y_test, axis=1)\n",
    "cm = confusion_matrix(yy_test, y_pred)\n",
    "print(cm)"
   ]
  },
  {
   "cell_type": "code",
   "execution_count": null,
   "metadata": {
    "colab": {
     "base_uri": "https://localhost:8080/"
    },
    "id": "SNNGGDqxJ8nZ",
    "outputId": "ad361e4d-2a93-4f96-ca24-d4961ce3f366"
   },
   "outputs": [
    {
     "name": "stdout",
     "output_type": "stream",
     "text": [
      "              precision    recall  f1-score   support\n",
      "\n",
      "           0       0.99      1.00      0.99      2229\n",
      "           1       1.00      0.12      0.21        34\n",
      "\n",
      "    accuracy                           0.99      2263\n",
      "   macro avg       0.99      0.56      0.60      2263\n",
      "weighted avg       0.99      0.99      0.98      2263\n",
      "\n"
     ]
    }
   ],
   "source": [
    "from sklearn.metrics import classification_report\n",
    "print(classification_report(yy_test, y_pred))"
   ]
  },
  {
   "cell_type": "code",
   "execution_count": null,
   "metadata": {
    "id": "LITz4NfgJ8xJ"
   },
   "outputs": [],
   "source": []
  },
  {
   "cell_type": "code",
   "execution_count": null,
   "metadata": {
    "colab": {
     "base_uri": "https://localhost:8080/"
    },
    "id": "USRe9klnsJMg",
    "outputId": "1b753887-12bf-4427-993e-d7861a04c8b7"
   },
   "outputs": [
    {
     "name": "stdout",
     "output_type": "stream",
     "text": [
      "Downloading data from https://storage.googleapis.com/tensorflow/keras-applications/resnet/resnet50_weights_tf_dim_ordering_tf_kernels_notop.h5\n",
      "94765736/94765736 [==============================] - 1s 0us/step\n"
     ]
    }
   ],
   "source": [
    "model = applications.ResNet50(weights = \"imagenet\", include_top=False, input_shape = (IMG_SIZE, IMG_SIZE, 3))"
   ]
  },
  {
   "cell_type": "code",
   "execution_count": null,
   "metadata": {
    "id": "5iWyVrsCsJOs"
   },
   "outputs": [],
   "source": [
    "# Freeze the layers which you don't want to train. \n",
    "for layer in model.layers[:20]:\n",
    "    layer.trainable = False"
   ]
  },
  {
   "cell_type": "code",
   "execution_count": null,
   "metadata": {
    "id": "lqma6kXYsJRS"
   },
   "outputs": [],
   "source": [
    "x = model.output\n",
    "x = Flatten()(x)\n",
    "x = Dense(1024, activation=\"relu\")(x)\n",
    "x = Dropout(0.5)(x)\n",
    "x = Dense(1024, activation=\"relu\")(x)\n",
    "predictions = Dense(102, activation=\"softmax\")(x)\n",
    "\n",
    "model_final_3 = Model(model.input, predictions)"
   ]
  },
  {
   "cell_type": "code",
   "execution_count": null,
   "metadata": {
    "id": "9qXULikMsJTm"
   },
   "outputs": [],
   "source": [
    "model_final_3.compile(loss = \"categorical_crossentropy\", optimizer = optimizers.SGD(learning_rate=0.0001, momentum=0.9), metrics=[\"accuracy\"])"
   ]
  },
  {
   "cell_type": "code",
   "execution_count": null,
   "metadata": {
    "colab": {
     "base_uri": "https://localhost:8080/"
    },
    "id": "6Zizgl5u30sT",
    "outputId": "dab75f86-da19-4ec3-e367-4a1b05faed8b"
   },
   "outputs": [
    {
     "name": "stdout",
     "output_type": "stream",
     "text": [
      "Epoch 1/10\n",
      "353/353 [==============================] - 350s 975ms/step - loss: 0.1930 - accuracy: 0.9712 - val_loss: 0.0697 - val_accuracy: 0.9850\n",
      "Epoch 2/10\n",
      "353/353 [==============================] - 337s 954ms/step - loss: 0.0564 - accuracy: 0.9859 - val_loss: 0.0555 - val_accuracy: 0.9863\n",
      "Epoch 3/10\n",
      "353/353 [==============================] - 327s 925ms/step - loss: 0.0385 - accuracy: 0.9877 - val_loss: 0.0520 - val_accuracy: 0.9876\n",
      "Epoch 4/10\n",
      "353/353 [==============================] - 335s 950ms/step - loss: 0.0284 - accuracy: 0.9904 - val_loss: 0.0494 - val_accuracy: 0.9876\n",
      "Epoch 5/10\n",
      "353/353 [==============================] - 326s 924ms/step - loss: 0.0218 - accuracy: 0.9933 - val_loss: 0.0487 - val_accuracy: 0.9872\n",
      "Epoch 6/10\n",
      "353/353 [==============================] - 324s 919ms/step - loss: 0.0164 - accuracy: 0.9942 - val_loss: 0.0485 - val_accuracy: 0.9885\n",
      "Epoch 7/10\n",
      "353/353 [==============================] - 328s 928ms/step - loss: 0.0141 - accuracy: 0.9950 - val_loss: 0.0492 - val_accuracy: 0.9885\n",
      "Epoch 8/10\n",
      "353/353 [==============================] - 319s 904ms/step - loss: 0.0124 - accuracy: 0.9953 - val_loss: 0.0500 - val_accuracy: 0.9885\n",
      "Epoch 9/10\n",
      "353/353 [==============================] - 326s 923ms/step - loss: 0.0104 - accuracy: 0.9964 - val_loss: 0.0507 - val_accuracy: 0.9872\n",
      "Epoch 10/10\n",
      "353/353 [==============================] - 338s 959ms/step - loss: 0.0093 - accuracy: 0.9970 - val_loss: 0.0521 - val_accuracy: 0.9876\n"
     ]
    }
   ],
   "source": [
    "epochs = 10\n",
    "batch_size=32\n",
    "history = model_final_3.fit(x_train, y_train, batch_size=batch_size, epochs=epochs, validation_data=(X_test, y_test), shuffle=True)"
   ]
  },
  {
   "cell_type": "code",
   "execution_count": null,
   "metadata": {
    "colab": {
     "base_uri": "https://localhost:8080/",
     "height": 285
    },
    "id": "w_QgJTl5PYpS",
    "outputId": "c23e9aca-fd3f-47bb-e0ac-4867353cf180"
   },
   "outputs": [
    {
     "data": {
      "text/plain": [
       "<matplotlib.legend.Legend at 0x7f1ab4617970>"
      ]
     },
     "execution_count": 88,
     "metadata": {},
     "output_type": "execute_result"
    },
    {
     "data": {
      "image/png": "[encoded data removed]",
      "text/plain": [
       "<Figure size 432x288 with 1 Axes>"
      ]
     },
     "metadata": {
      "needs_background": "light"
     },
     "output_type": "display_data"
    }
   ],
   "source": [
    "plt.plot(history.history['loss'], label='Training loss')\n",
    "plt.plot(history.history['val_loss'], label = 'Test loss')\n",
    "plt.legend()"
   ]
  },
  {
   "cell_type": "code",
   "execution_count": null,
   "metadata": {
    "colab": {
     "base_uri": "https://localhost:8080/"
    },
    "id": "-_YBNKwEzAir",
    "outputId": "34f84465-5e7d-4cb6-944d-b0d37ea343ca"
   },
   "outputs": [
    {
     "name": "stdout",
     "output_type": "stream",
     "text": [
      "353/353 [==============================] - 74s 211ms/step - loss: 0.0020 - accuracy: 0.9998\n",
      "Training Accuracy: 99.98%\n",
      "\n",
      "71/71 [==============================] - 15s 210ms/step - loss: 0.0521 - accuracy: 0.9876\n",
      "Testing Accuracy: 98.76%\n",
      "\n"
     ]
    }
   ],
   "source": [
    "scores = model_final_3.evaluate(x_train,y_train)\n",
    "print(\"Training Accuracy: %.2f%%\\n\" % (scores[1]*100))\n",
    "scores = model_final_3.evaluate(X_test,y_test)\n",
    "print(\"Testing Accuracy: %.2f%%\\n\" % (scores[1]*100))"
   ]
  },
  {
   "cell_type": "code",
   "execution_count": null,
   "metadata": {
    "colab": {
     "base_uri": "https://localhost:8080/"
    },
    "id": "F7FjZSHI36wB",
    "outputId": "1546c9a1-dc15-4523-c99c-6e826a5692f4"
   },
   "outputs": [
    {
     "name": "stdout",
     "output_type": "stream",
     "text": [
      "71/71 [==============================] - 16s 209ms/step\n",
      "71/71 [==============================] - 15s 209ms/step\n",
      "[[2223    6]\n",
      " [  22   12]]\n"
     ]
    }
   ],
   "source": [
    "predictions = model_final_3.predict(X_test)\n",
    "y_pred=model_final_3.predict(X_test) \n",
    "y_pred=np.argmax(y_pred, axis=1)\n",
    "yy_test=np.argmax(y_test, axis=1)\n",
    "cm = confusion_matrix(yy_test, y_pred)\n",
    "print(cm)"
   ]
  },
  {
   "cell_type": "code",
   "execution_count": null,
   "metadata": {
    "colab": {
     "base_uri": "https://localhost:8080/"
    },
    "id": "QfPeTxmf36yp",
    "outputId": "11d01dda-46e3-4695-8c99-b1504a1dff99"
   },
   "outputs": [
    {
     "name": "stdout",
     "output_type": "stream",
     "text": [
      "              precision    recall  f1-score   support\n",
      "\n",
      "           0       0.99      1.00      0.99      2229\n",
      "           1       0.67      0.35      0.46        34\n",
      "\n",
      "    accuracy                           0.99      2263\n",
      "   macro avg       0.83      0.68      0.73      2263\n",
      "weighted avg       0.99      0.99      0.99      2263\n",
      "\n"
     ]
    }
   ],
   "source": [
    "from sklearn.metrics import classification_report\n",
    "print(classification_report(yy_test, y_pred))"
   ]
  },
  {
   "cell_type": "markdown",
   "metadata": {
    "id": "5tmF_FM_PXHx"
   },
   "source": [
    "The architectures of the custom models are similar so the results for accuracy and confusion matrix output are the same. ResNet50 achieved the highest accuracy from the three transfer learning models. Comparing precision EfficientNet has the highest score. Comparing recall the custom models outperformed the transfer learning models with a score of 98. Recall is low for all transfer learning models affected by the imbalanced distribution of labels."
   ]
  }
 ],
 "metadata": {
  "accelerator": "TPU",
  "colab": {
   "machine_shape": "hm",
   "provenance": []
  },
  "gpuClass": "standard",
  "kernelspec": {
   "display_name": "Python 3",
   "language": "python",
   "name": "python3"
  },
  "language_info": {
   "codemirror_mode": {
    "name": "ipython",
    "version": 3
   },
   "file_extension": ".py",
   "mimetype": "text/x-python",
   "name": "python",
   "nbconvert_exporter": "python",
   "pygments_lexer": "ipython3",
   "version": "3.8.8"
  }
 },
 "nbformat": 4,
 "nbformat_minor": 1
}
